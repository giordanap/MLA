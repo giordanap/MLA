{
 "cells": [
  {
   "cell_type": "markdown",
   "metadata": {},
   "source": [
    "# Machine Learning Advanced\n",
    "\n",
    "## Aprendizaje Supervisado - Boosting\n",
    "\n",
    "Manuel Montoya - `manuel.montoya@pucp.edu.pe`"
   ]
  },
  {
   "cell_type": "markdown",
   "metadata": {},
   "source": [
    "## Caso de uso"
   ]
  },
  {
   "cell_type": "markdown",
   "metadata": {},
   "source": [
    "<img src = 'https://datahack-prod.s3.ap-south-1.amazonaws.com/__sized__/contest_cover/loanpre-thumbnail-1200x1200.png'>"
   ]
  },
  {
   "cell_type": "markdown",
   "metadata": {},
   "source": [
    "Loan Prediction: https://datahack.analyticsvidhya.com/contest/practice-problem-loan-prediction-iii/#About"
   ]
  },
  {
   "cell_type": "markdown",
   "metadata": {},
   "source": [
    "## librerias"
   ]
  },
  {
   "cell_type": "code",
   "execution_count": 1,
   "metadata": {},
   "outputs": [],
   "source": [
    "import random\n",
    "import pandas as pd\n",
    "import numpy as np\n",
    "import sklearn\n",
    "\n",
    "import seaborn as sns\n",
    "import matplotlib.pyplot as plt"
   ]
  },
  {
   "cell_type": "code",
   "execution_count": 2,
   "metadata": {},
   "outputs": [
    {
     "data": {
      "text/plain": [
       "'1.0.3'"
      ]
     },
     "execution_count": 2,
     "metadata": {},
     "output_type": "execute_result"
    }
   ],
   "source": [
    "pd.__version__"
   ]
  },
  {
   "cell_type": "code",
   "execution_count": 3,
   "metadata": {},
   "outputs": [
    {
     "data": {
      "text/plain": [
       "'0.24.1'"
      ]
     },
     "execution_count": 3,
     "metadata": {},
     "output_type": "execute_result"
    }
   ],
   "source": [
    "sklearn.__version__"
   ]
  },
  {
   "cell_type": "code",
   "execution_count": 4,
   "metadata": {},
   "outputs": [
    {
     "data": {
      "text/plain": [
       "'0.11.0'"
      ]
     },
     "execution_count": 4,
     "metadata": {},
     "output_type": "execute_result"
    }
   ],
   "source": [
    "sns.__version__"
   ]
  },
  {
   "cell_type": "markdown",
   "metadata": {},
   "source": [
    "Usamos una semilla a lo largo de todo el notebook para los procesos aleatorios"
   ]
  },
  {
   "cell_type": "code",
   "execution_count": 5,
   "metadata": {},
   "outputs": [],
   "source": [
    "seed = 2021"
   ]
  },
  {
   "cell_type": "code",
   "execution_count": 6,
   "metadata": {},
   "outputs": [],
   "source": [
    "target = 'Loan_Status'"
   ]
  },
  {
   "cell_type": "markdown",
   "metadata": {},
   "source": [
    "## bases"
   ]
  },
  {
   "cell_type": "code",
   "execution_count": 7,
   "metadata": {},
   "outputs": [],
   "source": [
    "train = pd.read_csv('train_preprocesed.csv')\n",
    "test = pd.read_csv('test_preprocesed.csv')"
   ]
  },
  {
   "cell_type": "code",
   "execution_count": 8,
   "metadata": {},
   "outputs": [
    {
     "data": {
      "text/plain": [
       "((491, 17), (123, 17))"
      ]
     },
     "execution_count": 8,
     "metadata": {},
     "output_type": "execute_result"
    }
   ],
   "source": [
    "train.shape, test.shape"
   ]
  },
  {
   "cell_type": "code",
   "execution_count": 9,
   "metadata": {},
   "outputs": [],
   "source": [
    "X_train = train.drop(target, axis = 1)\n",
    "y_train = train[target]\n",
    "\n",
    "X_test = test.drop(target, axis = 1)\n",
    "y_test = test[target]"
   ]
  },
  {
   "cell_type": "code",
   "execution_count": 10,
   "metadata": {},
   "outputs": [
    {
     "data": {
      "text/plain": [
       "((491, 16), (491,))"
      ]
     },
     "execution_count": 10,
     "metadata": {},
     "output_type": "execute_result"
    }
   ],
   "source": [
    "X_train.shape, y_train.shape"
   ]
  },
  {
   "cell_type": "code",
   "execution_count": 11,
   "metadata": {},
   "outputs": [
    {
     "data": {
      "text/plain": [
       "((123, 16), (123,))"
      ]
     },
     "execution_count": 11,
     "metadata": {},
     "output_type": "execute_result"
    }
   ],
   "source": [
    "X_test.shape, y_test.shape"
   ]
  },
  {
   "cell_type": "markdown",
   "metadata": {},
   "source": [
    "## XGboost"
   ]
  },
  {
   "cell_type": "code",
   "execution_count": 12,
   "metadata": {
    "scrolled": true
   },
   "outputs": [
    {
     "name": "stderr",
     "output_type": "stream",
     "text": [
      "/Users/manuel/opt/anaconda3/lib/python3.7/site-packages/dask/dataframe/utils.py:14: FutureWarning: pandas.util.testing is deprecated. Use the functions in the public API at pandas.testing instead.\n",
      "  import pandas.util.testing as tm\n"
     ]
    }
   ],
   "source": [
    "import xgboost as xgb"
   ]
  },
  {
   "cell_type": "code",
   "execution_count": 13,
   "metadata": {},
   "outputs": [],
   "source": [
    "dtrain = xgb.DMatrix(data=X_train, label = y_train)\n",
    "dtest = xgb.DMatrix(data=X_test,   label = y_test)"
   ]
  },
  {
   "cell_type": "code",
   "execution_count": 14,
   "metadata": {
    "scrolled": false
   },
   "outputs": [
    {
     "name": "stdout",
     "output_type": "stream",
     "text": [
      "[0]\ttrain-auc:0.77463\ttest-auc:0.68266\n",
      "Multiple eval metrics have been passed: 'test-auc' will be used for early stopping.\n",
      "\n",
      "Will train until test-auc hasn't improved in 50 rounds.\n",
      "[1]\ttrain-auc:0.77485\ttest-auc:0.68328\n",
      "[2]\ttrain-auc:0.77496\ttest-auc:0.68359\n",
      "[3]\ttrain-auc:0.77857\ttest-auc:0.68034\n",
      "[4]\ttrain-auc:0.78394\ttest-auc:0.69195\n",
      "[5]\ttrain-auc:0.78400\ttest-auc:0.69195\n",
      "[6]\ttrain-auc:0.78420\ttest-auc:0.69195\n",
      "[7]\ttrain-auc:0.78414\ttest-auc:0.69195\n",
      "[8]\ttrain-auc:0.79247\ttest-auc:0.70356\n",
      "[9]\ttrain-auc:0.79252\ttest-auc:0.70341\n",
      "[10]\ttrain-auc:0.79252\ttest-auc:0.70341\n",
      "[11]\ttrain-auc:0.79257\ttest-auc:0.70341\n",
      "[12]\ttrain-auc:0.79252\ttest-auc:0.70341\n",
      "[13]\ttrain-auc:0.79257\ttest-auc:0.70341\n",
      "[14]\ttrain-auc:0.79252\ttest-auc:0.70341\n",
      "[15]\ttrain-auc:0.79252\ttest-auc:0.70341\n",
      "[16]\ttrain-auc:0.84160\ttest-auc:0.74133\n",
      "[17]\ttrain-auc:0.84160\ttest-auc:0.74133\n",
      "[18]\ttrain-auc:0.84168\ttest-auc:0.74133\n",
      "[19]\ttrain-auc:0.84376\ttest-auc:0.74551\n",
      "[20]\ttrain-auc:0.84357\ttest-auc:0.74520\n",
      "[21]\ttrain-auc:0.84472\ttest-auc:0.74056\n",
      "[22]\ttrain-auc:0.84565\ttest-auc:0.74303\n",
      "[23]\ttrain-auc:0.84355\ttest-auc:0.73622\n",
      "[24]\ttrain-auc:0.84553\ttest-auc:0.73932\n",
      "[25]\ttrain-auc:0.84542\ttest-auc:0.74118\n",
      "[26]\ttrain-auc:0.85158\ttest-auc:0.73344\n",
      "[27]\ttrain-auc:0.85181\ttest-auc:0.73808\n",
      "[28]\ttrain-auc:0.85101\ttest-auc:0.73560\n",
      "[29]\ttrain-auc:0.85068\ttest-auc:0.73375\n",
      "[30]\ttrain-auc:0.85095\ttest-auc:0.73560\n",
      "[31]\ttrain-auc:0.85074\ttest-auc:0.73529\n",
      "[32]\ttrain-auc:0.84823\ttest-auc:0.73282\n",
      "[33]\ttrain-auc:0.84856\ttest-auc:0.73406\n",
      "[34]\ttrain-auc:0.84833\ttest-auc:0.73467\n",
      "[35]\ttrain-auc:0.84846\ttest-auc:0.73467\n",
      "[36]\ttrain-auc:0.85003\ttest-auc:0.73375\n",
      "[37]\ttrain-auc:0.85034\ttest-auc:0.73375\n",
      "[38]\ttrain-auc:0.85028\ttest-auc:0.73375\n",
      "[39]\ttrain-auc:0.85080\ttest-auc:0.73808\n",
      "[40]\ttrain-auc:0.85086\ttest-auc:0.73808\n",
      "[41]\ttrain-auc:0.85105\ttest-auc:0.73994\n",
      "[42]\ttrain-auc:0.85180\ttest-auc:0.74226\n",
      "[43]\ttrain-auc:0.85514\ttest-auc:0.75743\n",
      "[44]\ttrain-auc:0.85502\ttest-auc:0.75805\n",
      "[45]\ttrain-auc:0.85427\ttest-auc:0.75867\n",
      "[46]\ttrain-auc:0.85433\ttest-auc:0.75898\n",
      "[47]\ttrain-auc:0.85510\ttest-auc:0.76145\n",
      "[48]\ttrain-auc:0.85448\ttest-auc:0.76950\n",
      "[49]\ttrain-auc:0.85574\ttest-auc:0.77260\n",
      "[50]\ttrain-auc:0.85622\ttest-auc:0.77229\n",
      "[51]\ttrain-auc:0.85803\ttest-auc:0.77694\n",
      "[52]\ttrain-auc:0.85800\ttest-auc:0.77740\n",
      "[53]\ttrain-auc:0.85910\ttest-auc:0.78112\n",
      "[54]\ttrain-auc:0.85929\ttest-auc:0.78452\n",
      "[55]\ttrain-auc:0.86145\ttest-auc:0.78452\n",
      "[56]\ttrain-auc:0.86253\ttest-auc:0.78220\n",
      "[57]\ttrain-auc:0.86230\ttest-auc:0.78406\n",
      "[58]\ttrain-auc:0.86309\ttest-auc:0.78684\n",
      "[59]\ttrain-auc:0.86737\ttest-auc:0.78684\n",
      "[60]\ttrain-auc:0.86748\ttest-auc:0.78963\n",
      "[61]\ttrain-auc:0.86837\ttest-auc:0.78839\n",
      "[62]\ttrain-auc:0.86856\ttest-auc:0.78963\n",
      "[63]\ttrain-auc:0.86989\ttest-auc:0.78932\n",
      "[64]\ttrain-auc:0.86979\ttest-auc:0.79056\n",
      "[65]\ttrain-auc:0.87056\ttest-auc:0.79087\n",
      "[66]\ttrain-auc:0.87054\ttest-auc:0.79334\n",
      "[67]\ttrain-auc:0.87130\ttest-auc:0.79396\n",
      "[68]\ttrain-auc:0.87312\ttest-auc:0.79443\n",
      "[69]\ttrain-auc:0.87319\ttest-auc:0.79536\n",
      "[70]\ttrain-auc:0.87375\ttest-auc:0.79474\n",
      "[71]\ttrain-auc:0.87393\ttest-auc:0.79536\n",
      "[72]\ttrain-auc:0.87516\ttest-auc:0.79489\n",
      "[73]\ttrain-auc:0.87568\ttest-auc:0.79520\n",
      "[74]\ttrain-auc:0.87616\ttest-auc:0.79613\n",
      "[75]\ttrain-auc:0.87664\ttest-auc:0.79644\n",
      "[76]\ttrain-auc:0.87716\ttest-auc:0.79675\n",
      "[77]\ttrain-auc:0.87761\ttest-auc:0.79706\n",
      "[78]\ttrain-auc:0.87788\ttest-auc:0.79892\n",
      "[79]\ttrain-auc:0.87898\ttest-auc:0.79954\n",
      "[80]\ttrain-auc:0.87923\ttest-auc:0.79923\n",
      "[81]\ttrain-auc:0.87950\ttest-auc:0.79892\n",
      "[82]\ttrain-auc:0.87985\ttest-auc:0.79892\n",
      "[83]\ttrain-auc:0.88092\ttest-auc:0.79938\n",
      "[84]\ttrain-auc:0.88129\ttest-auc:0.80000\n",
      "[85]\ttrain-auc:0.88221\ttest-auc:0.80124\n",
      "[86]\ttrain-auc:0.88253\ttest-auc:0.80000\n",
      "[87]\ttrain-auc:0.88253\ttest-auc:0.80186\n",
      "[88]\ttrain-auc:0.88311\ttest-auc:0.80093\n",
      "[89]\ttrain-auc:0.88382\ttest-auc:0.79938\n",
      "[90]\ttrain-auc:0.88505\ttest-auc:0.80031\n",
      "[91]\ttrain-auc:0.88552\ttest-auc:0.80124\n",
      "[92]\ttrain-auc:0.88653\ttest-auc:0.80124\n",
      "[93]\ttrain-auc:0.88734\ttest-auc:0.80062\n",
      "[94]\ttrain-auc:0.88832\ttest-auc:0.80186\n",
      "[95]\ttrain-auc:0.88838\ttest-auc:0.79907\n",
      "[96]\ttrain-auc:0.88867\ttest-auc:0.80031\n",
      "[97]\ttrain-auc:0.88884\ttest-auc:0.79938\n",
      "[98]\ttrain-auc:0.88936\ttest-auc:0.79938\n",
      "[99]\ttrain-auc:0.88977\ttest-auc:0.80077\n",
      "[100]\ttrain-auc:0.88989\ttest-auc:0.80263\n",
      "[101]\ttrain-auc:0.89010\ttest-auc:0.80201\n",
      "[102]\ttrain-auc:0.89042\ttest-auc:0.80294\n",
      "[103]\ttrain-auc:0.89077\ttest-auc:0.80356\n",
      "[104]\ttrain-auc:0.89135\ttest-auc:0.80263\n",
      "[105]\ttrain-auc:0.89241\ttest-auc:0.80263\n",
      "[106]\ttrain-auc:0.89276\ttest-auc:0.80325\n",
      "[107]\ttrain-auc:0.89369\ttest-auc:0.80418\n",
      "[108]\ttrain-auc:0.89448\ttest-auc:0.80232\n",
      "[109]\ttrain-auc:0.89484\ttest-auc:0.80263\n",
      "[110]\ttrain-auc:0.89538\ttest-auc:0.80232\n",
      "[111]\ttrain-auc:0.89552\ttest-auc:0.80139\n",
      "[112]\ttrain-auc:0.89580\ttest-auc:0.80232\n",
      "[113]\ttrain-auc:0.89636\ttest-auc:0.80294\n",
      "[114]\ttrain-auc:0.89646\ttest-auc:0.80294\n",
      "[115]\ttrain-auc:0.89725\ttest-auc:0.80077\n",
      "[116]\ttrain-auc:0.89754\ttest-auc:0.80294\n",
      "[117]\ttrain-auc:0.89872\ttest-auc:0.80248\n",
      "[118]\ttrain-auc:0.89891\ttest-auc:0.80217\n",
      "[119]\ttrain-auc:0.89920\ttest-auc:0.80186\n",
      "[120]\ttrain-auc:0.90024\ttest-auc:0.80155\n",
      "[121]\ttrain-auc:0.90070\ttest-auc:0.79969\n",
      "[122]\ttrain-auc:0.90122\ttest-auc:0.79659\n",
      "[123]\ttrain-auc:0.90151\ttest-auc:0.79597\n",
      "[124]\ttrain-auc:0.90186\ttest-auc:0.79783\n",
      "[125]\ttrain-auc:0.90286\ttest-auc:0.79597\n",
      "[126]\ttrain-auc:0.90311\ttest-auc:0.79505\n",
      "[127]\ttrain-auc:0.90347\ttest-auc:0.79629\n",
      "[128]\ttrain-auc:0.90426\ttest-auc:0.79381\n",
      "[129]\ttrain-auc:0.90451\ttest-auc:0.79241\n",
      "[130]\ttrain-auc:0.90463\ttest-auc:0.79241\n",
      "[131]\ttrain-auc:0.90500\ttest-auc:0.79272\n",
      "[132]\ttrain-auc:0.90573\ttest-auc:0.79102\n",
      "[133]\ttrain-auc:0.90586\ttest-auc:0.79226\n",
      "[134]\ttrain-auc:0.90661\ttest-auc:0.78978\n",
      "[135]\ttrain-auc:0.90675\ttest-auc:0.79133\n",
      "[136]\ttrain-auc:0.90748\ttest-auc:0.79009\n",
      "[137]\ttrain-auc:0.90785\ttest-auc:0.79071\n",
      "[138]\ttrain-auc:0.90794\ttest-auc:0.78885\n",
      "[139]\ttrain-auc:0.90854\ttest-auc:0.78855\n",
      "[140]\ttrain-auc:0.90899\ttest-auc:0.78916\n",
      "[141]\ttrain-auc:0.90927\ttest-auc:0.78885\n",
      "[142]\ttrain-auc:0.90927\ttest-auc:0.78855\n",
      "[143]\ttrain-auc:0.90941\ttest-auc:0.78700\n",
      "[144]\ttrain-auc:0.90972\ttest-auc:0.78824\n",
      "[145]\ttrain-auc:0.90993\ttest-auc:0.78855\n",
      "[146]\ttrain-auc:0.91026\ttest-auc:0.78916\n",
      "[147]\ttrain-auc:0.91080\ttest-auc:0.78793\n",
      "[148]\ttrain-auc:0.91091\ttest-auc:0.78824\n",
      "[149]\ttrain-auc:0.91134\ttest-auc:0.78793\n",
      "[150]\ttrain-auc:0.91170\ttest-auc:0.78824\n",
      "[151]\ttrain-auc:0.91168\ttest-auc:0.78762\n",
      "[152]\ttrain-auc:0.91178\ttest-auc:0.78824\n",
      "[153]\ttrain-auc:0.91224\ttest-auc:0.78824\n",
      "[154]\ttrain-auc:0.91288\ttest-auc:0.78885\n",
      "[155]\ttrain-auc:0.91307\ttest-auc:0.78947\n",
      "[156]\ttrain-auc:0.91334\ttest-auc:0.78947\n",
      "[157]\ttrain-auc:0.91351\ttest-auc:0.78916\n",
      "Stopping. Best iteration:\n",
      "[107]\ttrain-auc:0.89369\ttest-auc:0.80418\n",
      "\n"
     ]
    }
   ],
   "source": [
    "parameters = {'objective': 'binary:logistic',\n",
    "              'learning_rate': 0.05,\n",
    "              'max_depth': 4,\n",
    "              'min_child_weight': 0.5,\n",
    "              'reg_alpha': 5,\n",
    "              'reg_lambda': 5,\n",
    "              'eval_metric': 'auc'}\n",
    "\n",
    "watch_list  = [(dtrain,'train'),(dtest,'test')]\n",
    "\n",
    "xgb_fit = xgb.train(params = parameters, dtrain = dtrain, evals = watch_list, \n",
    "                    num_boost_round = 500, early_stopping_rounds=50, verbose_eval=1)"
   ]
  },
  {
   "cell_type": "markdown",
   "metadata": {},
   "source": [
    "Importancia de variables"
   ]
  },
  {
   "cell_type": "markdown",
   "metadata": {},
   "source": [
    "Feature importances XGBoost: https://towardsdatascience.com/be-careful-when-interpreting-your-features-importance-in-xgboost-6e16132588e7"
   ]
  },
  {
   "cell_type": "code",
   "execution_count": 15,
   "metadata": {},
   "outputs": [
    {
     "data": {
      "text/html": [
       "<div>\n",
       "<style scoped>\n",
       "    .dataframe tbody tr th:only-of-type {\n",
       "        vertical-align: middle;\n",
       "    }\n",
       "\n",
       "    .dataframe tbody tr th {\n",
       "        vertical-align: top;\n",
       "    }\n",
       "\n",
       "    .dataframe thead th {\n",
       "        text-align: right;\n",
       "    }\n",
       "</style>\n",
       "<table border=\"1\" class=\"dataframe\">\n",
       "  <thead>\n",
       "    <tr style=\"text-align: right;\">\n",
       "      <th></th>\n",
       "      <th>Gain</th>\n",
       "      <th>Cover</th>\n",
       "      <th>Weight</th>\n",
       "    </tr>\n",
       "  </thead>\n",
       "  <tbody>\n",
       "    <tr>\n",
       "      <th>Credit_History</th>\n",
       "      <td>9.774698</td>\n",
       "      <td>79.240449</td>\n",
       "      <td>139</td>\n",
       "    </tr>\n",
       "    <tr>\n",
       "      <th>ApplicantIncome</th>\n",
       "      <td>0.270112</td>\n",
       "      <td>29.014014</td>\n",
       "      <td>190</td>\n",
       "    </tr>\n",
       "    <tr>\n",
       "      <th>%Cuota</th>\n",
       "      <td>0.952670</td>\n",
       "      <td>45.736438</td>\n",
       "      <td>149</td>\n",
       "    </tr>\n",
       "    <tr>\n",
       "      <th>CoapplicantIncome</th>\n",
       "      <td>0.716640</td>\n",
       "      <td>30.272749</td>\n",
       "      <td>147</td>\n",
       "    </tr>\n",
       "    <tr>\n",
       "      <th>TotalIncome</th>\n",
       "      <td>1.307985</td>\n",
       "      <td>58.201488</td>\n",
       "      <td>87</td>\n",
       "    </tr>\n",
       "    <tr>\n",
       "      <th>Cuota</th>\n",
       "      <td>0.373173</td>\n",
       "      <td>28.615293</td>\n",
       "      <td>26</td>\n",
       "    </tr>\n",
       "    <tr>\n",
       "      <th>TotalIncomeByPerson</th>\n",
       "      <td>0.653655</td>\n",
       "      <td>29.690593</td>\n",
       "      <td>139</td>\n",
       "    </tr>\n",
       "    <tr>\n",
       "      <th>Loan_Amount_Term</th>\n",
       "      <td>0.253876</td>\n",
       "      <td>27.438861</td>\n",
       "      <td>59</td>\n",
       "    </tr>\n",
       "    <tr>\n",
       "      <th>Married_Yes</th>\n",
       "      <td>0.478218</td>\n",
       "      <td>40.172009</td>\n",
       "      <td>27</td>\n",
       "    </tr>\n",
       "    <tr>\n",
       "      <th>Property_Area_Semiurban</th>\n",
       "      <td>0.357745</td>\n",
       "      <td>72.430548</td>\n",
       "      <td>38</td>\n",
       "    </tr>\n",
       "    <tr>\n",
       "      <th>Education_Not Graduate</th>\n",
       "      <td>0.201685</td>\n",
       "      <td>66.797370</td>\n",
       "      <td>14</td>\n",
       "    </tr>\n",
       "    <tr>\n",
       "      <th>LoanAmount</th>\n",
       "      <td>0.310877</td>\n",
       "      <td>29.497705</td>\n",
       "      <td>100</td>\n",
       "    </tr>\n",
       "    <tr>\n",
       "      <th>Self_Employed_Yes</th>\n",
       "      <td>0.110325</td>\n",
       "      <td>24.154321</td>\n",
       "      <td>16</td>\n",
       "    </tr>\n",
       "    <tr>\n",
       "      <th>Dependents</th>\n",
       "      <td>0.561234</td>\n",
       "      <td>29.945255</td>\n",
       "      <td>15</td>\n",
       "    </tr>\n",
       "    <tr>\n",
       "      <th>Property_Area_Urban</th>\n",
       "      <td>0.280508</td>\n",
       "      <td>35.193226</td>\n",
       "      <td>2</td>\n",
       "    </tr>\n",
       "  </tbody>\n",
       "</table>\n",
       "</div>"
      ],
      "text/plain": [
       "                             Gain      Cover  Weight\n",
       "Credit_History           9.774698  79.240449     139\n",
       "ApplicantIncome          0.270112  29.014014     190\n",
       "%Cuota                   0.952670  45.736438     149\n",
       "CoapplicantIncome        0.716640  30.272749     147\n",
       "TotalIncome              1.307985  58.201488      87\n",
       "Cuota                    0.373173  28.615293      26\n",
       "TotalIncomeByPerson      0.653655  29.690593     139\n",
       "Loan_Amount_Term         0.253876  27.438861      59\n",
       "Married_Yes              0.478218  40.172009      27\n",
       "Property_Area_Semiurban  0.357745  72.430548      38\n",
       "Education_Not Graduate   0.201685  66.797370      14\n",
       "LoanAmount               0.310877  29.497705     100\n",
       "Self_Employed_Yes        0.110325  24.154321      16\n",
       "Dependents               0.561234  29.945255      15\n",
       "Property_Area_Urban      0.280508  35.193226       2"
      ]
     },
     "execution_count": 15,
     "metadata": {},
     "output_type": "execute_result"
    }
   ],
   "source": [
    "frame = {'Gain':  xgb_fit.get_score(importance_type='gain'), # ganancia en prediccion por la variable\n",
    "        'Cover':  xgb_fit.get_score(importance_type='cover'),# profundidad del arbol \n",
    "        'Weight': xgb_fit.get_score(importance_type='weight')} # en cuantos arboles sale la variable\n",
    "\n",
    "result = pd.DataFrame(frame) \n",
    "result "
   ]
  },
  {
   "cell_type": "markdown",
   "metadata": {},
   "source": [
    "## LightGBM"
   ]
  },
  {
   "cell_type": "markdown",
   "metadata": {},
   "source": [
    "LightGBM: https://lightgbm.readthedocs.io/en/latest/Parameters.html"
   ]
  },
  {
   "cell_type": "code",
   "execution_count": 17,
   "metadata": {},
   "outputs": [],
   "source": [
    "import lightgbm as lgbm"
   ]
  },
  {
   "cell_type": "code",
   "execution_count": 18,
   "metadata": {},
   "outputs": [],
   "source": [
    "dtrain = lgbm.Dataset(X_train, y_train)\n",
    "dtest = lgbm.Dataset(X_test, y_test)"
   ]
  },
  {
   "cell_type": "code",
   "execution_count": 23,
   "metadata": {},
   "outputs": [],
   "source": [
    "params = {'objective':'binary', \n",
    "          'metric': 'auc', \n",
    "          'max_depth': 10, \n",
    "          'num_leaves':50,\n",
    "           'reg_alpha': 1,\n",
    "          'reg_lambda': 1,}"
   ]
  },
  {
   "cell_type": "code",
   "execution_count": 24,
   "metadata": {
    "scrolled": false
   },
   "outputs": [
    {
     "name": "stdout",
     "output_type": "stream",
     "text": [
      "[1]\ttrain's auc: 0.845957\ttest's auc: 0.728947\n",
      "Training until validation scores don't improve for 50 rounds\n",
      "[2]\ttrain's auc: 0.856035\ttest's auc: 0.742415\n",
      "[3]\ttrain's auc: 0.855804\ttest's auc: 0.746749\n",
      "[4]\ttrain's auc: 0.855804\ttest's auc: 0.74613\n",
      "[5]\ttrain's auc: 0.855187\ttest's auc: 0.750464\n",
      "[6]\ttrain's auc: 0.869841\ttest's auc: 0.749845\n",
      "[7]\ttrain's auc: 0.871219\ttest's auc: 0.750464\n",
      "[8]\ttrain's auc: 0.882346\ttest's auc: 0.765944\n",
      "[9]\ttrain's auc: 0.887462\ttest's auc: 0.769195\n",
      "[10]\ttrain's auc: 0.891017\ttest's auc: 0.758978\n",
      "[11]\ttrain's auc: 0.897058\ttest's auc: 0.755108\n",
      "[12]\ttrain's auc: 0.900757\ttest's auc: 0.766718\n",
      "[13]\ttrain's auc: 0.902674\ttest's auc: 0.759598\n",
      "[14]\ttrain's auc: 0.908571\ttest's auc: 0.778019\n",
      "[15]\ttrain's auc: 0.913956\ttest's auc: 0.776935\n",
      "[16]\ttrain's auc: 0.916885\ttest's auc: 0.783746\n",
      "[17]\ttrain's auc: 0.923831\ttest's auc: 0.784365\n",
      "[18]\ttrain's auc: 0.925142\ttest's auc: 0.777864\n",
      "[19]\ttrain's auc: 0.927531\ttest's auc: 0.783127\n",
      "[20]\ttrain's auc: 0.930132\ttest's auc: 0.786842\n",
      "[21]\ttrain's auc: 0.932541\ttest's auc: 0.791486\n",
      "[22]\ttrain's auc: 0.938437\ttest's auc: 0.786533\n",
      "[23]\ttrain's auc: 0.938745\ttest's auc: 0.780031\n",
      "[24]\ttrain's auc: 0.940865\ttest's auc: 0.778483\n",
      "[25]\ttrain's auc: 0.945229\ttest's auc: 0.778328\n",
      "[26]\ttrain's auc: 0.947137\ttest's auc: 0.776625\n",
      "[27]\ttrain's auc: 0.950663\ttest's auc: 0.773839\n",
      "[28]\ttrain's auc: 0.95311\ttest's auc: 0.772601\n",
      "[29]\ttrain's auc: 0.954815\ttest's auc: 0.770743\n",
      "[30]\ttrain's auc: 0.95628\ttest's auc: 0.771672\n",
      "[31]\ttrain's auc: 0.957917\ttest's auc: 0.772601\n",
      "[32]\ttrain's auc: 0.960914\ttest's auc: 0.766718\n",
      "[33]\ttrain's auc: 0.962417\ttest's auc: 0.770124\n",
      "[34]\ttrain's auc: 0.963342\ttest's auc: 0.766718\n",
      "[35]\ttrain's auc: 0.963554\ttest's auc: 0.766099\n",
      "[36]\ttrain's auc: 0.965037\ttest's auc: 0.765789\n",
      "[37]\ttrain's auc: 0.966261\ttest's auc: 0.766563\n",
      "[38]\ttrain's auc: 0.968111\ttest's auc: 0.765635\n",
      "[39]\ttrain's auc: 0.969074\ttest's auc: 0.762848\n",
      "[40]\ttrain's auc: 0.97023\ttest's auc: 0.7613\n",
      "[41]\ttrain's auc: 0.971309\ttest's auc: 0.763777\n",
      "[42]\ttrain's auc: 0.972793\ttest's auc: 0.764396\n",
      "[43]\ttrain's auc: 0.97366\ttest's auc: 0.762229\n",
      "[44]\ttrain's auc: 0.974585\ttest's auc: 0.760062\n",
      "[45]\ttrain's auc: 0.975934\ttest's auc: 0.7613\n",
      "[46]\ttrain's auc: 0.976685\ttest's auc: 0.758824\n",
      "[47]\ttrain's auc: 0.977629\ttest's auc: 0.757895\n",
      "[48]\ttrain's auc: 0.9784\ttest's auc: 0.755418\n",
      "[49]\ttrain's auc: 0.979055\ttest's auc: 0.75356\n",
      "[50]\ttrain's auc: 0.979151\ttest's auc: 0.752012\n",
      "[51]\ttrain's auc: 0.979787\ttest's auc: 0.750774\n",
      "[52]\ttrain's auc: 0.979922\ttest's auc: 0.747059\n",
      "[53]\ttrain's auc: 0.98077\ttest's auc: 0.74613\n",
      "[54]\ttrain's auc: 0.981984\ttest's auc: 0.749845\n",
      "[55]\ttrain's auc: 0.982581\ttest's auc: 0.751703\n",
      "[56]\ttrain's auc: 0.982986\ttest's auc: 0.750464\n",
      "[57]\ttrain's auc: 0.983699\ttest's auc: 0.752012\n",
      "[58]\ttrain's auc: 0.9842\ttest's auc: 0.751393\n",
      "[59]\ttrain's auc: 0.98445\ttest's auc: 0.754799\n",
      "[60]\ttrain's auc: 0.985394\ttest's auc: 0.75418\n",
      "[61]\ttrain's auc: 0.985799\ttest's auc: 0.756347\n",
      "[62]\ttrain's auc: 0.986223\ttest's auc: 0.755418\n",
      "[63]\ttrain's auc: 0.986917\ttest's auc: 0.756656\n",
      "[64]\ttrain's auc: 0.987206\ttest's auc: 0.756037\n",
      "[65]\ttrain's auc: 0.987514\ttest's auc: 0.756347\n",
      "[66]\ttrain's auc: 0.987996\ttest's auc: 0.758514\n",
      "[67]\ttrain's auc: 0.988285\ttest's auc: 0.758824\n",
      "[68]\ttrain's auc: 0.988863\ttest's auc: 0.760991\n",
      "[69]\ttrain's auc: 0.989113\ttest's auc: 0.759443\n",
      "[70]\ttrain's auc: 0.989422\ttest's auc: 0.758824\n",
      "[71]\ttrain's auc: 0.989961\ttest's auc: 0.758824\n",
      "Early stopping, best iteration is:\n",
      "[21]\ttrain's auc: 0.932541\ttest's auc: 0.791486\n"
     ]
    }
   ],
   "source": [
    "lgbm_booster = lgbm.train(params = params, train_set = dtrain, \n",
    "                     num_boost_round = 3000, early_stopping_rounds = 50,\n",
    "                     valid_names = ['train', 'test'], valid_sets = [dtrain, dtest], \n",
    "                     verbose_eval = 1)"
   ]
  },
  {
   "cell_type": "markdown",
   "metadata": {},
   "source": [
    "Feature importances LightGBM: "
   ]
  },
  {
   "cell_type": "code",
   "execution_count": 25,
   "metadata": {},
   "outputs": [
    {
     "data": {
      "text/plain": [
       "<matplotlib.axes._subplots.AxesSubplot at 0x1a4858a210>"
      ]
     },
     "execution_count": 25,
     "metadata": {},
     "output_type": "execute_result"
    },
    {
     "data": {
      "image/png": "[encoded data removed]",
      "text/plain": [
       "<Figure size 432x288 with 1 Axes>"
      ]
     },
     "metadata": {
      "needs_background": "light"
     },
     "output_type": "display_data"
    }
   ],
   "source": [
    "lgbm.plot_importance(lgbm_booster)"
   ]
  }
 ],
 "metadata": {
  "kernelspec": {
   "display_name": "Python 3",
   "language": "python",
   "name": "python3"
  },
  "language_info": {
   "codemirror_mode": {
    "name": "ipython",
    "version": 3
   },
   "file_extension": ".py",
   "mimetype": "text/x-python",
   "name": "python",
   "nbconvert_exporter": "python",
   "pygments_lexer": "ipython3",
   "version": "3.7.4"
  },
  "toc": {
   "base_numbering": 1,
   "nav_menu": {},
   "number_sections": true,
   "sideBar": true,
   "skip_h1_title": false,
   "title_cell": "Table of Contents",
   "title_sidebar": "Contents",
   "toc_cell": false,
   "toc_position": {
    "height": "calc(100% - 180px)",
    "left": "10px",
    "top": "150px",
    "width": "165px"
   },
   "toc_section_display": true,
   "toc_window_display": false
  },
  "varInspector": {
   "cols": {
    "lenName": 16,
    "lenType": 16,
    "lenVar": 40
   },
   "kernels_config": {
    "python": {
     "delete_cmd_postfix": "",
     "delete_cmd_prefix": "del ",
     "library": "var_list.py",
     "varRefreshCmd": "print(var_dic_list())"
    },
    "r": {
     "delete_cmd_postfix": ") ",
     "delete_cmd_prefix": "rm(",
     "library": "var_list.r",
     "varRefreshCmd": "cat(var_dic_list()) "
    }
   },
   "types_to_exclude": [
    "module",
    "function",
    "builtin_function_or_method",
    "instance",
    "_Feature"
   ],
   "window_display": false
  }
 },
 "nbformat": 4,
 "nbformat_minor": 4
}
