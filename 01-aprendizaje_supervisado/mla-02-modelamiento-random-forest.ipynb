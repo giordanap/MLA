{
 "cells": [
  {
   "cell_type": "markdown",
   "metadata": {},
   "source": [
    "# Machine Learning Advanced\n",
    "\n",
    "## Aprendizaje Supervisado - Random Forest\n",
    "\n",
    "Manuel Montoya - `manuel.montoya@pucp.edu.pe`"
   ]
  },
  {
   "cell_type": "markdown",
   "metadata": {},
   "source": [
    "## Caso de uso"
   ]
  },
  {
   "cell_type": "markdown",
   "metadata": {},
   "source": [
    "<img src = 'https://datahack-prod.s3.ap-south-1.amazonaws.com/__sized__/contest_cover/loanpre-thumbnail-1200x1200.png'>"
   ]
  },
  {
   "cell_type": "markdown",
   "metadata": {},
   "source": [
    "Loan Prediction: https://datahack.analyticsvidhya.com/contest/practice-problem-loan-prediction-iii/#About"
   ]
  },
  {
   "cell_type": "markdown",
   "metadata": {},
   "source": [
    "## librerias"
   ]
  },
  {
   "cell_type": "code",
   "execution_count": 1,
   "metadata": {},
   "outputs": [],
   "source": [
    "import random\n",
    "import pandas as pd\n",
    "import numpy as np\n",
    "import sklearn\n",
    "\n",
    "import seaborn as sns\n",
    "import matplotlib.pyplot as plt"
   ]
  },
  {
   "cell_type": "code",
   "execution_count": 2,
   "metadata": {},
   "outputs": [
    {
     "data": {
      "text/plain": [
       "'1.0.3'"
      ]
     },
     "execution_count": 2,
     "metadata": {},
     "output_type": "execute_result"
    }
   ],
   "source": [
    "pd.__version__"
   ]
  },
  {
   "cell_type": "code",
   "execution_count": 3,
   "metadata": {},
   "outputs": [
    {
     "data": {
      "text/plain": [
       "'0.24.1'"
      ]
     },
     "execution_count": 3,
     "metadata": {},
     "output_type": "execute_result"
    }
   ],
   "source": [
    "sklearn.__version__"
   ]
  },
  {
   "cell_type": "code",
   "execution_count": 4,
   "metadata": {},
   "outputs": [
    {
     "data": {
      "text/plain": [
       "'0.11.0'"
      ]
     },
     "execution_count": 4,
     "metadata": {},
     "output_type": "execute_result"
    }
   ],
   "source": [
    "sns.__version__"
   ]
  },
  {
   "cell_type": "markdown",
   "metadata": {},
   "source": [
    "Usamos una semilla a lo largo de todo el notebook para los procesos aleatorios"
   ]
  },
  {
   "cell_type": "code",
   "execution_count": 7,
   "metadata": {},
   "outputs": [],
   "source": [
    "seed = 12345"
   ]
  },
  {
   "cell_type": "code",
   "execution_count": 8,
   "metadata": {},
   "outputs": [],
   "source": [
    "target = 'Loan_Status'"
   ]
  },
  {
   "cell_type": "markdown",
   "metadata": {},
   "source": [
    "## bases"
   ]
  },
  {
   "cell_type": "code",
   "execution_count": 9,
   "metadata": {},
   "outputs": [],
   "source": [
    "train = pd.read_csv('train_preprocesed.csv')\n",
    "test = pd.read_csv('test_preprocesed.csv')"
   ]
  },
  {
   "cell_type": "code",
   "execution_count": 10,
   "metadata": {},
   "outputs": [
    {
     "data": {
      "text/html": [
       "<div>\n",
       "<style scoped>\n",
       "    .dataframe tbody tr th:only-of-type {\n",
       "        vertical-align: middle;\n",
       "    }\n",
       "\n",
       "    .dataframe tbody tr th {\n",
       "        vertical-align: top;\n",
       "    }\n",
       "\n",
       "    .dataframe thead th {\n",
       "        text-align: right;\n",
       "    }\n",
       "</style>\n",
       "<table border=\"1\" class=\"dataframe\">\n",
       "  <thead>\n",
       "    <tr style=\"text-align: right;\">\n",
       "      <th></th>\n",
       "      <th>Dependents</th>\n",
       "      <th>ApplicantIncome</th>\n",
       "      <th>CoapplicantIncome</th>\n",
       "      <th>LoanAmount</th>\n",
       "      <th>Loan_Amount_Term</th>\n",
       "      <th>Credit_History</th>\n",
       "      <th>Gender_Male</th>\n",
       "      <th>Married_Yes</th>\n",
       "      <th>Education_Not Graduate</th>\n",
       "      <th>Self_Employed_Yes</th>\n",
       "      <th>Property_Area_Semiurban</th>\n",
       "      <th>Property_Area_Urban</th>\n",
       "      <th>TotalIncome</th>\n",
       "      <th>TotalIncomeByPerson</th>\n",
       "      <th>Cuota</th>\n",
       "      <th>%Cuota</th>\n",
       "      <th>Loan_Status</th>\n",
       "    </tr>\n",
       "  </thead>\n",
       "  <tbody>\n",
       "    <tr>\n",
       "      <th>0</th>\n",
       "      <td>0.000000</td>\n",
       "      <td>0.066422</td>\n",
       "      <td>0.0</td>\n",
       "      <td>0.170767</td>\n",
       "      <td>0.72973</td>\n",
       "      <td>1.0</td>\n",
       "      <td>1.0</td>\n",
       "      <td>0.0</td>\n",
       "      <td>0.0</td>\n",
       "      <td>0.0</td>\n",
       "      <td>1.0</td>\n",
       "      <td>0.0</td>\n",
       "      <td>0.04797</td>\n",
       "      <td>0.064711</td>\n",
       "      <td>0.076574</td>\n",
       "      <td>0.078223</td>\n",
       "      <td>1</td>\n",
       "    </tr>\n",
       "    <tr>\n",
       "      <th>1</th>\n",
       "      <td>0.333333</td>\n",
       "      <td>0.098622</td>\n",
       "      <td>0.0</td>\n",
       "      <td>0.104197</td>\n",
       "      <td>0.72973</td>\n",
       "      <td>1.0</td>\n",
       "      <td>0.0</td>\n",
       "      <td>0.0</td>\n",
       "      <td>1.0</td>\n",
       "      <td>0.0</td>\n",
       "      <td>0.0</td>\n",
       "      <td>0.0</td>\n",
       "      <td>0.07681</td>\n",
       "      <td>0.038104</td>\n",
       "      <td>0.046723</td>\n",
       "      <td>0.034021</td>\n",
       "      <td>1</td>\n",
       "    </tr>\n",
       "  </tbody>\n",
       "</table>\n",
       "</div>"
      ],
      "text/plain": [
       "   Dependents  ApplicantIncome  CoapplicantIncome  LoanAmount  \\\n",
       "0    0.000000         0.066422                0.0    0.170767   \n",
       "1    0.333333         0.098622                0.0    0.104197   \n",
       "\n",
       "   Loan_Amount_Term  Credit_History  Gender_Male  Married_Yes  \\\n",
       "0           0.72973             1.0          1.0          0.0   \n",
       "1           0.72973             1.0          0.0          0.0   \n",
       "\n",
       "   Education_Not Graduate  Self_Employed_Yes  Property_Area_Semiurban  \\\n",
       "0                     0.0                0.0                      1.0   \n",
       "1                     1.0                0.0                      0.0   \n",
       "\n",
       "   Property_Area_Urban  TotalIncome  TotalIncomeByPerson     Cuota    %Cuota  \\\n",
       "0                  0.0      0.04797             0.064711  0.076574  0.078223   \n",
       "1                  0.0      0.07681             0.038104  0.046723  0.034021   \n",
       "\n",
       "   Loan_Status  \n",
       "0            1  \n",
       "1            1  "
      ]
     },
     "execution_count": 10,
     "metadata": {},
     "output_type": "execute_result"
    }
   ],
   "source": [
    "train.head(2)"
   ]
  },
  {
   "cell_type": "code",
   "execution_count": 11,
   "metadata": {},
   "outputs": [
    {
     "data": {
      "text/html": [
       "<div>\n",
       "<style scoped>\n",
       "    .dataframe tbody tr th:only-of-type {\n",
       "        vertical-align: middle;\n",
       "    }\n",
       "\n",
       "    .dataframe tbody tr th {\n",
       "        vertical-align: top;\n",
       "    }\n",
       "\n",
       "    .dataframe thead th {\n",
       "        text-align: right;\n",
       "    }\n",
       "</style>\n",
       "<table border=\"1\" class=\"dataframe\">\n",
       "  <thead>\n",
       "    <tr style=\"text-align: right;\">\n",
       "      <th></th>\n",
       "      <th>Dependents</th>\n",
       "      <th>ApplicantIncome</th>\n",
       "      <th>CoapplicantIncome</th>\n",
       "      <th>LoanAmount</th>\n",
       "      <th>Loan_Amount_Term</th>\n",
       "      <th>Credit_History</th>\n",
       "      <th>Gender_Male</th>\n",
       "      <th>Married_Yes</th>\n",
       "      <th>Education_Not Graduate</th>\n",
       "      <th>Self_Employed_Yes</th>\n",
       "      <th>Property_Area_Semiurban</th>\n",
       "      <th>Property_Area_Urban</th>\n",
       "      <th>TotalIncome</th>\n",
       "      <th>TotalIncomeByPerson</th>\n",
       "      <th>Cuota</th>\n",
       "      <th>%Cuota</th>\n",
       "      <th>Loan_Status</th>\n",
       "    </tr>\n",
       "  </thead>\n",
       "  <tbody>\n",
       "    <tr>\n",
       "      <th>0</th>\n",
       "      <td>0.333333</td>\n",
       "      <td>0.024735</td>\n",
       "      <td>0.0</td>\n",
       "      <td>0.075253</td>\n",
       "      <td>0.729730</td>\n",
       "      <td>1.0</td>\n",
       "      <td>1.0</td>\n",
       "      <td>1.0</td>\n",
       "      <td>0.0</td>\n",
       "      <td>0.0</td>\n",
       "      <td>0.0</td>\n",
       "      <td>0.0</td>\n",
       "      <td>0.010633</td>\n",
       "      <td>0.005578</td>\n",
       "      <td>0.033744</td>\n",
       "      <td>0.067586</td>\n",
       "      <td>1</td>\n",
       "    </tr>\n",
       "    <tr>\n",
       "      <th>1</th>\n",
       "      <td>0.000000</td>\n",
       "      <td>0.087292</td>\n",
       "      <td>0.0</td>\n",
       "      <td>0.153401</td>\n",
       "      <td>0.324324</td>\n",
       "      <td>1.0</td>\n",
       "      <td>1.0</td>\n",
       "      <td>1.0</td>\n",
       "      <td>1.0</td>\n",
       "      <td>0.0</td>\n",
       "      <td>1.0</td>\n",
       "      <td>0.0</td>\n",
       "      <td>0.066663</td>\n",
       "      <td>0.083086</td>\n",
       "      <td>0.143413</td>\n",
       "      <td>0.118342</td>\n",
       "      <td>0</td>\n",
       "    </tr>\n",
       "  </tbody>\n",
       "</table>\n",
       "</div>"
      ],
      "text/plain": [
       "   Dependents  ApplicantIncome  CoapplicantIncome  LoanAmount  \\\n",
       "0    0.333333         0.024735                0.0    0.075253   \n",
       "1    0.000000         0.087292                0.0    0.153401   \n",
       "\n",
       "   Loan_Amount_Term  Credit_History  Gender_Male  Married_Yes  \\\n",
       "0          0.729730             1.0          1.0          1.0   \n",
       "1          0.324324             1.0          1.0          1.0   \n",
       "\n",
       "   Education_Not Graduate  Self_Employed_Yes  Property_Area_Semiurban  \\\n",
       "0                     0.0                0.0                      0.0   \n",
       "1                     1.0                0.0                      1.0   \n",
       "\n",
       "   Property_Area_Urban  TotalIncome  TotalIncomeByPerson     Cuota    %Cuota  \\\n",
       "0                  0.0     0.010633             0.005578  0.033744  0.067586   \n",
       "1                  0.0     0.066663             0.083086  0.143413  0.118342   \n",
       "\n",
       "   Loan_Status  \n",
       "0            1  \n",
       "1            0  "
      ]
     },
     "execution_count": 11,
     "metadata": {},
     "output_type": "execute_result"
    }
   ],
   "source": [
    "test.head(2)"
   ]
  },
  {
   "cell_type": "code",
   "execution_count": 12,
   "metadata": {},
   "outputs": [],
   "source": [
    "X_train = train.drop(target, axis = 1)\n",
    "y_train = train[target]"
   ]
  },
  {
   "cell_type": "code",
   "execution_count": 13,
   "metadata": {},
   "outputs": [],
   "source": [
    "X_test = test.drop(target, axis = 1)\n",
    "y_test = test[target]"
   ]
  },
  {
   "cell_type": "code",
   "execution_count": 14,
   "metadata": {},
   "outputs": [
    {
     "data": {
      "text/plain": [
       "((491, 16), (491,))"
      ]
     },
     "execution_count": 14,
     "metadata": {},
     "output_type": "execute_result"
    }
   ],
   "source": [
    "X_train.shape, y_train.shape"
   ]
  },
  {
   "cell_type": "code",
   "execution_count": 15,
   "metadata": {},
   "outputs": [
    {
     "data": {
      "text/plain": [
       "((123, 16), (123,))"
      ]
     },
     "execution_count": 15,
     "metadata": {},
     "output_type": "execute_result"
    }
   ],
   "source": [
    "X_test.shape, y_test.shape"
   ]
  },
  {
   "cell_type": "markdown",
   "metadata": {},
   "source": [
    "## funciones auxiliares"
   ]
  },
  {
   "cell_type": "code",
   "execution_count": 16,
   "metadata": {},
   "outputs": [],
   "source": [
    "from sklearn.metrics import roc_auc_score, roc_curve"
   ]
  },
  {
   "cell_type": "code",
   "execution_count": 17,
   "metadata": {},
   "outputs": [],
   "source": [
    "def plot_roc_curve(y, y_proba, label = ''):\n",
    "    '''\n",
    "    dibujar la curva roc para las probabilidades y target entregados\n",
    "    \n",
    "    params:\n",
    "    y: etiquetas originales\n",
    "    y_proba: probabilidades resultado del modelo\n",
    "    '''\n",
    "    \n",
    "    auc_roc = roc_auc_score(y, y_proba)\n",
    "    fpr, tpr, thresholds = roc_curve(y, y_proba)\n",
    "    \n",
    "    plt.figure(figsize=(8,6))\n",
    "    plt.rcParams.update({'font.size': 12})\n",
    "    plt.plot(fpr, fpr, c = 'red')\n",
    "    plt.plot(fpr, tpr, label= (f\"Curva ROC {label} (AUC = {auc_roc:.4f})\"))\n",
    "    plt.xlabel(\"FPR\")\n",
    "    plt.ylabel(\"TPR\")\n",
    "    plt.title(f\"Curva ROC {label}\")\n",
    "    plt.legend(loc=4, numpoints=1)"
   ]
  },
  {
   "cell_type": "markdown",
   "metadata": {},
   "source": [
    "## random forest (con hiperparámetros por defecto)"
   ]
  },
  {
   "cell_type": "code",
   "execution_count": 22,
   "metadata": {},
   "outputs": [],
   "source": [
    "from sklearn.ensemble import RandomForestClassifier\n",
    "from sklearn.metrics import classification_report, accuracy_score"
   ]
  },
  {
   "cell_type": "code",
   "execution_count": 23,
   "metadata": {},
   "outputs": [],
   "source": [
    "rf = RandomForestClassifier()"
   ]
  },
  {
   "cell_type": "code",
   "execution_count": 24,
   "metadata": {},
   "outputs": [
    {
     "data": {
      "text/plain": [
       "RandomForestClassifier()"
      ]
     },
     "execution_count": 24,
     "metadata": {},
     "output_type": "execute_result"
    }
   ],
   "source": [
    "rf.fit(X_train, y_train)"
   ]
  },
  {
   "cell_type": "code",
   "execution_count": 25,
   "metadata": {},
   "outputs": [],
   "source": [
    "y_train_pred = rf.predict(X_train)\n",
    "y_test_pred = rf.predict(X_test)"
   ]
  },
  {
   "cell_type": "code",
   "execution_count": 26,
   "metadata": {},
   "outputs": [
    {
     "data": {
      "text/plain": [
       "1.0"
      ]
     },
     "execution_count": 26,
     "metadata": {},
     "output_type": "execute_result"
    }
   ],
   "source": [
    "accuracy_score(y_train, y_train_pred)"
   ]
  },
  {
   "cell_type": "code",
   "execution_count": 27,
   "metadata": {},
   "outputs": [
    {
     "data": {
      "text/plain": [
       "0.7642276422764228"
      ]
     },
     "execution_count": 27,
     "metadata": {},
     "output_type": "execute_result"
    }
   ],
   "source": [
    "accuracy_score(y_test, y_test_pred)"
   ]
  },
  {
   "cell_type": "code",
   "execution_count": 28,
   "metadata": {},
   "outputs": [
    {
     "name": "stdout",
     "output_type": "stream",
     "text": [
      "              precision    recall  f1-score   support\n",
      "\n",
      "           0       1.00      1.00      1.00       337\n",
      "           1       1.00      1.00      1.00       154\n",
      "\n",
      "    accuracy                           1.00       491\n",
      "   macro avg       1.00      1.00      1.00       491\n",
      "weighted avg       1.00      1.00      1.00       491\n",
      "\n"
     ]
    }
   ],
   "source": [
    "print(classification_report(y_train, y_train_pred))"
   ]
  },
  {
   "cell_type": "code",
   "execution_count": 29,
   "metadata": {},
   "outputs": [
    {
     "name": "stdout",
     "output_type": "stream",
     "text": [
      "              precision    recall  f1-score   support\n",
      "\n",
      "           0       0.76      0.95      0.85        85\n",
      "           1       0.76      0.34      0.47        38\n",
      "\n",
      "    accuracy                           0.76       123\n",
      "   macro avg       0.76      0.65      0.66       123\n",
      "weighted avg       0.76      0.76      0.73       123\n",
      "\n"
     ]
    }
   ],
   "source": [
    "print(classification_report(y_test, y_test_pred))"
   ]
  },
  {
   "cell_type": "code",
   "execution_count": 30,
   "metadata": {},
   "outputs": [],
   "source": [
    "y_test_pred_proba = rf.predict_proba(X_test)"
   ]
  },
  {
   "cell_type": "code",
   "execution_count": 31,
   "metadata": {},
   "outputs": [
    {
     "data": {
      "text/plain": [
       "array([[0.51, 0.49],\n",
       "       [0.72, 0.28],\n",
       "       [0.99, 0.01],\n",
       "       [0.95, 0.05],\n",
       "       [0.7 , 0.3 ],\n",
       "       [0.73, 0.27],\n",
       "       [0.79, 0.21],\n",
       "       [0.89, 0.11],\n",
       "       [0.95, 0.05],\n",
       "       [0.02, 0.98],\n",
       "       [0.64, 0.36],\n",
       "       [0.73, 0.27],\n",
       "       [0.98, 0.02],\n",
       "       [0.76, 0.24],\n",
       "       [0.87, 0.13],\n",
       "       [0.92, 0.08],\n",
       "       [0.69, 0.31],\n",
       "       [0.73, 0.27],\n",
       "       [0.6 , 0.4 ],\n",
       "       [0.89, 0.11],\n",
       "       [0.91, 0.09],\n",
       "       [0.74, 0.26],\n",
       "       [0.61, 0.39],\n",
       "       [0.9 , 0.1 ],\n",
       "       [0.78, 0.22],\n",
       "       [0.85, 0.15],\n",
       "       [0.69, 0.31],\n",
       "       [0.35, 0.65],\n",
       "       [0.81, 0.19],\n",
       "       [0.96, 0.04],\n",
       "       [0.75, 0.25],\n",
       "       [0.78, 0.22],\n",
       "       [0.8 , 0.2 ],\n",
       "       [0.72, 0.28],\n",
       "       [0.96, 0.04],\n",
       "       [0.91, 0.09],\n",
       "       [0.86, 0.14],\n",
       "       [0.98, 0.02],\n",
       "       [0.07, 0.93],\n",
       "       [0.8 , 0.2 ],\n",
       "       [0.55, 0.45],\n",
       "       [0.69, 0.31],\n",
       "       [0.96, 0.04],\n",
       "       [0.88, 0.12],\n",
       "       [0.76, 0.24],\n",
       "       [0.74, 0.26],\n",
       "       [0.71, 0.29],\n",
       "       [0.97, 0.03],\n",
       "       [0.58, 0.42],\n",
       "       [0.64, 0.36],\n",
       "       [0.52, 0.48],\n",
       "       [0.89, 0.11],\n",
       "       [0.93, 0.07],\n",
       "       [0.82, 0.18],\n",
       "       [0.78, 0.22],\n",
       "       [0.97, 0.03],\n",
       "       [0.89, 0.11],\n",
       "       [0.65, 0.35],\n",
       "       [0.29, 0.71],\n",
       "       [0.89, 0.11],\n",
       "       [0.58, 0.42],\n",
       "       [0.92, 0.08],\n",
       "       [0.16, 0.84],\n",
       "       [0.77, 0.23],\n",
       "       [0.78, 0.22],\n",
       "       [0.68, 0.32],\n",
       "       [0.4 , 0.6 ],\n",
       "       [0.06, 0.94],\n",
       "       [0.89, 0.11],\n",
       "       [0.81, 0.19],\n",
       "       [0.84, 0.16],\n",
       "       [0.07, 0.93],\n",
       "       [0.84, 0.16],\n",
       "       [0.77, 0.23],\n",
       "       [0.33, 0.67],\n",
       "       [0.54, 0.46],\n",
       "       [0.87, 0.13],\n",
       "       [0.86, 0.14],\n",
       "       [0.91, 0.09],\n",
       "       [0.53, 0.47],\n",
       "       [0.93, 0.07],\n",
       "       [0.6 , 0.4 ],\n",
       "       [0.71, 0.29],\n",
       "       [0.83, 0.17],\n",
       "       [0.26, 0.74],\n",
       "       [0.11, 0.89],\n",
       "       [0.79, 0.21],\n",
       "       [0.69, 0.31],\n",
       "       [0.77, 0.23],\n",
       "       [0.83, 0.17],\n",
       "       [0.86, 0.14],\n",
       "       [0.96, 0.04],\n",
       "       [0.92, 0.08],\n",
       "       [0.05, 0.95],\n",
       "       [0.67, 0.33],\n",
       "       [0.92, 0.08],\n",
       "       [0.8 , 0.2 ],\n",
       "       [0.56, 0.44],\n",
       "       [0.73, 0.27],\n",
       "       [0.75, 0.25],\n",
       "       [0.81, 0.19],\n",
       "       [0.61, 0.39],\n",
       "       [0.67, 0.33],\n",
       "       [0.63, 0.37],\n",
       "       [0.87, 0.13],\n",
       "       [0.8 , 0.2 ],\n",
       "       [0.78, 0.22],\n",
       "       [0.86, 0.14],\n",
       "       [0.86, 0.14],\n",
       "       [0.95, 0.05],\n",
       "       [0.07, 0.93],\n",
       "       [0.95, 0.05],\n",
       "       [0.88, 0.12],\n",
       "       [0.14, 0.86],\n",
       "       [0.83, 0.17],\n",
       "       [0.29, 0.71],\n",
       "       [0.2 , 0.8 ],\n",
       "       [0.79, 0.21],\n",
       "       [0.52, 0.48],\n",
       "       [0.83, 0.17],\n",
       "       [0.48, 0.52],\n",
       "       [0.82, 0.18],\n",
       "       [0.71, 0.29]])"
      ]
     },
     "execution_count": 31,
     "metadata": {},
     "output_type": "execute_result"
    }
   ],
   "source": [
    "y_test_pred_proba"
   ]
  },
  {
   "cell_type": "code",
   "execution_count": 32,
   "metadata": {},
   "outputs": [
    {
     "data": {
      "text/plain": [
       "array([0.49, 0.28, 0.01, 0.05, 0.3 , 0.27, 0.21, 0.11, 0.05, 0.98, 0.36,\n",
       "       0.27, 0.02, 0.24, 0.13, 0.08, 0.31, 0.27, 0.4 , 0.11, 0.09, 0.26,\n",
       "       0.39, 0.1 , 0.22, 0.15, 0.31, 0.65, 0.19, 0.04, 0.25, 0.22, 0.2 ,\n",
       "       0.28, 0.04, 0.09, 0.14, 0.02, 0.93, 0.2 , 0.45, 0.31, 0.04, 0.12,\n",
       "       0.24, 0.26, 0.29, 0.03, 0.42, 0.36, 0.48, 0.11, 0.07, 0.18, 0.22,\n",
       "       0.03, 0.11, 0.35, 0.71, 0.11, 0.42, 0.08, 0.84, 0.23, 0.22, 0.32,\n",
       "       0.6 , 0.94, 0.11, 0.19, 0.16, 0.93, 0.16, 0.23, 0.67, 0.46, 0.13,\n",
       "       0.14, 0.09, 0.47, 0.07, 0.4 , 0.29, 0.17, 0.74, 0.89, 0.21, 0.31,\n",
       "       0.23, 0.17, 0.14, 0.04, 0.08, 0.95, 0.33, 0.08, 0.2 , 0.44, 0.27,\n",
       "       0.25, 0.19, 0.39, 0.33, 0.37, 0.13, 0.2 , 0.22, 0.14, 0.14, 0.05,\n",
       "       0.93, 0.05, 0.12, 0.86, 0.17, 0.71, 0.8 , 0.21, 0.48, 0.17, 0.52,\n",
       "       0.18, 0.29])"
      ]
     },
     "execution_count": 32,
     "metadata": {},
     "output_type": "execute_result"
    }
   ],
   "source": [
    "y_test_pred_proba[:, 1]"
   ]
  },
  {
   "cell_type": "code",
   "execution_count": 33,
   "metadata": {},
   "outputs": [],
   "source": [
    "from sklearn.metrics import roc_auc_score"
   ]
  },
  {
   "cell_type": "code",
   "execution_count": 34,
   "metadata": {},
   "outputs": [
    {
     "data": {
      "text/plain": [
       "0.7328173374613004"
      ]
     },
     "execution_count": 34,
     "metadata": {},
     "output_type": "execute_result"
    }
   ],
   "source": [
    "roc_auc_score(y_test, y_test_pred_proba[:, 1])"
   ]
  },
  {
   "cell_type": "code",
   "execution_count": 35,
   "metadata": {},
   "outputs": [
    {
     "data": {
      "image/png": "[encoded data removed]",
      "text/plain": [
       "<Figure size 576x432 with 1 Axes>"
      ]
     },
     "metadata": {
      "needs_background": "light"
     },
     "output_type": "display_data"
    }
   ],
   "source": [
    "plot_roc_curve(y_test, y_test_pred_proba[:, 1], label = '')"
   ]
  },
  {
   "cell_type": "markdown",
   "metadata": {},
   "source": [
    "## random forest"
   ]
  },
  {
   "cell_type": "markdown",
   "metadata": {},
   "source": [
    "Encontrar los mejores hiperparámetros con Grid Search"
   ]
  },
  {
   "cell_type": "code",
   "execution_count": 36,
   "metadata": {},
   "outputs": [],
   "source": [
    "from sklearn.ensemble import RandomForestClassifier"
   ]
  },
  {
   "cell_type": "code",
   "execution_count": 37,
   "metadata": {},
   "outputs": [],
   "source": [
    "# params = {'criterion': ['gini', 'entropy'],\n",
    "#           'max_depth': [5, 10, 20],\n",
    "#           'min_samples_split': [10, 25, 50, 100],\n",
    "#           'n_estimators': [25, 50, 100, 150],\n",
    "#           'random_state': [seed]}\n",
    "\n",
    "params = {'criterion': ['gini', 'entropy'],\n",
    "          'max_depth': [5, 10],\n",
    "          'min_samples_split': [10, 25, 50],\n",
    "          'n_estimators': [25, 50, 100],\n",
    "          'random_state': [seed]}"
   ]
  },
  {
   "cell_type": "code",
   "execution_count": 38,
   "metadata": {},
   "outputs": [],
   "source": [
    "from sklearn.model_selection import GridSearchCV"
   ]
  },
  {
   "cell_type": "code",
   "execution_count": 39,
   "metadata": {},
   "outputs": [],
   "source": [
    "rf = RandomForestClassifier()"
   ]
  },
  {
   "cell_type": "code",
   "execution_count": 40,
   "metadata": {},
   "outputs": [
    {
     "data": {
      "text/plain": [
       "{'bootstrap': True,\n",
       " 'ccp_alpha': 0.0,\n",
       " 'class_weight': None,\n",
       " 'criterion': 'gini',\n",
       " 'max_depth': None,\n",
       " 'max_features': 'auto',\n",
       " 'max_leaf_nodes': None,\n",
       " 'max_samples': None,\n",
       " 'min_impurity_decrease': 0.0,\n",
       " 'min_impurity_split': None,\n",
       " 'min_samples_leaf': 1,\n",
       " 'min_samples_split': 2,\n",
       " 'min_weight_fraction_leaf': 0.0,\n",
       " 'n_estimators': 100,\n",
       " 'n_jobs': None,\n",
       " 'oob_score': False,\n",
       " 'random_state': None,\n",
       " 'verbose': 0,\n",
       " 'warm_start': False}"
      ]
     },
     "execution_count": 40,
     "metadata": {},
     "output_type": "execute_result"
    }
   ],
   "source": [
    "rf.get_params()"
   ]
  },
  {
   "cell_type": "code",
   "execution_count": 41,
   "metadata": {},
   "outputs": [],
   "source": [
    "gs = GridSearchCV(estimator = rf, param_grid = params, scoring = 'roc_auc')"
   ]
  },
  {
   "cell_type": "code",
   "execution_count": 42,
   "metadata": {},
   "outputs": [
    {
     "data": {
      "text/plain": [
       "GridSearchCV(estimator=RandomForestClassifier(),\n",
       "             param_grid={'criterion': ['gini', 'entropy'], 'max_depth': [5, 10],\n",
       "                         'min_samples_split': [10, 25, 50],\n",
       "                         'n_estimators': [25, 50, 100],\n",
       "                         'random_state': [12345]},\n",
       "             scoring='roc_auc')"
      ]
     },
     "execution_count": 42,
     "metadata": {},
     "output_type": "execute_result"
    }
   ],
   "source": [
    "gs.fit(X_train, y_train)"
   ]
  },
  {
   "cell_type": "code",
   "execution_count": 43,
   "metadata": {},
   "outputs": [
    {
     "data": {
      "text/plain": [
       "RandomForestClassifier(max_depth=10, min_samples_split=10, n_estimators=50,\n",
       "                       random_state=12345)"
      ]
     },
     "execution_count": 43,
     "metadata": {},
     "output_type": "execute_result"
    }
   ],
   "source": [
    "gs.best_estimator_"
   ]
  },
  {
   "cell_type": "code",
   "execution_count": 44,
   "metadata": {},
   "outputs": [
    {
     "data": {
      "text/plain": [
       "{'criterion': 'gini',\n",
       " 'max_depth': 10,\n",
       " 'min_samples_split': 10,\n",
       " 'n_estimators': 50,\n",
       " 'random_state': 12345}"
      ]
     },
     "execution_count": 44,
     "metadata": {},
     "output_type": "execute_result"
    }
   ],
   "source": [
    "gs.best_params_"
   ]
  },
  {
   "cell_type": "code",
   "execution_count": 45,
   "metadata": {},
   "outputs": [
    {
     "data": {
      "text/plain": [
       "0.7687635352648522"
      ]
     },
     "execution_count": 45,
     "metadata": {},
     "output_type": "execute_result"
    }
   ],
   "source": [
    "gs.best_score_"
   ]
  },
  {
   "cell_type": "markdown",
   "metadata": {},
   "source": [
    "usamos el mejor random forest para evaluar el test"
   ]
  },
  {
   "cell_type": "code",
   "execution_count": 46,
   "metadata": {},
   "outputs": [],
   "source": [
    "best_rf = gs.best_estimator_"
   ]
  },
  {
   "cell_type": "code",
   "execution_count": 47,
   "metadata": {},
   "outputs": [],
   "source": [
    "y_test_pred_proba = best_rf.predict_proba(X_test)[:,1]"
   ]
  },
  {
   "cell_type": "code",
   "execution_count": 48,
   "metadata": {},
   "outputs": [],
   "source": [
    "from sklearn.metrics import roc_auc_score"
   ]
  },
  {
   "cell_type": "code",
   "execution_count": 49,
   "metadata": {},
   "outputs": [
    {
     "data": {
      "text/plain": [
       "0.760061919504644"
      ]
     },
     "execution_count": 49,
     "metadata": {},
     "output_type": "execute_result"
    }
   ],
   "source": [
    "roc_auc_score(y_test, y_test_pred_proba)"
   ]
  },
  {
   "cell_type": "code",
   "execution_count": 50,
   "metadata": {},
   "outputs": [
    {
     "data": {
      "image/png": "[encoded data removed]",
      "text/plain": [
       "<Figure size 576x432 with 1 Axes>"
      ]
     },
     "metadata": {
      "needs_background": "light"
     },
     "output_type": "display_data"
    }
   ],
   "source": [
    "plot_roc_curve(y_test, y_test_pred_proba, 'Random Forest')"
   ]
  },
  {
   "cell_type": "markdown",
   "metadata": {},
   "source": [
    "Importancia de variables"
   ]
  },
  {
   "cell_type": "code",
   "execution_count": 51,
   "metadata": {
    "scrolled": true
   },
   "outputs": [
    {
     "data": {
      "text/plain": [
       "array([0.01146114, 0.07218219, 0.05507989, 0.05576436, 0.02247003,\n",
       "       0.43215214, 0.0022592 , 0.00717535, 0.00916068, 0.00716846,\n",
       "       0.01436854, 0.00623295, 0.08044629, 0.07840057, 0.05690328,\n",
       "       0.08877492])"
      ]
     },
     "execution_count": 51,
     "metadata": {},
     "output_type": "execute_result"
    }
   ],
   "source": [
    "best_rf.feature_importances_"
   ]
  },
  {
   "cell_type": "code",
   "execution_count": 52,
   "metadata": {},
   "outputs": [],
   "source": [
    "importances = pd.DataFrame({'columna': X_train.columns, 'importance_rf': best_rf.feature_importances_})"
   ]
  },
  {
   "cell_type": "code",
   "execution_count": 53,
   "metadata": {},
   "outputs": [
    {
     "data": {
      "text/html": [
       "<div>\n",
       "<style scoped>\n",
       "    .dataframe tbody tr th:only-of-type {\n",
       "        vertical-align: middle;\n",
       "    }\n",
       "\n",
       "    .dataframe tbody tr th {\n",
       "        vertical-align: top;\n",
       "    }\n",
       "\n",
       "    .dataframe thead th {\n",
       "        text-align: right;\n",
       "    }\n",
       "</style>\n",
       "<table border=\"1\" class=\"dataframe\">\n",
       "  <thead>\n",
       "    <tr style=\"text-align: right;\">\n",
       "      <th></th>\n",
       "      <th>columna</th>\n",
       "      <th>importance_rf</th>\n",
       "    </tr>\n",
       "  </thead>\n",
       "  <tbody>\n",
       "    <tr>\n",
       "      <th>5</th>\n",
       "      <td>Credit_History</td>\n",
       "      <td>0.432152</td>\n",
       "    </tr>\n",
       "    <tr>\n",
       "      <th>15</th>\n",
       "      <td>%Cuota</td>\n",
       "      <td>0.088775</td>\n",
       "    </tr>\n",
       "    <tr>\n",
       "      <th>12</th>\n",
       "      <td>TotalIncome</td>\n",
       "      <td>0.080446</td>\n",
       "    </tr>\n",
       "    <tr>\n",
       "      <th>13</th>\n",
       "      <td>TotalIncomeByPerson</td>\n",
       "      <td>0.078401</td>\n",
       "    </tr>\n",
       "    <tr>\n",
       "      <th>1</th>\n",
       "      <td>ApplicantIncome</td>\n",
       "      <td>0.072182</td>\n",
       "    </tr>\n",
       "    <tr>\n",
       "      <th>14</th>\n",
       "      <td>Cuota</td>\n",
       "      <td>0.056903</td>\n",
       "    </tr>\n",
       "    <tr>\n",
       "      <th>3</th>\n",
       "      <td>LoanAmount</td>\n",
       "      <td>0.055764</td>\n",
       "    </tr>\n",
       "    <tr>\n",
       "      <th>2</th>\n",
       "      <td>CoapplicantIncome</td>\n",
       "      <td>0.055080</td>\n",
       "    </tr>\n",
       "    <tr>\n",
       "      <th>4</th>\n",
       "      <td>Loan_Amount_Term</td>\n",
       "      <td>0.022470</td>\n",
       "    </tr>\n",
       "    <tr>\n",
       "      <th>10</th>\n",
       "      <td>Property_Area_Semiurban</td>\n",
       "      <td>0.014369</td>\n",
       "    </tr>\n",
       "    <tr>\n",
       "      <th>0</th>\n",
       "      <td>Dependents</td>\n",
       "      <td>0.011461</td>\n",
       "    </tr>\n",
       "    <tr>\n",
       "      <th>8</th>\n",
       "      <td>Education_Not Graduate</td>\n",
       "      <td>0.009161</td>\n",
       "    </tr>\n",
       "    <tr>\n",
       "      <th>7</th>\n",
       "      <td>Married_Yes</td>\n",
       "      <td>0.007175</td>\n",
       "    </tr>\n",
       "    <tr>\n",
       "      <th>9</th>\n",
       "      <td>Self_Employed_Yes</td>\n",
       "      <td>0.007168</td>\n",
       "    </tr>\n",
       "    <tr>\n",
       "      <th>11</th>\n",
       "      <td>Property_Area_Urban</td>\n",
       "      <td>0.006233</td>\n",
       "    </tr>\n",
       "    <tr>\n",
       "      <th>6</th>\n",
       "      <td>Gender_Male</td>\n",
       "      <td>0.002259</td>\n",
       "    </tr>\n",
       "  </tbody>\n",
       "</table>\n",
       "</div>"
      ],
      "text/plain": [
       "                    columna  importance_rf\n",
       "5            Credit_History       0.432152\n",
       "15                   %Cuota       0.088775\n",
       "12              TotalIncome       0.080446\n",
       "13      TotalIncomeByPerson       0.078401\n",
       "1           ApplicantIncome       0.072182\n",
       "14                    Cuota       0.056903\n",
       "3                LoanAmount       0.055764\n",
       "2         CoapplicantIncome       0.055080\n",
       "4          Loan_Amount_Term       0.022470\n",
       "10  Property_Area_Semiurban       0.014369\n",
       "0                Dependents       0.011461\n",
       "8    Education_Not Graduate       0.009161\n",
       "7               Married_Yes       0.007175\n",
       "9         Self_Employed_Yes       0.007168\n",
       "11      Property_Area_Urban       0.006233\n",
       "6               Gender_Male       0.002259"
      ]
     },
     "execution_count": 53,
     "metadata": {},
     "output_type": "execute_result"
    }
   ],
   "source": [
    "importances.sort_values(by = 'importance_rf', ascending = False)"
   ]
  },
  {
   "cell_type": "markdown",
   "metadata": {},
   "source": [
    "## random forest - boruta"
   ]
  },
  {
   "cell_type": "markdown",
   "metadata": {},
   "source": [
    "Documentación https://github.com/scikit-learn-contrib/boruta_py"
   ]
  },
  {
   "cell_type": "code",
   "execution_count": 55,
   "metadata": {},
   "outputs": [],
   "source": [
    "from boruta import BorutaPy"
   ]
  },
  {
   "cell_type": "code",
   "execution_count": 56,
   "metadata": {
    "scrolled": false
   },
   "outputs": [
    {
     "data": {
      "text/plain": [
       "BorutaPy(estimator=RandomForestClassifier(max_depth=10, min_samples_split=10,\n",
       "                                          n_estimators=24,\n",
       "                                          random_state=RandomState(MT19937) at 0x10B4436B0),\n",
       "         n_estimators='auto', random_state=RandomState(MT19937) at 0x10B4436B0)"
      ]
     },
     "execution_count": 56,
     "metadata": {},
     "output_type": "execute_result"
    }
   ],
   "source": [
    "boruta = BorutaPy(estimator = best_rf, n_estimators = 'auto', max_iter = 100)\n",
    "boruta.fit(X_train.values, y_train.values)"
   ]
  },
  {
   "cell_type": "code",
   "execution_count": 57,
   "metadata": {},
   "outputs": [
    {
     "data": {
      "text/plain": [
       "Index(['Dependents', 'ApplicantIncome', 'CoapplicantIncome', 'LoanAmount',\n",
       "       'Loan_Amount_Term', 'Credit_History', 'Gender_Male', 'Married_Yes',\n",
       "       'Education_Not Graduate', 'Self_Employed_Yes',\n",
       "       'Property_Area_Semiurban', 'Property_Area_Urban', 'TotalIncome',\n",
       "       'TotalIncomeByPerson', 'Cuota', '%Cuota'],\n",
       "      dtype='object')"
      ]
     },
     "execution_count": 57,
     "metadata": {},
     "output_type": "execute_result"
    }
   ],
   "source": [
    "X_train.columns"
   ]
  },
  {
   "cell_type": "code",
   "execution_count": 58,
   "metadata": {},
   "outputs": [
    {
     "data": {
      "text/plain": [
       "array([False, False, False, False, False,  True, False, False, False,\n",
       "       False, False, False,  True, False, False,  True])"
      ]
     },
     "execution_count": 58,
     "metadata": {},
     "output_type": "execute_result"
    }
   ],
   "source": [
    "boruta.support_"
   ]
  },
  {
   "cell_type": "code",
   "execution_count": 59,
   "metadata": {},
   "outputs": [
    {
     "data": {
      "text/plain": [
       "array([False, False, False, False, False, False, False, False, False,\n",
       "       False, False, False, False, False, False, False])"
      ]
     },
     "execution_count": 59,
     "metadata": {},
     "output_type": "execute_result"
    }
   ],
   "source": [
    "boruta.support_weak_"
   ]
  },
  {
   "cell_type": "code",
   "execution_count": 60,
   "metadata": {},
   "outputs": [
    {
     "data": {
      "text/plain": [
       "{'alpha': 0.05,\n",
       " 'estimator__bootstrap': True,\n",
       " 'estimator__ccp_alpha': 0.0,\n",
       " 'estimator__class_weight': None,\n",
       " 'estimator__criterion': 'gini',\n",
       " 'estimator__max_depth': 10,\n",
       " 'estimator__max_features': 'auto',\n",
       " 'estimator__max_leaf_nodes': None,\n",
       " 'estimator__max_samples': None,\n",
       " 'estimator__min_impurity_decrease': 0.0,\n",
       " 'estimator__min_impurity_split': None,\n",
       " 'estimator__min_samples_leaf': 1,\n",
       " 'estimator__min_samples_split': 10,\n",
       " 'estimator__min_weight_fraction_leaf': 0.0,\n",
       " 'estimator__n_estimators': 24,\n",
       " 'estimator__n_jobs': None,\n",
       " 'estimator__oob_score': False,\n",
       " 'estimator__random_state': RandomState(MT19937) at 0x10B4436B0,\n",
       " 'estimator__verbose': 0,\n",
       " 'estimator__warm_start': False,\n",
       " 'estimator': RandomForestClassifier(max_depth=10, min_samples_split=10, n_estimators=24,\n",
       "                        random_state=RandomState(MT19937) at 0x10B4436B0),\n",
       " 'max_iter': 100,\n",
       " 'n_estimators': 'auto',\n",
       " 'perc': 100,\n",
       " 'random_state': RandomState(MT19937) at 0x10B4436B0,\n",
       " 'two_step': True,\n",
       " 'verbose': 0}"
      ]
     },
     "execution_count": 60,
     "metadata": {},
     "output_type": "execute_result"
    }
   ],
   "source": [
    "boruta.get_params()"
   ]
  },
  {
   "cell_type": "code",
   "execution_count": 61,
   "metadata": {},
   "outputs": [],
   "source": [
    "green_area = X_train.columns[boruta.support_].to_list()\n",
    "blue_area = X_train.columns[boruta.support_weak_].to_list()"
   ]
  },
  {
   "cell_type": "code",
   "execution_count": 62,
   "metadata": {},
   "outputs": [
    {
     "name": "stdout",
     "output_type": "stream",
     "text": [
      "features in the green area: ['Credit_History', 'TotalIncome', '%Cuota']\n",
      "features in the blue area: []\n"
     ]
    }
   ],
   "source": [
    "print('features in the green area:', green_area)\n",
    "print('features in the blue area:', blue_area)"
   ]
  }
 ],
 "metadata": {
  "kernelspec": {
   "display_name": "Python 3",
   "language": "python",
   "name": "python3"
  },
  "language_info": {
   "codemirror_mode": {
    "name": "ipython",
    "version": 3
   },
   "file_extension": ".py",
   "mimetype": "text/x-python",
   "name": "python",
   "nbconvert_exporter": "python",
   "pygments_lexer": "ipython3",
   "version": "3.7.4"
  },
  "toc": {
   "base_numbering": 1,
   "nav_menu": {},
   "number_sections": true,
   "sideBar": true,
   "skip_h1_title": false,
   "title_cell": "Table of Contents",
   "title_sidebar": "Contents",
   "toc_cell": false,
   "toc_position": {
    "height": "calc(100% - 180px)",
    "left": "10px",
    "top": "150px",
    "width": "165px"
   },
   "toc_section_display": true,
   "toc_window_display": false
  },
  "varInspector": {
   "cols": {
    "lenName": 16,
    "lenType": 16,
    "lenVar": 40
   },
   "kernels_config": {
    "python": {
     "delete_cmd_postfix": "",
     "delete_cmd_prefix": "del ",
     "library": "var_list.py",
     "varRefreshCmd": "print(var_dic_list())"
    },
    "r": {
     "delete_cmd_postfix": ") ",
     "delete_cmd_prefix": "rm(",
     "library": "var_list.r",
     "varRefreshCmd": "cat(var_dic_list()) "
    }
   },
   "types_to_exclude": [
    "module",
    "function",
    "builtin_function_or_method",
    "instance",
    "_Feature"
   ],
   "window_display": false
  }
 },
 "nbformat": 4,
 "nbformat_minor": 4
}
