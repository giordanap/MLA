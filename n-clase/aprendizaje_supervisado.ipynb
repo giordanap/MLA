{
 "cells": [
  {
   "cell_type": "code",
   "execution_count": 1,
   "metadata": {},
   "outputs": [],
   "source": [
    "# pip install seaborn"
   ]
  },
  {
   "cell_type": "code",
   "execution_count": 2,
   "metadata": {},
   "outputs": [],
   "source": [
    "import random\r\n",
    "import pandas as pd\r\n",
    "import numpy as np\r\n",
    "import sklearn\r\n",
    "\r\n",
    "import seaborn as sns\r\n",
    "import matplotlib.pyplot as plt"
   ]
  },
  {
   "cell_type": "code",
   "execution_count": 3,
   "metadata": {},
   "outputs": [],
   "source": [
    "import warnings"
   ]
  },
  {
   "cell_type": "code",
   "execution_count": 4,
   "metadata": {},
   "outputs": [],
   "source": [
    "# Evita que muestre algunas advertencias cuando reemplzamos columnas en pandas\r\n",
    "warnings.filterwarnings('ignore')"
   ]
  },
  {
   "cell_type": "code",
   "execution_count": 5,
   "metadata": {},
   "outputs": [],
   "source": [
    "seed = 12345"
   ]
  },
  {
   "cell_type": "markdown",
   "metadata": {},
   "source": [
    "### Funciones"
   ]
  },
  {
   "cell_type": "code",
   "execution_count": 6,
   "metadata": {},
   "outputs": [],
   "source": [
    "def clip_perc(df,var,perc = [.01,.025,.05,.075,.1,.25]):\r\n",
    "    \r\n",
    "    clip_left = np.percentile(df[var], 0)\r\n",
    "    clip_right = np.percentile(df[var], 100)\r\n",
    "    perc_left = np.nan\r\n",
    "    perc_right = np.nan\r\n",
    "\r\n",
    "    for i in perc:\r\n",
    "        \r\n",
    "        p_left = np.percentile(df[var], i * 100)\r\n",
    "\r\n",
    "        if (clip_left <= 2 * p_left):\r\n",
    "            clip_left = p_left\r\n",
    "            perc_left = i\r\n",
    "            break\r\n",
    "\r\n",
    "    for i in perc:\r\n",
    "        \r\n",
    "        p_right = np.percentile(df[var], (1 - i) * 100)\r\n",
    "        \r\n",
    "        if (clip_right >= 2 * p_right):\r\n",
    "            clip_right = p_right\r\n",
    "            perc_right = (1 - i)\r\n",
    "            break\r\n",
    "\r\n",
    "    return [ [perc_left, perc_right], [clip_left, clip_right] ]"
   ]
  },
  {
   "cell_type": "code",
   "execution_count": 7,
   "metadata": {},
   "outputs": [],
   "source": [
    "data_creditos = pd.read_csv('../01-aprendizaje_supervisado/loan_prediction.csv')"
   ]
  },
  {
   "cell_type": "code",
   "execution_count": 8,
   "metadata": {},
   "outputs": [
    {
     "data": {
      "text/html": [
       "<div>\n",
       "<style scoped>\n",
       "    .dataframe tbody tr th:only-of-type {\n",
       "        vertical-align: middle;\n",
       "    }\n",
       "\n",
       "    .dataframe tbody tr th {\n",
       "        vertical-align: top;\n",
       "    }\n",
       "\n",
       "    .dataframe thead th {\n",
       "        text-align: right;\n",
       "    }\n",
       "</style>\n",
       "<table border=\"1\" class=\"dataframe\">\n",
       "  <thead>\n",
       "    <tr style=\"text-align: right;\">\n",
       "      <th></th>\n",
       "      <th>Loan_ID</th>\n",
       "      <th>Gender</th>\n",
       "      <th>Married</th>\n",
       "      <th>Dependents</th>\n",
       "      <th>Education</th>\n",
       "      <th>Self_Employed</th>\n",
       "      <th>ApplicantIncome</th>\n",
       "      <th>CoapplicantIncome</th>\n",
       "      <th>LoanAmount</th>\n",
       "      <th>Loan_Amount_Term</th>\n",
       "      <th>Credit_History</th>\n",
       "      <th>Property_Area</th>\n",
       "      <th>Loan_Status</th>\n",
       "    </tr>\n",
       "  </thead>\n",
       "  <tbody>\n",
       "    <tr>\n",
       "      <th>0</th>\n",
       "      <td>LP001002</td>\n",
       "      <td>Male</td>\n",
       "      <td>No</td>\n",
       "      <td>0</td>\n",
       "      <td>Graduate</td>\n",
       "      <td>No</td>\n",
       "      <td>5849</td>\n",
       "      <td>0.0</td>\n",
       "      <td>NaN</td>\n",
       "      <td>360.0</td>\n",
       "      <td>1.0</td>\n",
       "      <td>Urban</td>\n",
       "      <td>Y</td>\n",
       "    </tr>\n",
       "    <tr>\n",
       "      <th>1</th>\n",
       "      <td>LP001003</td>\n",
       "      <td>Male</td>\n",
       "      <td>Yes</td>\n",
       "      <td>1</td>\n",
       "      <td>Graduate</td>\n",
       "      <td>No</td>\n",
       "      <td>4583</td>\n",
       "      <td>1508.0</td>\n",
       "      <td>128.0</td>\n",
       "      <td>360.0</td>\n",
       "      <td>1.0</td>\n",
       "      <td>Rural</td>\n",
       "      <td>N</td>\n",
       "    </tr>\n",
       "  </tbody>\n",
       "</table>\n",
       "</div>"
      ],
      "text/plain": [
       "    Loan_ID Gender Married Dependents Education Self_Employed  \\\n",
       "0  LP001002   Male      No          0  Graduate            No   \n",
       "1  LP001003   Male     Yes          1  Graduate            No   \n",
       "\n",
       "   ApplicantIncome  CoapplicantIncome  LoanAmount  Loan_Amount_Term  \\\n",
       "0             5849                0.0         NaN             360.0   \n",
       "1             4583             1508.0       128.0             360.0   \n",
       "\n",
       "   Credit_History Property_Area Loan_Status  \n",
       "0             1.0         Urban           Y  \n",
       "1             1.0         Rural           N  "
      ]
     },
     "execution_count": 8,
     "metadata": {},
     "output_type": "execute_result"
    }
   ],
   "source": [
    "data_creditos.head(2)"
   ]
  },
  {
   "cell_type": "code",
   "execution_count": 9,
   "metadata": {},
   "outputs": [
    {
     "data": {
      "text/html": [
       "<div>\n",
       "<style scoped>\n",
       "    .dataframe tbody tr th:only-of-type {\n",
       "        vertical-align: middle;\n",
       "    }\n",
       "\n",
       "    .dataframe tbody tr th {\n",
       "        vertical-align: top;\n",
       "    }\n",
       "\n",
       "    .dataframe thead th {\n",
       "        text-align: right;\n",
       "    }\n",
       "</style>\n",
       "<table border=\"1\" class=\"dataframe\">\n",
       "  <thead>\n",
       "    <tr style=\"text-align: right;\">\n",
       "      <th></th>\n",
       "      <th>ApplicantIncome</th>\n",
       "      <th>CoapplicantIncome</th>\n",
       "      <th>LoanAmount</th>\n",
       "      <th>Loan_Amount_Term</th>\n",
       "      <th>Credit_History</th>\n",
       "    </tr>\n",
       "  </thead>\n",
       "  <tbody>\n",
       "    <tr>\n",
       "      <th>count</th>\n",
       "      <td>614.000000</td>\n",
       "      <td>614.000000</td>\n",
       "      <td>592.000000</td>\n",
       "      <td>600.00000</td>\n",
       "      <td>564.000000</td>\n",
       "    </tr>\n",
       "    <tr>\n",
       "      <th>mean</th>\n",
       "      <td>5403.459283</td>\n",
       "      <td>1621.245798</td>\n",
       "      <td>146.412162</td>\n",
       "      <td>342.00000</td>\n",
       "      <td>0.842199</td>\n",
       "    </tr>\n",
       "    <tr>\n",
       "      <th>std</th>\n",
       "      <td>6109.041673</td>\n",
       "      <td>2926.248369</td>\n",
       "      <td>85.587325</td>\n",
       "      <td>65.12041</td>\n",
       "      <td>0.364878</td>\n",
       "    </tr>\n",
       "    <tr>\n",
       "      <th>min</th>\n",
       "      <td>150.000000</td>\n",
       "      <td>0.000000</td>\n",
       "      <td>9.000000</td>\n",
       "      <td>12.00000</td>\n",
       "      <td>0.000000</td>\n",
       "    </tr>\n",
       "    <tr>\n",
       "      <th>50%</th>\n",
       "      <td>3812.500000</td>\n",
       "      <td>1188.500000</td>\n",
       "      <td>128.000000</td>\n",
       "      <td>360.00000</td>\n",
       "      <td>1.000000</td>\n",
       "    </tr>\n",
       "    <tr>\n",
       "      <th>90%</th>\n",
       "      <td>9459.900000</td>\n",
       "      <td>3782.200000</td>\n",
       "      <td>235.800000</td>\n",
       "      <td>360.00000</td>\n",
       "      <td>1.000000</td>\n",
       "    </tr>\n",
       "    <tr>\n",
       "      <th>92.5%</th>\n",
       "      <td>10752.075000</td>\n",
       "      <td>4300.025000</td>\n",
       "      <td>259.000000</td>\n",
       "      <td>360.00000</td>\n",
       "      <td>1.000000</td>\n",
       "    </tr>\n",
       "    <tr>\n",
       "      <th>95%</th>\n",
       "      <td>14583.000000</td>\n",
       "      <td>4997.400000</td>\n",
       "      <td>297.800000</td>\n",
       "      <td>360.00000</td>\n",
       "      <td>1.000000</td>\n",
       "    </tr>\n",
       "    <tr>\n",
       "      <th>97.5%</th>\n",
       "      <td>17948.875000</td>\n",
       "      <td>6666.675000</td>\n",
       "      <td>384.500000</td>\n",
       "      <td>363.00000</td>\n",
       "      <td>1.000000</td>\n",
       "    </tr>\n",
       "    <tr>\n",
       "      <th>99%</th>\n",
       "      <td>32540.410000</td>\n",
       "      <td>8895.890000</td>\n",
       "      <td>496.360000</td>\n",
       "      <td>480.00000</td>\n",
       "      <td>1.000000</td>\n",
       "    </tr>\n",
       "    <tr>\n",
       "      <th>max</th>\n",
       "      <td>81000.000000</td>\n",
       "      <td>41667.000000</td>\n",
       "      <td>700.000000</td>\n",
       "      <td>480.00000</td>\n",
       "      <td>1.000000</td>\n",
       "    </tr>\n",
       "  </tbody>\n",
       "</table>\n",
       "</div>"
      ],
      "text/plain": [
       "       ApplicantIncome  CoapplicantIncome  LoanAmount  Loan_Amount_Term  \\\n",
       "count       614.000000         614.000000  592.000000         600.00000   \n",
       "mean       5403.459283        1621.245798  146.412162         342.00000   \n",
       "std        6109.041673        2926.248369   85.587325          65.12041   \n",
       "min         150.000000           0.000000    9.000000          12.00000   \n",
       "50%        3812.500000        1188.500000  128.000000         360.00000   \n",
       "90%        9459.900000        3782.200000  235.800000         360.00000   \n",
       "92.5%     10752.075000        4300.025000  259.000000         360.00000   \n",
       "95%       14583.000000        4997.400000  297.800000         360.00000   \n",
       "97.5%     17948.875000        6666.675000  384.500000         363.00000   \n",
       "99%       32540.410000        8895.890000  496.360000         480.00000   \n",
       "max       81000.000000       41667.000000  700.000000         480.00000   \n",
       "\n",
       "       Credit_History  \n",
       "count      564.000000  \n",
       "mean         0.842199  \n",
       "std          0.364878  \n",
       "min          0.000000  \n",
       "50%          1.000000  \n",
       "90%          1.000000  \n",
       "92.5%        1.000000  \n",
       "95%          1.000000  \n",
       "97.5%        1.000000  \n",
       "99%          1.000000  \n",
       "max          1.000000  "
      ]
     },
     "execution_count": 9,
     "metadata": {},
     "output_type": "execute_result"
    }
   ],
   "source": [
    "data_creditos.describe(percentiles=[.9,.925,.95,.975,.99])"
   ]
  },
  {
   "cell_type": "code",
   "execution_count": 10,
   "metadata": {},
   "outputs": [
    {
     "data": {
      "text/plain": [
       "<matplotlib.axes._subplots.AxesSubplot at 0x1aa7094e7f0>"
      ]
     },
     "execution_count": 10,
     "metadata": {},
     "output_type": "execute_result"
    },
    {
     "data": {
      "image/png": "[encoded data removed]",
      "text/plain": [
       "<Figure size 432x288 with 1 Axes>"
      ]
     },
     "metadata": {
      "needs_background": "light"
     },
     "output_type": "display_data"
    }
   ],
   "source": [
    "# sns.histplot(data= data_creditos, x = 'ApplicantIncome')\n",
    "sns.distplot(data_creditos['ApplicantIncome'])"
   ]
  },
  {
   "cell_type": "code",
   "execution_count": 11,
   "metadata": {},
   "outputs": [
    {
     "data": {
      "text/plain": [
       "(614, 13)"
      ]
     },
     "execution_count": 11,
     "metadata": {},
     "output_type": "execute_result"
    }
   ],
   "source": [
    "data_creditos.shape"
   ]
  },
  {
   "cell_type": "code",
   "execution_count": 12,
   "metadata": {},
   "outputs": [
    {
     "data": {
      "text/plain": [
       "Loan_ID               object\n",
       "Gender                object\n",
       "Married               object\n",
       "Dependents            object\n",
       "Education             object\n",
       "Self_Employed         object\n",
       "ApplicantIncome        int64\n",
       "CoapplicantIncome    float64\n",
       "LoanAmount           float64\n",
       "Loan_Amount_Term     float64\n",
       "Credit_History       float64\n",
       "Property_Area         object\n",
       "Loan_Status           object\n",
       "dtype: object"
      ]
     },
     "execution_count": 12,
     "metadata": {},
     "output_type": "execute_result"
    }
   ],
   "source": [
    "data_creditos.dtypes"
   ]
  },
  {
   "cell_type": "code",
   "execution_count": 13,
   "metadata": {},
   "outputs": [],
   "source": [
    "porc_nulls = round(data_creditos.isnull().sum() * 100 / data_creditos.shape[0], 2).values\n",
    "labels = data_creditos.columns.values"
   ]
  },
  {
   "cell_type": "code",
   "execution_count": 14,
   "metadata": {},
   "outputs": [
    {
     "data": {
      "text/plain": [
       "13"
      ]
     },
     "execution_count": 14,
     "metadata": {},
     "output_type": "execute_result"
    }
   ],
   "source": [
    "len(porc_nulls)"
   ]
  },
  {
   "cell_type": "code",
   "execution_count": 15,
   "metadata": {},
   "outputs": [],
   "source": [
    "import matplotlib.pyplot as plt"
   ]
  },
  {
   "cell_type": "code",
   "execution_count": 16,
   "metadata": {},
   "outputs": [
    {
     "data": {
      "image/png": "[encoded data removed]",
      "text/plain": [
       "<Figure size 432x288 with 1 Axes>"
      ]
     },
     "metadata": {
      "needs_background": "light"
     },
     "output_type": "display_data"
    }
   ],
   "source": [
    "\n",
    "fig = plt.figure()\n",
    "ax = fig.add_axes([0,0,1,1])\n",
    "langs = labels\n",
    "students = porc_nulls\n",
    "ax.barh(langs,students)\n",
    "plt.show()"
   ]
  },
  {
   "cell_type": "code",
   "execution_count": 17,
   "metadata": {},
   "outputs": [
    {
     "data": {
      "text/plain": [
       "array(['Loan_ID', 'Gender', 'Married', 'Dependents', 'Education',\n",
       "       'Self_Employed', 'ApplicantIncome', 'CoapplicantIncome',\n",
       "       'LoanAmount', 'Loan_Amount_Term', 'Credit_History',\n",
       "       'Property_Area', 'Loan_Status'], dtype=object)"
      ]
     },
     "execution_count": 17,
     "metadata": {},
     "output_type": "execute_result"
    }
   ],
   "source": [
    "data_creditos.columns.values"
   ]
  },
  {
   "cell_type": "code",
   "execution_count": 18,
   "metadata": {},
   "outputs": [
    {
     "data": {
      "text/html": [
       "<div>\n",
       "<style scoped>\n",
       "    .dataframe tbody tr th:only-of-type {\n",
       "        vertical-align: middle;\n",
       "    }\n",
       "\n",
       "    .dataframe tbody tr th {\n",
       "        vertical-align: top;\n",
       "    }\n",
       "\n",
       "    .dataframe thead th {\n",
       "        text-align: right;\n",
       "    }\n",
       "</style>\n",
       "<table border=\"1\" class=\"dataframe\">\n",
       "  <thead>\n",
       "    <tr style=\"text-align: right;\">\n",
       "      <th></th>\n",
       "      <th>Loan_ID</th>\n",
       "      <th>Gender</th>\n",
       "      <th>Married</th>\n",
       "      <th>Dependents</th>\n",
       "      <th>Education</th>\n",
       "      <th>Self_Employed</th>\n",
       "      <th>Property_Area</th>\n",
       "      <th>Loan_Status</th>\n",
       "    </tr>\n",
       "  </thead>\n",
       "  <tbody>\n",
       "    <tr>\n",
       "      <th>count</th>\n",
       "      <td>614</td>\n",
       "      <td>601</td>\n",
       "      <td>611</td>\n",
       "      <td>599</td>\n",
       "      <td>614</td>\n",
       "      <td>582</td>\n",
       "      <td>614</td>\n",
       "      <td>614</td>\n",
       "    </tr>\n",
       "    <tr>\n",
       "      <th>unique</th>\n",
       "      <td>614</td>\n",
       "      <td>2</td>\n",
       "      <td>2</td>\n",
       "      <td>4</td>\n",
       "      <td>2</td>\n",
       "      <td>2</td>\n",
       "      <td>3</td>\n",
       "      <td>2</td>\n",
       "    </tr>\n",
       "    <tr>\n",
       "      <th>top</th>\n",
       "      <td>LP001123</td>\n",
       "      <td>Male</td>\n",
       "      <td>Yes</td>\n",
       "      <td>0</td>\n",
       "      <td>Graduate</td>\n",
       "      <td>No</td>\n",
       "      <td>Semiurban</td>\n",
       "      <td>Y</td>\n",
       "    </tr>\n",
       "    <tr>\n",
       "      <th>freq</th>\n",
       "      <td>1</td>\n",
       "      <td>489</td>\n",
       "      <td>398</td>\n",
       "      <td>345</td>\n",
       "      <td>480</td>\n",
       "      <td>500</td>\n",
       "      <td>233</td>\n",
       "      <td>422</td>\n",
       "    </tr>\n",
       "  </tbody>\n",
       "</table>\n",
       "</div>"
      ],
      "text/plain": [
       "         Loan_ID Gender Married Dependents Education Self_Employed  \\\n",
       "count        614    601     611        599       614           582   \n",
       "unique       614      2       2          4         2             2   \n",
       "top     LP001123   Male     Yes          0  Graduate            No   \n",
       "freq           1    489     398        345       480           500   \n",
       "\n",
       "       Property_Area Loan_Status  \n",
       "count            614         614  \n",
       "unique             3           2  \n",
       "top        Semiurban           Y  \n",
       "freq             233         422  "
      ]
     },
     "execution_count": 18,
     "metadata": {},
     "output_type": "execute_result"
    }
   ],
   "source": [
    "data_creditos.describe(include='object')"
   ]
  },
  {
   "cell_type": "code",
   "execution_count": 19,
   "metadata": {},
   "outputs": [
    {
     "data": {
      "text/plain": [
       "0      345\n",
       "1      102\n",
       "2      101\n",
       "3+      51\n",
       "NaN     15\n",
       "Name: Dependents, dtype: int64"
      ]
     },
     "execution_count": 19,
     "metadata": {},
     "output_type": "execute_result"
    }
   ],
   "source": [
    "data_creditos['Dependents'].value_counts(dropna=False)"
   ]
  },
  {
   "cell_type": "code",
   "execution_count": 20,
   "metadata": {},
   "outputs": [],
   "source": [
    "data_creditos['Loan_Status'] = data_creditos['Loan_Status'].map({'Y':0,'N':1})"
   ]
  },
  {
   "cell_type": "code",
   "execution_count": 21,
   "metadata": {},
   "outputs": [
    {
     "data": {
      "text/html": [
       "<div>\n",
       "<style scoped>\n",
       "    .dataframe tbody tr th:only-of-type {\n",
       "        vertical-align: middle;\n",
       "    }\n",
       "\n",
       "    .dataframe tbody tr th {\n",
       "        vertical-align: top;\n",
       "    }\n",
       "\n",
       "    .dataframe thead th {\n",
       "        text-align: right;\n",
       "    }\n",
       "</style>\n",
       "<table border=\"1\" class=\"dataframe\">\n",
       "  <thead>\n",
       "    <tr style=\"text-align: right;\">\n",
       "      <th></th>\n",
       "      <th>Loan_ID</th>\n",
       "      <th>Gender</th>\n",
       "      <th>Married</th>\n",
       "      <th>Dependents</th>\n",
       "      <th>Education</th>\n",
       "      <th>Self_Employed</th>\n",
       "      <th>ApplicantIncome</th>\n",
       "      <th>CoapplicantIncome</th>\n",
       "      <th>LoanAmount</th>\n",
       "      <th>Loan_Amount_Term</th>\n",
       "      <th>Credit_History</th>\n",
       "      <th>Property_Area</th>\n",
       "      <th>Loan_Status</th>\n",
       "    </tr>\n",
       "  </thead>\n",
       "  <tbody>\n",
       "    <tr>\n",
       "      <th>0</th>\n",
       "      <td>LP001002</td>\n",
       "      <td>Male</td>\n",
       "      <td>No</td>\n",
       "      <td>0</td>\n",
       "      <td>Graduate</td>\n",
       "      <td>No</td>\n",
       "      <td>5849</td>\n",
       "      <td>0.0</td>\n",
       "      <td>NaN</td>\n",
       "      <td>360.0</td>\n",
       "      <td>1.0</td>\n",
       "      <td>Urban</td>\n",
       "      <td>0</td>\n",
       "    </tr>\n",
       "    <tr>\n",
       "      <th>1</th>\n",
       "      <td>LP001003</td>\n",
       "      <td>Male</td>\n",
       "      <td>Yes</td>\n",
       "      <td>1</td>\n",
       "      <td>Graduate</td>\n",
       "      <td>No</td>\n",
       "      <td>4583</td>\n",
       "      <td>1508.0</td>\n",
       "      <td>128.0</td>\n",
       "      <td>360.0</td>\n",
       "      <td>1.0</td>\n",
       "      <td>Rural</td>\n",
       "      <td>1</td>\n",
       "    </tr>\n",
       "    <tr>\n",
       "      <th>2</th>\n",
       "      <td>LP001005</td>\n",
       "      <td>Male</td>\n",
       "      <td>Yes</td>\n",
       "      <td>0</td>\n",
       "      <td>Graduate</td>\n",
       "      <td>Yes</td>\n",
       "      <td>3000</td>\n",
       "      <td>0.0</td>\n",
       "      <td>66.0</td>\n",
       "      <td>360.0</td>\n",
       "      <td>1.0</td>\n",
       "      <td>Urban</td>\n",
       "      <td>0</td>\n",
       "    </tr>\n",
       "    <tr>\n",
       "      <th>3</th>\n",
       "      <td>LP001006</td>\n",
       "      <td>Male</td>\n",
       "      <td>Yes</td>\n",
       "      <td>0</td>\n",
       "      <td>Not Graduate</td>\n",
       "      <td>No</td>\n",
       "      <td>2583</td>\n",
       "      <td>2358.0</td>\n",
       "      <td>120.0</td>\n",
       "      <td>360.0</td>\n",
       "      <td>1.0</td>\n",
       "      <td>Urban</td>\n",
       "      <td>0</td>\n",
       "    </tr>\n",
       "    <tr>\n",
       "      <th>4</th>\n",
       "      <td>LP001008</td>\n",
       "      <td>Male</td>\n",
       "      <td>No</td>\n",
       "      <td>0</td>\n",
       "      <td>Graduate</td>\n",
       "      <td>No</td>\n",
       "      <td>6000</td>\n",
       "      <td>0.0</td>\n",
       "      <td>141.0</td>\n",
       "      <td>360.0</td>\n",
       "      <td>1.0</td>\n",
       "      <td>Urban</td>\n",
       "      <td>0</td>\n",
       "    </tr>\n",
       "  </tbody>\n",
       "</table>\n",
       "</div>"
      ],
      "text/plain": [
       "    Loan_ID Gender Married Dependents     Education Self_Employed  \\\n",
       "0  LP001002   Male      No          0      Graduate            No   \n",
       "1  LP001003   Male     Yes          1      Graduate            No   \n",
       "2  LP001005   Male     Yes          0      Graduate           Yes   \n",
       "3  LP001006   Male     Yes          0  Not Graduate            No   \n",
       "4  LP001008   Male      No          0      Graduate            No   \n",
       "\n",
       "   ApplicantIncome  CoapplicantIncome  LoanAmount  Loan_Amount_Term  \\\n",
       "0             5849                0.0         NaN             360.0   \n",
       "1             4583             1508.0       128.0             360.0   \n",
       "2             3000                0.0        66.0             360.0   \n",
       "3             2583             2358.0       120.0             360.0   \n",
       "4             6000                0.0       141.0             360.0   \n",
       "\n",
       "   Credit_History Property_Area  Loan_Status  \n",
       "0             1.0         Urban            0  \n",
       "1             1.0         Rural            1  \n",
       "2             1.0         Urban            0  \n",
       "3             1.0         Urban            0  \n",
       "4             1.0         Urban            0  "
      ]
     },
     "execution_count": 21,
     "metadata": {},
     "output_type": "execute_result"
    }
   ],
   "source": [
    "data_creditos.head()"
   ]
  },
  {
   "cell_type": "code",
   "execution_count": 22,
   "metadata": {},
   "outputs": [],
   "source": [
    "data_creditos['Dependents'] = data_creditos['Dependents'].map({'0':0,'1':1,'2':2,'3+':3})"
   ]
  },
  {
   "cell_type": "markdown",
   "metadata": {},
   "source": [
    "Train test split"
   ]
  },
  {
   "cell_type": "code",
   "execution_count": 23,
   "metadata": {},
   "outputs": [],
   "source": [
    "from sklearn.model_selection import train_test_split"
   ]
  },
  {
   "cell_type": "code",
   "execution_count": 24,
   "metadata": {},
   "outputs": [],
   "source": [
    "X = data_creditos.drop(['Loan_ID','Loan_Status'], axis=1)\n",
    "y = data_creditos['Loan_Status']"
   ]
  },
  {
   "cell_type": "code",
   "execution_count": 25,
   "metadata": {},
   "outputs": [],
   "source": [
    "# random state es la semilla\n",
    "# stratify yes es para mantener la proporccion del target en el train y test\n",
    "X_train, X_test, y_train, y_test = train_test_split(X,y, test_size=0.20, random_state=12345, stratify=y)"
   ]
  },
  {
   "cell_type": "code",
   "execution_count": 26,
   "metadata": {},
   "outputs": [
    {
     "data": {
      "text/plain": [
       "0.3127035830618892"
      ]
     },
     "execution_count": 26,
     "metadata": {},
     "output_type": "execute_result"
    }
   ],
   "source": [
    "y.mean()"
   ]
  },
  {
   "cell_type": "code",
   "execution_count": 27,
   "metadata": {},
   "outputs": [
    {
     "data": {
      "text/plain": [
       "0.3136456211812627"
      ]
     },
     "execution_count": 27,
     "metadata": {},
     "output_type": "execute_result"
    }
   ],
   "source": [
    "y_train.mean()"
   ]
  },
  {
   "cell_type": "code",
   "execution_count": 28,
   "metadata": {},
   "outputs": [
    {
     "data": {
      "text/plain": [
       "0.3089430894308943"
      ]
     },
     "execution_count": 28,
     "metadata": {},
     "output_type": "execute_result"
    }
   ],
   "source": [
    "y_test.mean()"
   ]
  },
  {
   "cell_type": "markdown",
   "metadata": {},
   "source": [
    "# Imputacion de nulos"
   ]
  },
  {
   "cell_type": "code",
   "execution_count": 29,
   "metadata": {},
   "outputs": [
    {
     "data": {
      "text/plain": [
       "Gender               12\n",
       "Married               3\n",
       "Dependents           14\n",
       "Education             0\n",
       "Self_Employed        27\n",
       "ApplicantIncome       0\n",
       "CoapplicantIncome     0\n",
       "LoanAmount           18\n",
       "Loan_Amount_Term     13\n",
       "Credit_History       36\n",
       "Property_Area         0\n",
       "dtype: int64"
      ]
     },
     "execution_count": 29,
     "metadata": {},
     "output_type": "execute_result"
    }
   ],
   "source": [
    "X_train.isnull().sum()"
   ]
  },
  {
   "cell_type": "code",
   "execution_count": 30,
   "metadata": {},
   "outputs": [],
   "source": [
    "# eliminamos registros con nulos en columnas\n",
    "X_aux = X_train.dropna(subset=['LoanAmount','Loan_Amount_Term'])"
   ]
  },
  {
   "cell_type": "code",
   "execution_count": 31,
   "metadata": {},
   "outputs": [
    {
     "data": {
      "text/plain": [
       "Gender               12\n",
       "Married               2\n",
       "Dependents           11\n",
       "Education             0\n",
       "Self_Employed        25\n",
       "ApplicantIncome       0\n",
       "CoapplicantIncome     0\n",
       "LoanAmount            0\n",
       "Loan_Amount_Term      0\n",
       "Credit_History       35\n",
       "Property_Area         0\n",
       "dtype: int64"
      ]
     },
     "execution_count": 31,
     "metadata": {},
     "output_type": "execute_result"
    }
   ],
   "source": [
    "X_aux.isnull().sum()"
   ]
  },
  {
   "cell_type": "code",
   "execution_count": 32,
   "metadata": {},
   "outputs": [
    {
     "data": {
      "text/plain": [
       "Gender                object\n",
       "Married               object\n",
       "Dependents           float64\n",
       "Education             object\n",
       "Self_Employed         object\n",
       "ApplicantIncome        int64\n",
       "CoapplicantIncome    float64\n",
       "LoanAmount           float64\n",
       "Loan_Amount_Term     float64\n",
       "Credit_History       float64\n",
       "Property_Area         object\n",
       "dtype: object"
      ]
     },
     "execution_count": 32,
     "metadata": {},
     "output_type": "execute_result"
    }
   ],
   "source": [
    "X_train.dtypes"
   ]
  },
  {
   "cell_type": "code",
   "execution_count": 33,
   "metadata": {},
   "outputs": [],
   "source": [
    "X_train_num = X_train.select_dtypes('number')\n",
    "X_train_cat = X_train.select_dtypes('object')"
   ]
  },
  {
   "cell_type": "code",
   "execution_count": 34,
   "metadata": {},
   "outputs": [
    {
     "data": {
      "text/plain": [
       "Dependents           14\n",
       "ApplicantIncome       0\n",
       "CoapplicantIncome     0\n",
       "LoanAmount           18\n",
       "Loan_Amount_Term     13\n",
       "Credit_History       36\n",
       "dtype: int64"
      ]
     },
     "execution_count": 34,
     "metadata": {},
     "output_type": "execute_result"
    }
   ],
   "source": [
    "X_train_num.isnull().sum()"
   ]
  },
  {
   "cell_type": "code",
   "execution_count": 35,
   "metadata": {},
   "outputs": [
    {
     "data": {
      "text/plain": [
       "Dependents              0.0\n",
       "ApplicantIncome      3814.0\n",
       "CoapplicantIncome    1086.0\n",
       "LoanAmount            128.0\n",
       "Loan_Amount_Term      360.0\n",
       "Credit_History          1.0\n",
       "dtype: float64"
      ]
     },
     "execution_count": 35,
     "metadata": {},
     "output_type": "execute_result"
    }
   ],
   "source": [
    "X_train_num.median()"
   ]
  },
  {
   "cell_type": "code",
   "execution_count": 36,
   "metadata": {},
   "outputs": [],
   "source": [
    "from sklearn.impute import SimpleImputer"
   ]
  },
  {
   "cell_type": "code",
   "execution_count": 37,
   "metadata": {},
   "outputs": [],
   "source": [
    "imputer_num = SimpleImputer(strategy=\"median\")"
   ]
  },
  {
   "cell_type": "code",
   "execution_count": 38,
   "metadata": {},
   "outputs": [
    {
     "data": {
      "text/plain": [
       "SimpleImputer(strategy='median')"
      ]
     },
     "execution_count": 38,
     "metadata": {},
     "output_type": "execute_result"
    }
   ],
   "source": [
    "imputer_num.fit(X_train_num)"
   ]
  },
  {
   "cell_type": "code",
   "execution_count": 39,
   "metadata": {},
   "outputs": [
    {
     "data": {
      "text/plain": [
       "array([0.000e+00, 3.814e+03, 1.086e+03, 1.280e+02, 3.600e+02, 1.000e+00])"
      ]
     },
     "execution_count": 39,
     "metadata": {},
     "output_type": "execute_result"
    }
   ],
   "source": [
    "imputer_num.statistics_"
   ]
  },
  {
   "cell_type": "code",
   "execution_count": 40,
   "metadata": {},
   "outputs": [
    {
     "data": {
      "text/plain": [
       "array([[0.000e+00, 3.418e+03, 0.000e+00, 1.270e+02, 3.600e+02, 1.000e+00],\n",
       "       [1.000e+00, 4.606e+03, 0.000e+00, 8.100e+01, 3.600e+02, 1.000e+00],\n",
       "       [2.000e+00, 3.547e+03, 0.000e+00, 8.000e+01, 3.600e+02, 0.000e+00],\n",
       "       ...,\n",
       "       [0.000e+00, 3.727e+03, 1.775e+03, 1.310e+02, 3.600e+02, 1.000e+00],\n",
       "       [0.000e+00, 5.116e+03, 1.451e+03, 1.650e+02, 3.600e+02, 0.000e+00],\n",
       "       [0.000e+00, 6.096e+03, 0.000e+00, 2.180e+02, 3.600e+02, 0.000e+00]])"
      ]
     },
     "execution_count": 40,
     "metadata": {},
     "output_type": "execute_result"
    }
   ],
   "source": [
    "imputer_num.transform(X_train_num)"
   ]
  },
  {
   "cell_type": "code",
   "execution_count": 41,
   "metadata": {},
   "outputs": [],
   "source": [
    " X_train_num_imputed = pd.DataFrame(data = imputer_num.transform(X_train_num), columns=X_train_num.columns)"
   ]
  },
  {
   "cell_type": "code",
   "execution_count": 42,
   "metadata": {},
   "outputs": [
    {
     "data": {
      "text/plain": [
       "Dependents           0\n",
       "ApplicantIncome      0\n",
       "CoapplicantIncome    0\n",
       "LoanAmount           0\n",
       "Loan_Amount_Term     0\n",
       "Credit_History       0\n",
       "dtype: int64"
      ]
     },
     "execution_count": 42,
     "metadata": {},
     "output_type": "execute_result"
    }
   ],
   "source": [
    "X_train_num_imputed.isnull().sum()"
   ]
  },
  {
   "cell_type": "code",
   "execution_count": 43,
   "metadata": {},
   "outputs": [],
   "source": [
    "imputer_cat = SimpleImputer(strategy=\"most_frequent\")\n",
    "imputer_cat.fit(X_train_cat)\n",
    "X_train_cat_imputed = pd.DataFrame(data = imputer_cat.transform(X_train_cat), columns=X_train_cat.columns)"
   ]
  },
  {
   "cell_type": "code",
   "execution_count": 44,
   "metadata": {},
   "outputs": [
    {
     "data": {
      "text/plain": [
       "array(['Male', 'Yes', 'Graduate', 'No', 'Semiurban'], dtype=object)"
      ]
     },
     "execution_count": 44,
     "metadata": {},
     "output_type": "execute_result"
    }
   ],
   "source": [
    "imputer_cat.statistics_"
   ]
  },
  {
   "cell_type": "code",
   "execution_count": 45,
   "metadata": {},
   "outputs": [
    {
     "data": {
      "text/plain": [
       "Gender           0\n",
       "Married          0\n",
       "Education        0\n",
       "Self_Employed    0\n",
       "Property_Area    0\n",
       "dtype: int64"
      ]
     },
     "execution_count": 45,
     "metadata": {},
     "output_type": "execute_result"
    }
   ],
   "source": [
    "X_train_cat_imputed.isnull().sum()"
   ]
  },
  {
   "cell_type": "code",
   "execution_count": 46,
   "metadata": {},
   "outputs": [
    {
     "data": {
      "text/html": [
       "<div>\n",
       "<style scoped>\n",
       "    .dataframe tbody tr th:only-of-type {\n",
       "        vertical-align: middle;\n",
       "    }\n",
       "\n",
       "    .dataframe tbody tr th {\n",
       "        vertical-align: top;\n",
       "    }\n",
       "\n",
       "    .dataframe thead th {\n",
       "        text-align: right;\n",
       "    }\n",
       "</style>\n",
       "<table border=\"1\" class=\"dataframe\">\n",
       "  <thead>\n",
       "    <tr style=\"text-align: right;\">\n",
       "      <th></th>\n",
       "      <th>Dependents</th>\n",
       "      <th>ApplicantIncome</th>\n",
       "      <th>CoapplicantIncome</th>\n",
       "      <th>LoanAmount</th>\n",
       "      <th>Loan_Amount_Term</th>\n",
       "      <th>Credit_History</th>\n",
       "    </tr>\n",
       "  </thead>\n",
       "  <tbody>\n",
       "    <tr>\n",
       "      <th>count</th>\n",
       "      <td>491.000000</td>\n",
       "      <td>491.000000</td>\n",
       "      <td>491.000000</td>\n",
       "      <td>491.000000</td>\n",
       "      <td>491.000000</td>\n",
       "      <td>491.000000</td>\n",
       "    </tr>\n",
       "    <tr>\n",
       "      <th>mean</th>\n",
       "      <td>0.761711</td>\n",
       "      <td>5630.336049</td>\n",
       "      <td>1594.352179</td>\n",
       "      <td>148.315682</td>\n",
       "      <td>344.260692</td>\n",
       "      <td>0.845214</td>\n",
       "    </tr>\n",
       "    <tr>\n",
       "      <th>std</th>\n",
       "      <td>1.029286</td>\n",
       "      <td>6603.836947</td>\n",
       "      <td>3012.677226</td>\n",
       "      <td>87.184113</td>\n",
       "      <td>61.988258</td>\n",
       "      <td>0.362070</td>\n",
       "    </tr>\n",
       "    <tr>\n",
       "      <th>min</th>\n",
       "      <td>0.000000</td>\n",
       "      <td>150.000000</td>\n",
       "      <td>0.000000</td>\n",
       "      <td>9.000000</td>\n",
       "      <td>36.000000</td>\n",
       "      <td>0.000000</td>\n",
       "    </tr>\n",
       "    <tr>\n",
       "      <th>1%</th>\n",
       "      <td>0.000000</td>\n",
       "      <td>967.400000</td>\n",
       "      <td>0.000000</td>\n",
       "      <td>35.900000</td>\n",
       "      <td>84.000000</td>\n",
       "      <td>0.000000</td>\n",
       "    </tr>\n",
       "    <tr>\n",
       "      <th>2.5%</th>\n",
       "      <td>0.000000</td>\n",
       "      <td>1606.250000</td>\n",
       "      <td>0.000000</td>\n",
       "      <td>50.000000</td>\n",
       "      <td>180.000000</td>\n",
       "      <td>0.000000</td>\n",
       "    </tr>\n",
       "    <tr>\n",
       "      <th>5%</th>\n",
       "      <td>0.000000</td>\n",
       "      <td>1885.000000</td>\n",
       "      <td>0.000000</td>\n",
       "      <td>61.000000</td>\n",
       "      <td>180.000000</td>\n",
       "      <td>0.000000</td>\n",
       "    </tr>\n",
       "    <tr>\n",
       "      <th>10%</th>\n",
       "      <td>0.000000</td>\n",
       "      <td>2213.000000</td>\n",
       "      <td>0.000000</td>\n",
       "      <td>75.000000</td>\n",
       "      <td>300.000000</td>\n",
       "      <td>0.000000</td>\n",
       "    </tr>\n",
       "    <tr>\n",
       "      <th>25%</th>\n",
       "      <td>0.000000</td>\n",
       "      <td>2897.000000</td>\n",
       "      <td>0.000000</td>\n",
       "      <td>104.000000</td>\n",
       "      <td>360.000000</td>\n",
       "      <td>1.000000</td>\n",
       "    </tr>\n",
       "    <tr>\n",
       "      <th>50%</th>\n",
       "      <td>0.000000</td>\n",
       "      <td>3814.000000</td>\n",
       "      <td>1086.000000</td>\n",
       "      <td>128.000000</td>\n",
       "      <td>360.000000</td>\n",
       "      <td>1.000000</td>\n",
       "    </tr>\n",
       "    <tr>\n",
       "      <th>75%</th>\n",
       "      <td>2.000000</td>\n",
       "      <td>5945.000000</td>\n",
       "      <td>2253.500000</td>\n",
       "      <td>166.500000</td>\n",
       "      <td>360.000000</td>\n",
       "      <td>1.000000</td>\n",
       "    </tr>\n",
       "    <tr>\n",
       "      <th>90%</th>\n",
       "      <td>2.000000</td>\n",
       "      <td>10047.000000</td>\n",
       "      <td>3750.000000</td>\n",
       "      <td>230.000000</td>\n",
       "      <td>360.000000</td>\n",
       "      <td>1.000000</td>\n",
       "    </tr>\n",
       "    <tr>\n",
       "      <th>92.5%</th>\n",
       "      <td>3.000000</td>\n",
       "      <td>11817.750000</td>\n",
       "      <td>4274.500000</td>\n",
       "      <td>259.000000</td>\n",
       "      <td>360.000000</td>\n",
       "      <td>1.000000</td>\n",
       "    </tr>\n",
       "    <tr>\n",
       "      <th>95%</th>\n",
       "      <td>3.000000</td>\n",
       "      <td>14999.500000</td>\n",
       "      <td>4866.500000</td>\n",
       "      <td>302.000000</td>\n",
       "      <td>360.000000</td>\n",
       "      <td>1.000000</td>\n",
       "    </tr>\n",
       "    <tr>\n",
       "      <th>97.5%</th>\n",
       "      <td>3.000000</td>\n",
       "      <td>19196.250000</td>\n",
       "      <td>6562.000000</td>\n",
       "      <td>403.750000</td>\n",
       "      <td>450.000000</td>\n",
       "      <td>1.000000</td>\n",
       "    </tr>\n",
       "    <tr>\n",
       "      <th>99%</th>\n",
       "      <td>3.000000</td>\n",
       "      <td>37861.800000</td>\n",
       "      <td>8128.700000</td>\n",
       "      <td>507.000000</td>\n",
       "      <td>480.000000</td>\n",
       "      <td>1.000000</td>\n",
       "    </tr>\n",
       "    <tr>\n",
       "      <th>max</th>\n",
       "      <td>3.000000</td>\n",
       "      <td>81000.000000</td>\n",
       "      <td>41667.000000</td>\n",
       "      <td>700.000000</td>\n",
       "      <td>480.000000</td>\n",
       "      <td>1.000000</td>\n",
       "    </tr>\n",
       "  </tbody>\n",
       "</table>\n",
       "</div>"
      ],
      "text/plain": [
       "       Dependents  ApplicantIncome  CoapplicantIncome  LoanAmount  \\\n",
       "count  491.000000       491.000000         491.000000  491.000000   \n",
       "mean     0.761711      5630.336049        1594.352179  148.315682   \n",
       "std      1.029286      6603.836947        3012.677226   87.184113   \n",
       "min      0.000000       150.000000           0.000000    9.000000   \n",
       "1%       0.000000       967.400000           0.000000   35.900000   \n",
       "2.5%     0.000000      1606.250000           0.000000   50.000000   \n",
       "5%       0.000000      1885.000000           0.000000   61.000000   \n",
       "10%      0.000000      2213.000000           0.000000   75.000000   \n",
       "25%      0.000000      2897.000000           0.000000  104.000000   \n",
       "50%      0.000000      3814.000000        1086.000000  128.000000   \n",
       "75%      2.000000      5945.000000        2253.500000  166.500000   \n",
       "90%      2.000000     10047.000000        3750.000000  230.000000   \n",
       "92.5%    3.000000     11817.750000        4274.500000  259.000000   \n",
       "95%      3.000000     14999.500000        4866.500000  302.000000   \n",
       "97.5%    3.000000     19196.250000        6562.000000  403.750000   \n",
       "99%      3.000000     37861.800000        8128.700000  507.000000   \n",
       "max      3.000000     81000.000000       41667.000000  700.000000   \n",
       "\n",
       "       Loan_Amount_Term  Credit_History  \n",
       "count        491.000000      491.000000  \n",
       "mean         344.260692        0.845214  \n",
       "std           61.988258        0.362070  \n",
       "min           36.000000        0.000000  \n",
       "1%            84.000000        0.000000  \n",
       "2.5%         180.000000        0.000000  \n",
       "5%           180.000000        0.000000  \n",
       "10%          300.000000        0.000000  \n",
       "25%          360.000000        1.000000  \n",
       "50%          360.000000        1.000000  \n",
       "75%          360.000000        1.000000  \n",
       "90%          360.000000        1.000000  \n",
       "92.5%        360.000000        1.000000  \n",
       "95%          360.000000        1.000000  \n",
       "97.5%        450.000000        1.000000  \n",
       "99%          480.000000        1.000000  \n",
       "max          480.000000        1.000000  "
      ]
     },
     "execution_count": 46,
     "metadata": {},
     "output_type": "execute_result"
    }
   ],
   "source": [
    "X_train_num_imputed.describe(percentiles=[.01,.025,.05,.1,.25,.5,.75,.9,.925,.95,.975,.99])"
   ]
  },
  {
   "cell_type": "code",
   "execution_count": 47,
   "metadata": {},
   "outputs": [
    {
     "data": {
      "text/plain": [
       "<matplotlib.axes._subplots.AxesSubplot at 0x1aa72fd6f28>"
      ]
     },
     "execution_count": 47,
     "metadata": {},
     "output_type": "execute_result"
    },
    {
     "data": {
      "image/png": "[encoded data removed]",
      "text/plain": [
       "<Figure size 432x288 with 1 Axes>"
      ]
     },
     "metadata": {
      "needs_background": "light"
     },
     "output_type": "display_data"
    }
   ],
   "source": [
    "# sns.histplot(data=X_train_num_imputed,x='ApplicantIncome')\n",
    "sns.distplot(X_train_num_imputed['ApplicantIncome'])"
   ]
  },
  {
   "cell_type": "code",
   "execution_count": 48,
   "metadata": {},
   "outputs": [],
   "source": [
    "X_train_num_imputed['log_Income'] = np.log10(X_train_num_imputed['ApplicantIncome'])"
   ]
  },
  {
   "cell_type": "code",
   "execution_count": 49,
   "metadata": {},
   "outputs": [
    {
     "data": {
      "text/plain": [
       "<matplotlib.axes._subplots.AxesSubplot at 0x1aa730d76a0>"
      ]
     },
     "execution_count": 49,
     "metadata": {},
     "output_type": "execute_result"
    },
    {
     "data": {
      "image/png": "[encoded data removed]",
      "text/plain": [
       "<Figure size 432x288 with 1 Axes>"
      ]
     },
     "metadata": {
      "needs_background": "light"
     },
     "output_type": "display_data"
    }
   ],
   "source": [
    "# sns.histplot(data=X_train_num_imputed,x='log_Income')\n",
    "sns.distplot(X_train_num_imputed['log_Income'])"
   ]
  },
  {
   "cell_type": "code",
   "execution_count": 50,
   "metadata": {},
   "outputs": [],
   "source": [
    "p5_income = np.percentile(X_train_num_imputed['ApplicantIncome'],5)\n",
    "p95_income = np.percentile(X_train_num_imputed['ApplicantIncome'],95)\n",
    "p1_income = np.percentile(X_train_num_imputed['ApplicantIncome'],1)\n",
    "p99_income = np.percentile(X_train_num_imputed['ApplicantIncome'],99)"
   ]
  },
  {
   "cell_type": "code",
   "execution_count": 51,
   "metadata": {},
   "outputs": [],
   "source": [
    "X_train_num_imputed['ApplicantIncome_5'] = np.clip(X_train_num_imputed['ApplicantIncome'],p5_income,p95_income)\n",
    "X_train_num_imputed['ApplicantIncome_1'] = np.clip(X_train_num_imputed['ApplicantIncome'],p1_income,p99_income)"
   ]
  },
  {
   "cell_type": "code",
   "execution_count": 52,
   "metadata": {},
   "outputs": [
    {
     "data": {
      "text/plain": [
       "<matplotlib.axes._subplots.AxesSubplot at 0x1aa7319dc88>"
      ]
     },
     "execution_count": 52,
     "metadata": {},
     "output_type": "execute_result"
    },
    {
     "data": {
      "image/png": "[encoded data removed]",
      "text/plain": [
       "<Figure size 432x288 with 1 Axes>"
      ]
     },
     "metadata": {
      "needs_background": "light"
     },
     "output_type": "display_data"
    }
   ],
   "source": [
    "# sns.histplot(data=X_train_num_imputed,x='ApplicantIncome_5')\n",
    "sns.distplot(X_train_num_imputed['ApplicantIncome_5'])"
   ]
  },
  {
   "cell_type": "code",
   "execution_count": 53,
   "metadata": {},
   "outputs": [
    {
     "data": {
      "text/plain": [
       "<matplotlib.axes._subplots.AxesSubplot at 0x1aa731f0828>"
      ]
     },
     "execution_count": 53,
     "metadata": {},
     "output_type": "execute_result"
    },
    {
     "data": {
      "image/png": "[encoded data removed]",
      "text/plain": [
       "<Figure size 432x288 with 1 Axes>"
      ]
     },
     "metadata": {
      "needs_background": "light"
     },
     "output_type": "display_data"
    }
   ],
   "source": [
    "# sns.histplot(data=X_train_num_imputed,x='ApplicantIncome_1')\n",
    "sns.distplot(X_train_num_imputed['ApplicantIncome_1'])"
   ]
  },
  {
   "cell_type": "code",
   "execution_count": 54,
   "metadata": {},
   "outputs": [],
   "source": [
    "# un criterio para imputar de manera automatica es hacer el comparativo por variable de que si el maximo valor y el percentil maximo observado es al menos el doble, entonces se imputa."
   ]
  },
  {
   "cell_type": "code",
   "execution_count": 55,
   "metadata": {},
   "outputs": [
    {
     "data": {
      "text/plain": [
       "<matplotlib.axes._subplots.AxesSubplot at 0x1aa732e4080>"
      ]
     },
     "execution_count": 55,
     "metadata": {},
     "output_type": "execute_result"
    },
    {
     "data": {
      "image/png": "[encoded data removed]",
      "text/plain": [
       "<Figure size 432x288 with 1 Axes>"
      ]
     },
     "metadata": {
      "needs_background": "light"
     },
     "output_type": "display_data"
    }
   ],
   "source": [
    "# sns.histplot(data=X_train_num_imputed,x='CoapplicantIncome')\n",
    "sns.distplot(X_train_num_imputed['CoapplicantIncome'])"
   ]
  },
  {
   "cell_type": "markdown",
   "metadata": {},
   "source": [
    "# Imputacion categoricas"
   ]
  },
  {
   "cell_type": "code",
   "execution_count": 56,
   "metadata": {},
   "outputs": [],
   "source": [
    "X_train_cat_dummies = pd.get_dummies(X_train_cat_imputed,drop_first=True).head()"
   ]
  },
  {
   "cell_type": "markdown",
   "metadata": {},
   "source": [
    "# Consolidacion"
   ]
  },
  {
   "cell_type": "code",
   "execution_count": 57,
   "metadata": {},
   "outputs": [
    {
     "data": {
      "text/html": [
       "<div>\n",
       "<style scoped>\n",
       "    .dataframe tbody tr th:only-of-type {\n",
       "        vertical-align: middle;\n",
       "    }\n",
       "\n",
       "    .dataframe tbody tr th {\n",
       "        vertical-align: top;\n",
       "    }\n",
       "\n",
       "    .dataframe thead th {\n",
       "        text-align: right;\n",
       "    }\n",
       "</style>\n",
       "<table border=\"1\" class=\"dataframe\">\n",
       "  <thead>\n",
       "    <tr style=\"text-align: right;\">\n",
       "      <th></th>\n",
       "      <th>Gender</th>\n",
       "      <th>Married</th>\n",
       "      <th>Dependents</th>\n",
       "      <th>Education</th>\n",
       "      <th>Self_Employed</th>\n",
       "      <th>ApplicantIncome</th>\n",
       "      <th>CoapplicantIncome</th>\n",
       "      <th>LoanAmount</th>\n",
       "      <th>Loan_Amount_Term</th>\n",
       "      <th>Credit_History</th>\n",
       "      <th>Property_Area</th>\n",
       "    </tr>\n",
       "  </thead>\n",
       "  <tbody>\n",
       "    <tr>\n",
       "      <th>209</th>\n",
       "      <td>Male</td>\n",
       "      <td>No</td>\n",
       "      <td>0.0</td>\n",
       "      <td>Graduate</td>\n",
       "      <td>No</td>\n",
       "      <td>3418</td>\n",
       "      <td>0.0</td>\n",
       "      <td>127.0</td>\n",
       "      <td>360.0</td>\n",
       "      <td>1.0</td>\n",
       "      <td>Semiurban</td>\n",
       "    </tr>\n",
       "    <tr>\n",
       "      <th>426</th>\n",
       "      <td>Female</td>\n",
       "      <td>No</td>\n",
       "      <td>1.0</td>\n",
       "      <td>Not Graduate</td>\n",
       "      <td>No</td>\n",
       "      <td>4606</td>\n",
       "      <td>0.0</td>\n",
       "      <td>81.0</td>\n",
       "      <td>360.0</td>\n",
       "      <td>1.0</td>\n",
       "      <td>Rural</td>\n",
       "    </tr>\n",
       "  </tbody>\n",
       "</table>\n",
       "</div>"
      ],
      "text/plain": [
       "     Gender Married  Dependents     Education Self_Employed  ApplicantIncome  \\\n",
       "209    Male      No         0.0      Graduate            No             3418   \n",
       "426  Female      No         1.0  Not Graduate            No             4606   \n",
       "\n",
       "     CoapplicantIncome  LoanAmount  Loan_Amount_Term  Credit_History  \\\n",
       "209                0.0       127.0             360.0             1.0   \n",
       "426                0.0        81.0             360.0             1.0   \n",
       "\n",
       "    Property_Area  \n",
       "209     Semiurban  \n",
       "426         Rural  "
      ]
     },
     "execution_count": 57,
     "metadata": {},
     "output_type": "execute_result"
    }
   ],
   "source": [
    "X_train.head(2)"
   ]
  },
  {
   "cell_type": "code",
   "execution_count": 58,
   "metadata": {},
   "outputs": [
    {
     "data": {
      "text/html": [
       "<div>\n",
       "<style scoped>\n",
       "    .dataframe tbody tr th:only-of-type {\n",
       "        vertical-align: middle;\n",
       "    }\n",
       "\n",
       "    .dataframe tbody tr th {\n",
       "        vertical-align: top;\n",
       "    }\n",
       "\n",
       "    .dataframe thead th {\n",
       "        text-align: right;\n",
       "    }\n",
       "</style>\n",
       "<table border=\"1\" class=\"dataframe\">\n",
       "  <thead>\n",
       "    <tr style=\"text-align: right;\">\n",
       "      <th></th>\n",
       "      <th>Dependents</th>\n",
       "      <th>ApplicantIncome</th>\n",
       "      <th>CoapplicantIncome</th>\n",
       "      <th>LoanAmount</th>\n",
       "      <th>Loan_Amount_Term</th>\n",
       "      <th>Credit_History</th>\n",
       "      <th>log_Income</th>\n",
       "      <th>ApplicantIncome_5</th>\n",
       "      <th>ApplicantIncome_1</th>\n",
       "    </tr>\n",
       "  </thead>\n",
       "  <tbody>\n",
       "    <tr>\n",
       "      <th>0</th>\n",
       "      <td>0.0</td>\n",
       "      <td>3418.0</td>\n",
       "      <td>0.0</td>\n",
       "      <td>127.0</td>\n",
       "      <td>360.0</td>\n",
       "      <td>1.0</td>\n",
       "      <td>3.533772</td>\n",
       "      <td>3418.0</td>\n",
       "      <td>3418.0</td>\n",
       "    </tr>\n",
       "    <tr>\n",
       "      <th>1</th>\n",
       "      <td>1.0</td>\n",
       "      <td>4606.0</td>\n",
       "      <td>0.0</td>\n",
       "      <td>81.0</td>\n",
       "      <td>360.0</td>\n",
       "      <td>1.0</td>\n",
       "      <td>3.663324</td>\n",
       "      <td>4606.0</td>\n",
       "      <td>4606.0</td>\n",
       "    </tr>\n",
       "  </tbody>\n",
       "</table>\n",
       "</div>"
      ],
      "text/plain": [
       "   Dependents  ApplicantIncome  CoapplicantIncome  LoanAmount  \\\n",
       "0         0.0           3418.0                0.0       127.0   \n",
       "1         1.0           4606.0                0.0        81.0   \n",
       "\n",
       "   Loan_Amount_Term  Credit_History  log_Income  ApplicantIncome_5  \\\n",
       "0             360.0             1.0    3.533772             3418.0   \n",
       "1             360.0             1.0    3.663324             4606.0   \n",
       "\n",
       "   ApplicantIncome_1  \n",
       "0             3418.0  \n",
       "1             4606.0  "
      ]
     },
     "execution_count": 58,
     "metadata": {},
     "output_type": "execute_result"
    }
   ],
   "source": [
    "X_train_num_imputed.head(2)"
   ]
  },
  {
   "cell_type": "code",
   "execution_count": 59,
   "metadata": {},
   "outputs": [
    {
     "data": {
      "text/html": [
       "<div>\n",
       "<style scoped>\n",
       "    .dataframe tbody tr th:only-of-type {\n",
       "        vertical-align: middle;\n",
       "    }\n",
       "\n",
       "    .dataframe tbody tr th {\n",
       "        vertical-align: top;\n",
       "    }\n",
       "\n",
       "    .dataframe thead th {\n",
       "        text-align: right;\n",
       "    }\n",
       "</style>\n",
       "<table border=\"1\" class=\"dataframe\">\n",
       "  <thead>\n",
       "    <tr style=\"text-align: right;\">\n",
       "      <th></th>\n",
       "      <th>Gender_Male</th>\n",
       "      <th>Married_Yes</th>\n",
       "      <th>Education_Not Graduate</th>\n",
       "      <th>Self_Employed_Yes</th>\n",
       "      <th>Property_Area_Semiurban</th>\n",
       "      <th>Property_Area_Urban</th>\n",
       "    </tr>\n",
       "  </thead>\n",
       "  <tbody>\n",
       "    <tr>\n",
       "      <th>0</th>\n",
       "      <td>1</td>\n",
       "      <td>0</td>\n",
       "      <td>0</td>\n",
       "      <td>0</td>\n",
       "      <td>1</td>\n",
       "      <td>0</td>\n",
       "    </tr>\n",
       "    <tr>\n",
       "      <th>1</th>\n",
       "      <td>0</td>\n",
       "      <td>0</td>\n",
       "      <td>1</td>\n",
       "      <td>0</td>\n",
       "      <td>0</td>\n",
       "      <td>0</td>\n",
       "    </tr>\n",
       "  </tbody>\n",
       "</table>\n",
       "</div>"
      ],
      "text/plain": [
       "   Gender_Male  Married_Yes  Education_Not Graduate  Self_Employed_Yes  \\\n",
       "0            1            0                       0                  0   \n",
       "1            0            0                       1                  0   \n",
       "\n",
       "   Property_Area_Semiurban  Property_Area_Urban  \n",
       "0                        1                    0  \n",
       "1                        0                    0  "
      ]
     },
     "execution_count": 59,
     "metadata": {},
     "output_type": "execute_result"
    }
   ],
   "source": [
    "X_train_cat_dummies.head(2)"
   ]
  },
  {
   "cell_type": "code",
   "execution_count": 60,
   "metadata": {},
   "outputs": [
    {
     "data": {
      "text/html": [
       "<div>\n",
       "<style scoped>\n",
       "    .dataframe tbody tr th:only-of-type {\n",
       "        vertical-align: middle;\n",
       "    }\n",
       "\n",
       "    .dataframe tbody tr th {\n",
       "        vertical-align: top;\n",
       "    }\n",
       "\n",
       "    .dataframe thead th {\n",
       "        text-align: right;\n",
       "    }\n",
       "</style>\n",
       "<table border=\"1\" class=\"dataframe\">\n",
       "  <thead>\n",
       "    <tr style=\"text-align: right;\">\n",
       "      <th></th>\n",
       "      <th>pec_left</th>\n",
       "      <th>pec_right</th>\n",
       "      <th>clip_left</th>\n",
       "      <th>clip_right</th>\n",
       "    </tr>\n",
       "  </thead>\n",
       "  <tbody>\n",
       "    <tr>\n",
       "      <th>Dependents</th>\n",
       "      <td>0.01</td>\n",
       "      <td>NaN</td>\n",
       "      <td>0.0</td>\n",
       "      <td>3.0</td>\n",
       "    </tr>\n",
       "    <tr>\n",
       "      <th>ApplicantIncome</th>\n",
       "      <td>0.01</td>\n",
       "      <td>0.99</td>\n",
       "      <td>967.4</td>\n",
       "      <td>37861.8</td>\n",
       "    </tr>\n",
       "  </tbody>\n",
       "</table>\n",
       "</div>"
      ],
      "text/plain": [
       "                 pec_left  pec_right  clip_left  clip_right\n",
       "Dependents           0.01        NaN        0.0         3.0\n",
       "ApplicantIncome      0.01       0.99      967.4     37861.8"
      ]
     },
     "execution_count": 60,
     "metadata": {},
     "output_type": "execute_result"
    }
   ],
   "source": [
    "\r\n",
    "var_num = X_train_num_imputed.columns.values\r\n",
    "var = []\r\n",
    "clip_columns = []\r\n",
    "\r\n",
    "for i in var_num:\r\n",
    "    clip_values = []\r\n",
    "    clip_Array = clip_perc(X_train_num_imputed, i)\r\n",
    "    var.append(i)\r\n",
    "    clip_values.append(clip_Array[0][0])\r\n",
    "    clip_values.append(clip_Array[0][1])\r\n",
    "    clip_values.append(clip_Array[1][0])\r\n",
    "    clip_values.append(clip_Array[1][1])\r\n",
    "    clip_columns.append(clip_values)\r\n",
    "\r\n",
    "df_clip = pd.DataFrame(clip_columns, index=var, columns=['pec_left','pec_right','clip_left','clip_right'])\r\n",
    "df_clip.head(2)"
   ]
  },
  {
   "cell_type": "code",
   "execution_count": 61,
   "metadata": {},
   "outputs": [
    {
     "data": {
      "text/plain": [
       "<matplotlib.axes._subplots.AxesSubplot at 0x1aa733eb5c0>"
      ]
     },
     "execution_count": 61,
     "metadata": {},
     "output_type": "execute_result"
    },
    {
     "data": {
      "image/png": "[encoded data removed]",
      "text/plain": [
       "<Figure size 432x288 with 1 Axes>"
      ]
     },
     "metadata": {
      "needs_background": "light"
     },
     "output_type": "display_data"
    }
   ],
   "source": [
    "sns.distplot(x = X_train_num_imputed['ApplicantIncome'])"
   ]
  },
  {
   "cell_type": "code",
   "execution_count": 62,
   "metadata": {},
   "outputs": [
    {
     "data": {
      "text/plain": [
       "<matplotlib.axes._subplots.AxesSubplot at 0x1aa734db438>"
      ]
     },
     "execution_count": 62,
     "metadata": {},
     "output_type": "execute_result"
    },
    {
     "data": {
      "image/png": "[encoded data removed]",
      "text/plain": [
       "<Figure size 432x288 with 1 Axes>"
      ]
     },
     "metadata": {
      "needs_background": "light"
     },
     "output_type": "display_data"
    }
   ],
   "source": [
    "var = 'ApplicantIncome'\r\n",
    "a = df_clip.filter(like=var, axis=0).values[0]\r\n",
    "var_clip = np.clip(X_train_num_imputed[var],a[2],a[3])\r\n",
    "sns.distplot(x = var_clip)"
   ]
  },
  {
   "cell_type": "code",
   "execution_count": 63,
   "metadata": {},
   "outputs": [
    {
     "data": {
      "text/html": [
       "<div>\n",
       "<style scoped>\n",
       "    .dataframe tbody tr th:only-of-type {\n",
       "        vertical-align: middle;\n",
       "    }\n",
       "\n",
       "    .dataframe tbody tr th {\n",
       "        vertical-align: top;\n",
       "    }\n",
       "\n",
       "    .dataframe thead th {\n",
       "        text-align: right;\n",
       "    }\n",
       "</style>\n",
       "<table border=\"1\" class=\"dataframe\">\n",
       "  <thead>\n",
       "    <tr style=\"text-align: right;\">\n",
       "      <th></th>\n",
       "      <th>Dependents</th>\n",
       "      <th>ApplicantIncome</th>\n",
       "      <th>CoapplicantIncome</th>\n",
       "      <th>LoanAmount</th>\n",
       "      <th>Loan_Amount_Term</th>\n",
       "      <th>Credit_History</th>\n",
       "      <th>log_Income</th>\n",
       "      <th>ApplicantIncome_5</th>\n",
       "      <th>ApplicantIncome_1</th>\n",
       "    </tr>\n",
       "  </thead>\n",
       "  <tbody>\n",
       "    <tr>\n",
       "      <th>count</th>\n",
       "      <td>491.000000</td>\n",
       "      <td>491.000000</td>\n",
       "      <td>491.000000</td>\n",
       "      <td>491.000000</td>\n",
       "      <td>491.000000</td>\n",
       "      <td>491.000000</td>\n",
       "      <td>491.000000</td>\n",
       "      <td>491.000000</td>\n",
       "      <td>491.000000</td>\n",
       "    </tr>\n",
       "    <tr>\n",
       "      <th>mean</th>\n",
       "      <td>0.761711</td>\n",
       "      <td>5630.336049</td>\n",
       "      <td>1594.352179</td>\n",
       "      <td>148.315682</td>\n",
       "      <td>344.260692</td>\n",
       "      <td>0.845214</td>\n",
       "      <td>3.629801</td>\n",
       "      <td>5078.159878</td>\n",
       "      <td>5460.896130</td>\n",
       "    </tr>\n",
       "    <tr>\n",
       "      <th>std</th>\n",
       "      <td>1.029286</td>\n",
       "      <td>6603.836947</td>\n",
       "      <td>3012.677226</td>\n",
       "      <td>87.184113</td>\n",
       "      <td>61.988258</td>\n",
       "      <td>0.362070</td>\n",
       "      <td>0.295082</td>\n",
       "      <td>3421.612907</td>\n",
       "      <td>5166.358437</td>\n",
       "    </tr>\n",
       "    <tr>\n",
       "      <th>min</th>\n",
       "      <td>0.000000</td>\n",
       "      <td>150.000000</td>\n",
       "      <td>0.000000</td>\n",
       "      <td>9.000000</td>\n",
       "      <td>36.000000</td>\n",
       "      <td>0.000000</td>\n",
       "      <td>2.176091</td>\n",
       "      <td>1885.000000</td>\n",
       "      <td>967.400000</td>\n",
       "    </tr>\n",
       "    <tr>\n",
       "      <th>1%</th>\n",
       "      <td>0.000000</td>\n",
       "      <td>967.400000</td>\n",
       "      <td>0.000000</td>\n",
       "      <td>35.900000</td>\n",
       "      <td>84.000000</td>\n",
       "      <td>0.000000</td>\n",
       "      <td>2.982866</td>\n",
       "      <td>1885.000000</td>\n",
       "      <td>996.740000</td>\n",
       "    </tr>\n",
       "    <tr>\n",
       "      <th>2.5%</th>\n",
       "      <td>0.000000</td>\n",
       "      <td>1606.250000</td>\n",
       "      <td>0.000000</td>\n",
       "      <td>50.000000</td>\n",
       "      <td>180.000000</td>\n",
       "      <td>0.000000</td>\n",
       "      <td>3.205803</td>\n",
       "      <td>1885.000000</td>\n",
       "      <td>1606.250000</td>\n",
       "    </tr>\n",
       "    <tr>\n",
       "      <th>5%</th>\n",
       "      <td>0.000000</td>\n",
       "      <td>1885.000000</td>\n",
       "      <td>0.000000</td>\n",
       "      <td>61.000000</td>\n",
       "      <td>180.000000</td>\n",
       "      <td>0.000000</td>\n",
       "      <td>3.275282</td>\n",
       "      <td>1896.000000</td>\n",
       "      <td>1885.000000</td>\n",
       "    </tr>\n",
       "    <tr>\n",
       "      <th>10%</th>\n",
       "      <td>0.000000</td>\n",
       "      <td>2213.000000</td>\n",
       "      <td>0.000000</td>\n",
       "      <td>75.000000</td>\n",
       "      <td>300.000000</td>\n",
       "      <td>0.000000</td>\n",
       "      <td>3.344981</td>\n",
       "      <td>2213.000000</td>\n",
       "      <td>2213.000000</td>\n",
       "    </tr>\n",
       "    <tr>\n",
       "      <th>25%</th>\n",
       "      <td>0.000000</td>\n",
       "      <td>2897.000000</td>\n",
       "      <td>0.000000</td>\n",
       "      <td>104.000000</td>\n",
       "      <td>360.000000</td>\n",
       "      <td>1.000000</td>\n",
       "      <td>3.461948</td>\n",
       "      <td>2897.000000</td>\n",
       "      <td>2897.000000</td>\n",
       "    </tr>\n",
       "    <tr>\n",
       "      <th>50%</th>\n",
       "      <td>0.000000</td>\n",
       "      <td>3814.000000</td>\n",
       "      <td>1086.000000</td>\n",
       "      <td>128.000000</td>\n",
       "      <td>360.000000</td>\n",
       "      <td>1.000000</td>\n",
       "      <td>3.581381</td>\n",
       "      <td>3814.000000</td>\n",
       "      <td>3814.000000</td>\n",
       "    </tr>\n",
       "    <tr>\n",
       "      <th>75%</th>\n",
       "      <td>2.000000</td>\n",
       "      <td>5945.000000</td>\n",
       "      <td>2253.500000</td>\n",
       "      <td>166.500000</td>\n",
       "      <td>360.000000</td>\n",
       "      <td>1.000000</td>\n",
       "      <td>3.774151</td>\n",
       "      <td>5945.000000</td>\n",
       "      <td>5945.000000</td>\n",
       "    </tr>\n",
       "    <tr>\n",
       "      <th>90%</th>\n",
       "      <td>2.000000</td>\n",
       "      <td>10047.000000</td>\n",
       "      <td>3750.000000</td>\n",
       "      <td>230.000000</td>\n",
       "      <td>360.000000</td>\n",
       "      <td>1.000000</td>\n",
       "      <td>4.002036</td>\n",
       "      <td>10047.000000</td>\n",
       "      <td>10047.000000</td>\n",
       "    </tr>\n",
       "    <tr>\n",
       "      <th>92.5%</th>\n",
       "      <td>3.000000</td>\n",
       "      <td>11817.750000</td>\n",
       "      <td>4274.500000</td>\n",
       "      <td>259.000000</td>\n",
       "      <td>360.000000</td>\n",
       "      <td>1.000000</td>\n",
       "      <td>4.072518</td>\n",
       "      <td>11817.750000</td>\n",
       "      <td>11817.750000</td>\n",
       "    </tr>\n",
       "    <tr>\n",
       "      <th>95%</th>\n",
       "      <td>3.000000</td>\n",
       "      <td>14999.500000</td>\n",
       "      <td>4866.500000</td>\n",
       "      <td>302.000000</td>\n",
       "      <td>360.000000</td>\n",
       "      <td>1.000000</td>\n",
       "      <td>4.176077</td>\n",
       "      <td>14999.250000</td>\n",
       "      <td>14999.500000</td>\n",
       "    </tr>\n",
       "    <tr>\n",
       "      <th>97.5%</th>\n",
       "      <td>3.000000</td>\n",
       "      <td>19196.250000</td>\n",
       "      <td>6562.000000</td>\n",
       "      <td>403.750000</td>\n",
       "      <td>450.000000</td>\n",
       "      <td>1.000000</td>\n",
       "      <td>4.283067</td>\n",
       "      <td>14999.500000</td>\n",
       "      <td>19196.250000</td>\n",
       "    </tr>\n",
       "    <tr>\n",
       "      <th>99%</th>\n",
       "      <td>3.000000</td>\n",
       "      <td>37861.800000</td>\n",
       "      <td>8128.700000</td>\n",
       "      <td>507.000000</td>\n",
       "      <td>480.000000</td>\n",
       "      <td>1.000000</td>\n",
       "      <td>4.578174</td>\n",
       "      <td>14999.500000</td>\n",
       "      <td>37733.280000</td>\n",
       "    </tr>\n",
       "    <tr>\n",
       "      <th>max</th>\n",
       "      <td>3.000000</td>\n",
       "      <td>81000.000000</td>\n",
       "      <td>41667.000000</td>\n",
       "      <td>700.000000</td>\n",
       "      <td>480.000000</td>\n",
       "      <td>1.000000</td>\n",
       "      <td>4.908485</td>\n",
       "      <td>14999.500000</td>\n",
       "      <td>37861.800000</td>\n",
       "    </tr>\n",
       "  </tbody>\n",
       "</table>\n",
       "</div>"
      ],
      "text/plain": [
       "       Dependents  ApplicantIncome  CoapplicantIncome  LoanAmount  \\\n",
       "count  491.000000       491.000000         491.000000  491.000000   \n",
       "mean     0.761711      5630.336049        1594.352179  148.315682   \n",
       "std      1.029286      6603.836947        3012.677226   87.184113   \n",
       "min      0.000000       150.000000           0.000000    9.000000   \n",
       "1%       0.000000       967.400000           0.000000   35.900000   \n",
       "2.5%     0.000000      1606.250000           0.000000   50.000000   \n",
       "5%       0.000000      1885.000000           0.000000   61.000000   \n",
       "10%      0.000000      2213.000000           0.000000   75.000000   \n",
       "25%      0.000000      2897.000000           0.000000  104.000000   \n",
       "50%      0.000000      3814.000000        1086.000000  128.000000   \n",
       "75%      2.000000      5945.000000        2253.500000  166.500000   \n",
       "90%      2.000000     10047.000000        3750.000000  230.000000   \n",
       "92.5%    3.000000     11817.750000        4274.500000  259.000000   \n",
       "95%      3.000000     14999.500000        4866.500000  302.000000   \n",
       "97.5%    3.000000     19196.250000        6562.000000  403.750000   \n",
       "99%      3.000000     37861.800000        8128.700000  507.000000   \n",
       "max      3.000000     81000.000000       41667.000000  700.000000   \n",
       "\n",
       "       Loan_Amount_Term  Credit_History  log_Income  ApplicantIncome_5  \\\n",
       "count        491.000000      491.000000  491.000000         491.000000   \n",
       "mean         344.260692        0.845214    3.629801        5078.159878   \n",
       "std           61.988258        0.362070    0.295082        3421.612907   \n",
       "min           36.000000        0.000000    2.176091        1885.000000   \n",
       "1%            84.000000        0.000000    2.982866        1885.000000   \n",
       "2.5%         180.000000        0.000000    3.205803        1885.000000   \n",
       "5%           180.000000        0.000000    3.275282        1896.000000   \n",
       "10%          300.000000        0.000000    3.344981        2213.000000   \n",
       "25%          360.000000        1.000000    3.461948        2897.000000   \n",
       "50%          360.000000        1.000000    3.581381        3814.000000   \n",
       "75%          360.000000        1.000000    3.774151        5945.000000   \n",
       "90%          360.000000        1.000000    4.002036       10047.000000   \n",
       "92.5%        360.000000        1.000000    4.072518       11817.750000   \n",
       "95%          360.000000        1.000000    4.176077       14999.250000   \n",
       "97.5%        450.000000        1.000000    4.283067       14999.500000   \n",
       "99%          480.000000        1.000000    4.578174       14999.500000   \n",
       "max          480.000000        1.000000    4.908485       14999.500000   \n",
       "\n",
       "       ApplicantIncome_1  \n",
       "count         491.000000  \n",
       "mean         5460.896130  \n",
       "std          5166.358437  \n",
       "min           967.400000  \n",
       "1%            996.740000  \n",
       "2.5%         1606.250000  \n",
       "5%           1885.000000  \n",
       "10%          2213.000000  \n",
       "25%          2897.000000  \n",
       "50%          3814.000000  \n",
       "75%          5945.000000  \n",
       "90%         10047.000000  \n",
       "92.5%       11817.750000  \n",
       "95%         14999.500000  \n",
       "97.5%       19196.250000  \n",
       "99%         37733.280000  \n",
       "max         37861.800000  "
      ]
     },
     "execution_count": 63,
     "metadata": {},
     "output_type": "execute_result"
    }
   ],
   "source": [
    "X_train_num_imputed.describe(percentiles=[.01,.025,.05,.1,.25,.5,.75,.9,.925,.95,.975,.99])"
   ]
  },
  {
   "cell_type": "code",
   "execution_count": 64,
   "metadata": {},
   "outputs": [],
   "source": [
    "for i in X_train_num_imputed.columns.values:\r\n",
    "    a = df_clip.filter(like=i, axis=0).values[0]\r\n",
    "    X_train_num_imputed[i] = np.clip(X_train_num_imputed[i],a[2],a[3])"
   ]
  },
  {
   "cell_type": "code",
   "execution_count": 65,
   "metadata": {},
   "outputs": [
    {
     "data": {
      "text/html": [
       "<div>\n",
       "<style scoped>\n",
       "    .dataframe tbody tr th:only-of-type {\n",
       "        vertical-align: middle;\n",
       "    }\n",
       "\n",
       "    .dataframe tbody tr th {\n",
       "        vertical-align: top;\n",
       "    }\n",
       "\n",
       "    .dataframe thead th {\n",
       "        text-align: right;\n",
       "    }\n",
       "</style>\n",
       "<table border=\"1\" class=\"dataframe\">\n",
       "  <thead>\n",
       "    <tr style=\"text-align: right;\">\n",
       "      <th></th>\n",
       "      <th>Dependents</th>\n",
       "      <th>ApplicantIncome</th>\n",
       "      <th>CoapplicantIncome</th>\n",
       "      <th>LoanAmount</th>\n",
       "      <th>Loan_Amount_Term</th>\n",
       "      <th>Credit_History</th>\n",
       "      <th>log_Income</th>\n",
       "      <th>ApplicantIncome_5</th>\n",
       "      <th>ApplicantIncome_1</th>\n",
       "    </tr>\n",
       "  </thead>\n",
       "  <tbody>\n",
       "    <tr>\n",
       "      <th>count</th>\n",
       "      <td>491.000000</td>\n",
       "      <td>491.000000</td>\n",
       "      <td>491.000000</td>\n",
       "      <td>491.000000</td>\n",
       "      <td>491.000000</td>\n",
       "      <td>491.000000</td>\n",
       "      <td>491.000000</td>\n",
       "      <td>491.000000</td>\n",
       "      <td>491.000000</td>\n",
       "    </tr>\n",
       "    <tr>\n",
       "      <th>mean</th>\n",
       "      <td>0.761711</td>\n",
       "      <td>5460.896130</td>\n",
       "      <td>1443.310428</td>\n",
       "      <td>141.300407</td>\n",
       "      <td>344.456212</td>\n",
       "      <td>0.845214</td>\n",
       "      <td>3.634197</td>\n",
       "      <td>4067.378819</td>\n",
       "      <td>5058.147047</td>\n",
       "    </tr>\n",
       "    <tr>\n",
       "      <th>std</th>\n",
       "      <td>1.029286</td>\n",
       "      <td>5166.358437</td>\n",
       "      <td>1768.308806</td>\n",
       "      <td>60.769836</td>\n",
       "      <td>61.102153</td>\n",
       "      <td>0.362070</td>\n",
       "      <td>0.280633</td>\n",
       "      <td>1425.652542</td>\n",
       "      <td>3442.226006</td>\n",
       "    </tr>\n",
       "    <tr>\n",
       "      <th>min</th>\n",
       "      <td>0.000000</td>\n",
       "      <td>967.400000</td>\n",
       "      <td>0.000000</td>\n",
       "      <td>35.900000</td>\n",
       "      <td>84.000000</td>\n",
       "      <td>0.000000</td>\n",
       "      <td>2.982866</td>\n",
       "      <td>1885.000000</td>\n",
       "      <td>996.740000</td>\n",
       "    </tr>\n",
       "    <tr>\n",
       "      <th>1%</th>\n",
       "      <td>0.000000</td>\n",
       "      <td>996.740000</td>\n",
       "      <td>0.000000</td>\n",
       "      <td>35.990000</td>\n",
       "      <td>84.000000</td>\n",
       "      <td>0.000000</td>\n",
       "      <td>2.998287</td>\n",
       "      <td>1885.000000</td>\n",
       "      <td>999.674000</td>\n",
       "    </tr>\n",
       "    <tr>\n",
       "      <th>2.5%</th>\n",
       "      <td>0.000000</td>\n",
       "      <td>1606.250000</td>\n",
       "      <td>0.000000</td>\n",
       "      <td>50.000000</td>\n",
       "      <td>180.000000</td>\n",
       "      <td>0.000000</td>\n",
       "      <td>3.205803</td>\n",
       "      <td>1885.000000</td>\n",
       "      <td>1606.250000</td>\n",
       "    </tr>\n",
       "    <tr>\n",
       "      <th>5%</th>\n",
       "      <td>0.000000</td>\n",
       "      <td>1885.000000</td>\n",
       "      <td>0.000000</td>\n",
       "      <td>61.000000</td>\n",
       "      <td>180.000000</td>\n",
       "      <td>0.000000</td>\n",
       "      <td>3.275282</td>\n",
       "      <td>1896.000000</td>\n",
       "      <td>1885.000000</td>\n",
       "    </tr>\n",
       "    <tr>\n",
       "      <th>10%</th>\n",
       "      <td>0.000000</td>\n",
       "      <td>2213.000000</td>\n",
       "      <td>0.000000</td>\n",
       "      <td>75.000000</td>\n",
       "      <td>300.000000</td>\n",
       "      <td>0.000000</td>\n",
       "      <td>3.344981</td>\n",
       "      <td>2213.000000</td>\n",
       "      <td>2213.000000</td>\n",
       "    </tr>\n",
       "    <tr>\n",
       "      <th>25%</th>\n",
       "      <td>0.000000</td>\n",
       "      <td>2897.000000</td>\n",
       "      <td>0.000000</td>\n",
       "      <td>104.000000</td>\n",
       "      <td>360.000000</td>\n",
       "      <td>1.000000</td>\n",
       "      <td>3.461948</td>\n",
       "      <td>2897.000000</td>\n",
       "      <td>2897.000000</td>\n",
       "    </tr>\n",
       "    <tr>\n",
       "      <th>50%</th>\n",
       "      <td>0.000000</td>\n",
       "      <td>3814.000000</td>\n",
       "      <td>1086.000000</td>\n",
       "      <td>128.000000</td>\n",
       "      <td>360.000000</td>\n",
       "      <td>1.000000</td>\n",
       "      <td>3.581381</td>\n",
       "      <td>3814.000000</td>\n",
       "      <td>3814.000000</td>\n",
       "    </tr>\n",
       "    <tr>\n",
       "      <th>75%</th>\n",
       "      <td>2.000000</td>\n",
       "      <td>5945.000000</td>\n",
       "      <td>2253.500000</td>\n",
       "      <td>166.500000</td>\n",
       "      <td>360.000000</td>\n",
       "      <td>1.000000</td>\n",
       "      <td>3.774151</td>\n",
       "      <td>5940.000000</td>\n",
       "      <td>5945.000000</td>\n",
       "    </tr>\n",
       "    <tr>\n",
       "      <th>90%</th>\n",
       "      <td>2.000000</td>\n",
       "      <td>10047.000000</td>\n",
       "      <td>3750.000000</td>\n",
       "      <td>230.000000</td>\n",
       "      <td>360.000000</td>\n",
       "      <td>1.000000</td>\n",
       "      <td>4.002036</td>\n",
       "      <td>5945.000000</td>\n",
       "      <td>10047.000000</td>\n",
       "    </tr>\n",
       "    <tr>\n",
       "      <th>92.5%</th>\n",
       "      <td>3.000000</td>\n",
       "      <td>11817.750000</td>\n",
       "      <td>4274.500000</td>\n",
       "      <td>259.000000</td>\n",
       "      <td>360.000000</td>\n",
       "      <td>1.000000</td>\n",
       "      <td>4.072518</td>\n",
       "      <td>5945.000000</td>\n",
       "      <td>11817.750000</td>\n",
       "    </tr>\n",
       "    <tr>\n",
       "      <th>95%</th>\n",
       "      <td>3.000000</td>\n",
       "      <td>14999.500000</td>\n",
       "      <td>4866.500000</td>\n",
       "      <td>301.000000</td>\n",
       "      <td>360.000000</td>\n",
       "      <td>1.000000</td>\n",
       "      <td>4.176077</td>\n",
       "      <td>5945.000000</td>\n",
       "      <td>14999.250000</td>\n",
       "    </tr>\n",
       "    <tr>\n",
       "      <th>97.5%</th>\n",
       "      <td>3.000000</td>\n",
       "      <td>19196.250000</td>\n",
       "      <td>6562.000000</td>\n",
       "      <td>302.000000</td>\n",
       "      <td>450.000000</td>\n",
       "      <td>1.000000</td>\n",
       "      <td>4.283067</td>\n",
       "      <td>5945.000000</td>\n",
       "      <td>14999.500000</td>\n",
       "    </tr>\n",
       "    <tr>\n",
       "      <th>99%</th>\n",
       "      <td>3.000000</td>\n",
       "      <td>37733.280000</td>\n",
       "      <td>8108.270000</td>\n",
       "      <td>302.000000</td>\n",
       "      <td>480.000000</td>\n",
       "      <td>1.000000</td>\n",
       "      <td>4.578174</td>\n",
       "      <td>5945.000000</td>\n",
       "      <td>14999.500000</td>\n",
       "    </tr>\n",
       "    <tr>\n",
       "      <th>max</th>\n",
       "      <td>3.000000</td>\n",
       "      <td>37861.800000</td>\n",
       "      <td>8128.700000</td>\n",
       "      <td>302.000000</td>\n",
       "      <td>480.000000</td>\n",
       "      <td>1.000000</td>\n",
       "      <td>4.908485</td>\n",
       "      <td>5945.000000</td>\n",
       "      <td>14999.500000</td>\n",
       "    </tr>\n",
       "  </tbody>\n",
       "</table>\n",
       "</div>"
      ],
      "text/plain": [
       "       Dependents  ApplicantIncome  CoapplicantIncome  LoanAmount  \\\n",
       "count  491.000000       491.000000         491.000000  491.000000   \n",
       "mean     0.761711      5460.896130        1443.310428  141.300407   \n",
       "std      1.029286      5166.358437        1768.308806   60.769836   \n",
       "min      0.000000       967.400000           0.000000   35.900000   \n",
       "1%       0.000000       996.740000           0.000000   35.990000   \n",
       "2.5%     0.000000      1606.250000           0.000000   50.000000   \n",
       "5%       0.000000      1885.000000           0.000000   61.000000   \n",
       "10%      0.000000      2213.000000           0.000000   75.000000   \n",
       "25%      0.000000      2897.000000           0.000000  104.000000   \n",
       "50%      0.000000      3814.000000        1086.000000  128.000000   \n",
       "75%      2.000000      5945.000000        2253.500000  166.500000   \n",
       "90%      2.000000     10047.000000        3750.000000  230.000000   \n",
       "92.5%    3.000000     11817.750000        4274.500000  259.000000   \n",
       "95%      3.000000     14999.500000        4866.500000  301.000000   \n",
       "97.5%    3.000000     19196.250000        6562.000000  302.000000   \n",
       "99%      3.000000     37733.280000        8108.270000  302.000000   \n",
       "max      3.000000     37861.800000        8128.700000  302.000000   \n",
       "\n",
       "       Loan_Amount_Term  Credit_History  log_Income  ApplicantIncome_5  \\\n",
       "count        491.000000      491.000000  491.000000         491.000000   \n",
       "mean         344.456212        0.845214    3.634197        4067.378819   \n",
       "std           61.102153        0.362070    0.280633        1425.652542   \n",
       "min           84.000000        0.000000    2.982866        1885.000000   \n",
       "1%            84.000000        0.000000    2.998287        1885.000000   \n",
       "2.5%         180.000000        0.000000    3.205803        1885.000000   \n",
       "5%           180.000000        0.000000    3.275282        1896.000000   \n",
       "10%          300.000000        0.000000    3.344981        2213.000000   \n",
       "25%          360.000000        1.000000    3.461948        2897.000000   \n",
       "50%          360.000000        1.000000    3.581381        3814.000000   \n",
       "75%          360.000000        1.000000    3.774151        5940.000000   \n",
       "90%          360.000000        1.000000    4.002036        5945.000000   \n",
       "92.5%        360.000000        1.000000    4.072518        5945.000000   \n",
       "95%          360.000000        1.000000    4.176077        5945.000000   \n",
       "97.5%        450.000000        1.000000    4.283067        5945.000000   \n",
       "99%          480.000000        1.000000    4.578174        5945.000000   \n",
       "max          480.000000        1.000000    4.908485        5945.000000   \n",
       "\n",
       "       ApplicantIncome_1  \n",
       "count         491.000000  \n",
       "mean         5058.147047  \n",
       "std          3442.226006  \n",
       "min           996.740000  \n",
       "1%            999.674000  \n",
       "2.5%         1606.250000  \n",
       "5%           1885.000000  \n",
       "10%          2213.000000  \n",
       "25%          2897.000000  \n",
       "50%          3814.000000  \n",
       "75%          5945.000000  \n",
       "90%         10047.000000  \n",
       "92.5%       11817.750000  \n",
       "95%         14999.250000  \n",
       "97.5%       14999.500000  \n",
       "99%         14999.500000  \n",
       "max         14999.500000  "
      ]
     },
     "execution_count": 65,
     "metadata": {},
     "output_type": "execute_result"
    }
   ],
   "source": [
    "X_train_num_imputed.describe(percentiles=[.01,.025,.05,.1,.25,.5,.75,.9,.925,.95,.975,.99])"
   ]
  },
  {
   "cell_type": "code",
   "execution_count": 66,
   "metadata": {},
   "outputs": [],
   "source": [
    "X_train_consolidado = pd.concat([X_train_num_imputed,X_train_cat_dummies], axis=1)"
   ]
  },
  {
   "cell_type": "code",
   "execution_count": 67,
   "metadata": {},
   "outputs": [
    {
     "data": {
      "text/plain": [
       "(491, 15)"
      ]
     },
     "execution_count": 67,
     "metadata": {},
     "output_type": "execute_result"
    }
   ],
   "source": [
    "X_train_consolidado.shape"
   ]
  },
  {
   "cell_type": "code",
   "execution_count": 68,
   "metadata": {},
   "outputs": [
    {
     "data": {
      "text/html": [
       "<div>\n",
       "<style scoped>\n",
       "    .dataframe tbody tr th:only-of-type {\n",
       "        vertical-align: middle;\n",
       "    }\n",
       "\n",
       "    .dataframe tbody tr th {\n",
       "        vertical-align: top;\n",
       "    }\n",
       "\n",
       "    .dataframe thead th {\n",
       "        text-align: right;\n",
       "    }\n",
       "</style>\n",
       "<table border=\"1\" class=\"dataframe\">\n",
       "  <thead>\n",
       "    <tr style=\"text-align: right;\">\n",
       "      <th></th>\n",
       "      <th>Dependents</th>\n",
       "      <th>ApplicantIncome</th>\n",
       "      <th>CoapplicantIncome</th>\n",
       "      <th>LoanAmount</th>\n",
       "      <th>Loan_Amount_Term</th>\n",
       "      <th>Credit_History</th>\n",
       "      <th>log_Income</th>\n",
       "      <th>ApplicantIncome_5</th>\n",
       "      <th>ApplicantIncome_1</th>\n",
       "      <th>Gender_Male</th>\n",
       "      <th>Married_Yes</th>\n",
       "      <th>Education_Not Graduate</th>\n",
       "      <th>Self_Employed_Yes</th>\n",
       "      <th>Property_Area_Semiurban</th>\n",
       "      <th>Property_Area_Urban</th>\n",
       "    </tr>\n",
       "  </thead>\n",
       "  <tbody>\n",
       "    <tr>\n",
       "      <th>0</th>\n",
       "      <td>0.0</td>\n",
       "      <td>3418.0</td>\n",
       "      <td>0.0</td>\n",
       "      <td>127.0</td>\n",
       "      <td>360.0</td>\n",
       "      <td>1.0</td>\n",
       "      <td>3.533772</td>\n",
       "      <td>3418.0</td>\n",
       "      <td>3418.0</td>\n",
       "      <td>1.0</td>\n",
       "      <td>0.0</td>\n",
       "      <td>0.0</td>\n",
       "      <td>0.0</td>\n",
       "      <td>1.0</td>\n",
       "      <td>0.0</td>\n",
       "    </tr>\n",
       "    <tr>\n",
       "      <th>1</th>\n",
       "      <td>1.0</td>\n",
       "      <td>4606.0</td>\n",
       "      <td>0.0</td>\n",
       "      <td>81.0</td>\n",
       "      <td>360.0</td>\n",
       "      <td>1.0</td>\n",
       "      <td>3.663324</td>\n",
       "      <td>4606.0</td>\n",
       "      <td>4606.0</td>\n",
       "      <td>0.0</td>\n",
       "      <td>0.0</td>\n",
       "      <td>1.0</td>\n",
       "      <td>0.0</td>\n",
       "      <td>0.0</td>\n",
       "      <td>0.0</td>\n",
       "    </tr>\n",
       "  </tbody>\n",
       "</table>\n",
       "</div>"
      ],
      "text/plain": [
       "   Dependents  ApplicantIncome  CoapplicantIncome  LoanAmount  \\\n",
       "0         0.0           3418.0                0.0       127.0   \n",
       "1         1.0           4606.0                0.0        81.0   \n",
       "\n",
       "   Loan_Amount_Term  Credit_History  log_Income  ApplicantIncome_5  \\\n",
       "0             360.0             1.0    3.533772             3418.0   \n",
       "1             360.0             1.0    3.663324             4606.0   \n",
       "\n",
       "   ApplicantIncome_1  Gender_Male  Married_Yes  Education_Not Graduate  \\\n",
       "0             3418.0          1.0          0.0                     0.0   \n",
       "1             4606.0          0.0          0.0                     1.0   \n",
       "\n",
       "   Self_Employed_Yes  Property_Area_Semiurban  Property_Area_Urban  \n",
       "0                0.0                      1.0                  0.0  \n",
       "1                0.0                      0.0                  0.0  "
      ]
     },
     "execution_count": 68,
     "metadata": {},
     "output_type": "execute_result"
    }
   ],
   "source": [
    "X_train_consolidado.head(2)"
   ]
  },
  {
   "cell_type": "markdown",
   "metadata": {},
   "source": [
    "# Estandarizacion"
   ]
  },
  {
   "cell_type": "code",
   "execution_count": 69,
   "metadata": {},
   "outputs": [],
   "source": [
    "from sklearn.preprocessing import MinMaxScaler"
   ]
  },
  {
   "cell_type": "code",
   "execution_count": 70,
   "metadata": {},
   "outputs": [],
   "source": [
    "scaler = MinMaxScaler()"
   ]
  },
  {
   "cell_type": "code",
   "execution_count": 71,
   "metadata": {},
   "outputs": [
    {
     "data": {
      "text/plain": [
       "MinMaxScaler()"
      ]
     },
     "execution_count": 71,
     "metadata": {},
     "output_type": "execute_result"
    }
   ],
   "source": [
    "scaler.fit(X_train_consolidado)"
   ]
  },
  {
   "cell_type": "code",
   "execution_count": 72,
   "metadata": {},
   "outputs": [],
   "source": [
    "X_train_scaled = pd.DataFrame(data = scaler.transform(X_train_consolidado),columns=X_train_consolidado.columns)"
   ]
  },
  {
   "cell_type": "code",
   "execution_count": 73,
   "metadata": {},
   "outputs": [
    {
     "data": {
      "text/html": [
       "<div>\n",
       "<style scoped>\n",
       "    .dataframe tbody tr th:only-of-type {\n",
       "        vertical-align: middle;\n",
       "    }\n",
       "\n",
       "    .dataframe tbody tr th {\n",
       "        vertical-align: top;\n",
       "    }\n",
       "\n",
       "    .dataframe thead th {\n",
       "        text-align: right;\n",
       "    }\n",
       "</style>\n",
       "<table border=\"1\" class=\"dataframe\">\n",
       "  <thead>\n",
       "    <tr style=\"text-align: right;\">\n",
       "      <th></th>\n",
       "      <th>Dependents</th>\n",
       "      <th>ApplicantIncome</th>\n",
       "      <th>CoapplicantIncome</th>\n",
       "      <th>LoanAmount</th>\n",
       "      <th>Loan_Amount_Term</th>\n",
       "      <th>Credit_History</th>\n",
       "      <th>log_Income</th>\n",
       "      <th>ApplicantIncome_5</th>\n",
       "      <th>ApplicantIncome_1</th>\n",
       "      <th>Gender_Male</th>\n",
       "      <th>Married_Yes</th>\n",
       "      <th>Education_Not Graduate</th>\n",
       "      <th>Self_Employed_Yes</th>\n",
       "      <th>Property_Area_Semiurban</th>\n",
       "      <th>Property_Area_Urban</th>\n",
       "    </tr>\n",
       "  </thead>\n",
       "  <tbody>\n",
       "    <tr>\n",
       "      <th>0</th>\n",
       "      <td>0.000000</td>\n",
       "      <td>0.066422</td>\n",
       "      <td>0.0</td>\n",
       "      <td>0.342352</td>\n",
       "      <td>0.69697</td>\n",
       "      <td>1.0</td>\n",
       "      <td>0.286093</td>\n",
       "      <td>0.377586</td>\n",
       "      <td>0.172913</td>\n",
       "      <td>1.0</td>\n",
       "      <td>0.0</td>\n",
       "      <td>0.0</td>\n",
       "      <td>0.0</td>\n",
       "      <td>1.0</td>\n",
       "      <td>0.0</td>\n",
       "    </tr>\n",
       "    <tr>\n",
       "      <th>1</th>\n",
       "      <td>0.333333</td>\n",
       "      <td>0.098622</td>\n",
       "      <td>0.0</td>\n",
       "      <td>0.169485</td>\n",
       "      <td>0.69697</td>\n",
       "      <td>1.0</td>\n",
       "      <td>0.353371</td>\n",
       "      <td>0.670197</td>\n",
       "      <td>0.257753</td>\n",
       "      <td>0.0</td>\n",
       "      <td>0.0</td>\n",
       "      <td>1.0</td>\n",
       "      <td>0.0</td>\n",
       "      <td>0.0</td>\n",
       "      <td>0.0</td>\n",
       "    </tr>\n",
       "  </tbody>\n",
       "</table>\n",
       "</div>"
      ],
      "text/plain": [
       "   Dependents  ApplicantIncome  CoapplicantIncome  LoanAmount  \\\n",
       "0    0.000000         0.066422                0.0    0.342352   \n",
       "1    0.333333         0.098622                0.0    0.169485   \n",
       "\n",
       "   Loan_Amount_Term  Credit_History  log_Income  ApplicantIncome_5  \\\n",
       "0           0.69697             1.0    0.286093           0.377586   \n",
       "1           0.69697             1.0    0.353371           0.670197   \n",
       "\n",
       "   ApplicantIncome_1  Gender_Male  Married_Yes  Education_Not Graduate  \\\n",
       "0           0.172913          1.0          0.0                     0.0   \n",
       "1           0.257753          0.0          0.0                     1.0   \n",
       "\n",
       "   Self_Employed_Yes  Property_Area_Semiurban  Property_Area_Urban  \n",
       "0                0.0                      1.0                  0.0  \n",
       "1                0.0                      0.0                  0.0  "
      ]
     },
     "execution_count": 73,
     "metadata": {},
     "output_type": "execute_result"
    }
   ],
   "source": [
    "X_train_scaled.head(2)"
   ]
  },
  {
   "cell_type": "code",
   "execution_count": 74,
   "metadata": {},
   "outputs": [
    {
     "data": {
      "text/plain": [
       "<matplotlib.axes._subplots.AxesSubplot at 0x1aa735b98d0>"
      ]
     },
     "execution_count": 74,
     "metadata": {},
     "output_type": "execute_result"
    },
    {
     "data": {
      "image/png": "[encoded data removed]",
      "text/plain": [
       "<Figure size 432x288 with 1 Axes>"
      ]
     },
     "metadata": {
      "needs_background": "light"
     },
     "output_type": "display_data"
    }
   ],
   "source": [
    "# sns.histplot(data=X_train_consolidado,x='log_Income')\n",
    "sns.distplot(X_train_num_imputed['log_Income'])"
   ]
  },
  {
   "cell_type": "code",
   "execution_count": 75,
   "metadata": {},
   "outputs": [
    {
     "data": {
      "text/plain": [
       "<matplotlib.axes._subplots.AxesSubplot at 0x1aa735e6668>"
      ]
     },
     "execution_count": 75,
     "metadata": {},
     "output_type": "execute_result"
    },
    {
     "data": {
      "image/png": "[encoded data removed]",
      "text/plain": [
       "<Figure size 432x288 with 1 Axes>"
      ]
     },
     "metadata": {
      "needs_background": "light"
     },
     "output_type": "display_data"
    }
   ],
   "source": [
    "sns.countplot(data = X_train_cat_imputed, x = 'Education')"
   ]
  },
  {
   "cell_type": "code",
   "execution_count": 76,
   "metadata": {},
   "outputs": [
    {
     "data": {
      "text/plain": [
       "<matplotlib.axes._subplots.AxesSubplot at 0x1aa736c4f28>"
      ]
     },
     "execution_count": 76,
     "metadata": {},
     "output_type": "execute_result"
    },
    {
     "data": {
      "image/png": "[encoded data removed]",
      "text/plain": [
       "<Figure size 432x288 with 1 Axes>"
      ]
     },
     "metadata": {
      "needs_background": "light"
     },
     "output_type": "display_data"
    }
   ],
   "source": [
    "sns.distplot(X_train_num_imputed['ApplicantIncome'])"
   ]
  },
  {
   "cell_type": "code",
   "execution_count": 77,
   "metadata": {},
   "outputs": [
    {
     "data": {
      "text/plain": [
       "<matplotlib.axes._subplots.AxesSubplot at 0x1aa737a5978>"
      ]
     },
     "execution_count": 77,
     "metadata": {},
     "output_type": "execute_result"
    },
    {
     "data": {
      "image/png": "[encoded data removed]",
      "text/plain": [
       "<Figure size 432x288 with 1 Axes>"
      ]
     },
     "metadata": {
      "needs_background": "light"
     },
     "output_type": "display_data"
    }
   ],
   "source": [
    "sns.distplot(X_train_num_imputed['log_Income'])"
   ]
  },
  {
   "cell_type": "code",
   "execution_count": 78,
   "metadata": {},
   "outputs": [],
   "source": [
    "# pip install imblearn"
   ]
  },
  {
   "cell_type": "code",
   "execution_count": 79,
   "metadata": {},
   "outputs": [],
   "source": [
    "from imblearn.under_sampling import RandomUnderSampler\r\n",
    "from imblearn.over_sampling import RandomOverSampler"
   ]
  },
  {
   "cell_type": "code",
   "execution_count": 80,
   "metadata": {},
   "outputs": [],
   "source": [
    "# Librerias para balancear datos"
   ]
  },
  {
   "cell_type": "code",
   "execution_count": 81,
   "metadata": {},
   "outputs": [],
   "source": [
    "target = 'Loan_Status'\r\n",
    "\r\n",
    "train = pd.read_csv('../01-aprendizaje_supervisado/train_preprocesed.csv')\r\n",
    "test = pd.read_csv('../01-aprendizaje_supervisado/test_preprocesed.csv')\r\n",
    "\r\n",
    "X_train = train.drop(target, axis = 1)\r\n",
    "y_train = train[target]\r\n",
    "\r\n",
    "X_test = test.drop(target, axis = 1)\r\n",
    "y_test = test[target]"
   ]
  },
  {
   "cell_type": "code",
   "execution_count": 82,
   "metadata": {},
   "outputs": [],
   "source": [
    "from sklearn.metrics import roc_auc_score, roc_curve"
   ]
  },
  {
   "cell_type": "code",
   "execution_count": 83,
   "metadata": {},
   "outputs": [],
   "source": [
    "def plot_roc_curve(y, y_proba, label = ''):\r\n",
    "    '''\r\n",
    "    dibujar la curva roc para las probabilidades y target entregados\r\n",
    "    \r\n",
    "    params:\r\n",
    "    y: etiquetas originales\r\n",
    "    y_proba: probabilidades resultado del modelo\r\n",
    "    '''\r\n",
    "    \r\n",
    "    auc_roc = roc_auc_score(y, y_proba)\r\n",
    "    fpr, tpr, thresholds = roc_curve(y, y_proba)\r\n",
    "    \r\n",
    "    plt.figure(figsize=(8,6))\r\n",
    "    plt.rcParams.update({'font.size': 12})\r\n",
    "    plt.plot(fpr, fpr, c = 'red')\r\n",
    "    plt.plot(fpr, tpr, label= (f\"Curva ROC {label} (AUC = {auc_roc:.4f})\"))\r\n",
    "    plt.xlabel(\"FPR\")\r\n",
    "    plt.ylabel(\"TPR\")\r\n",
    "    plt.title(f\"Curva ROC {label}\")\r\n",
    "    plt.legend(loc=4, numpoints=1)"
   ]
  },
  {
   "cell_type": "markdown",
   "metadata": {},
   "source": [
    "### Random Forest"
   ]
  },
  {
   "cell_type": "code",
   "execution_count": 84,
   "metadata": {},
   "outputs": [],
   "source": [
    "from sklearn.ensemble import RandomForestClassifier"
   ]
  },
  {
   "cell_type": "code",
   "execution_count": 85,
   "metadata": {},
   "outputs": [],
   "source": [
    "rf = RandomForestClassifier()"
   ]
  },
  {
   "cell_type": "code",
   "execution_count": 86,
   "metadata": {},
   "outputs": [
    {
     "data": {
      "text/plain": [
       "RandomForestClassifier()"
      ]
     },
     "execution_count": 86,
     "metadata": {},
     "output_type": "execute_result"
    }
   ],
   "source": [
    "rf.fit(X_train,y_train)"
   ]
  },
  {
   "cell_type": "code",
   "execution_count": 87,
   "metadata": {},
   "outputs": [],
   "source": [
    "y_train_predict = rf.predict(X_train)"
   ]
  },
  {
   "cell_type": "code",
   "execution_count": 88,
   "metadata": {},
   "outputs": [],
   "source": [
    "from sklearn.metrics import accuracy_score, roc_auc_score, classification_report, confusion_matrix"
   ]
  },
  {
   "cell_type": "code",
   "execution_count": 89,
   "metadata": {},
   "outputs": [
    {
     "name": "stdout",
     "output_type": "stream",
     "text": [
      "              precision    recall  f1-score   support\n",
      "\n",
      "           0       1.00      1.00      1.00       337\n",
      "           1       1.00      1.00      1.00       154\n",
      "\n",
      "    accuracy                           1.00       491\n",
      "   macro avg       1.00      1.00      1.00       491\n",
      "weighted avg       1.00      1.00      1.00       491\n",
      "\n"
     ]
    }
   ],
   "source": [
    "print(classification_report(y_train, y_train_predict))"
   ]
  },
  {
   "cell_type": "code",
   "execution_count": 90,
   "metadata": {},
   "outputs": [],
   "source": [
    "y_test_predict = rf.predict(X_test)"
   ]
  },
  {
   "cell_type": "code",
   "execution_count": 91,
   "metadata": {},
   "outputs": [
    {
     "name": "stdout",
     "output_type": "stream",
     "text": [
      "              precision    recall  f1-score   support\n",
      "\n",
      "           0       0.76      0.94      0.84        85\n",
      "           1       0.72      0.34      0.46        38\n",
      "\n",
      "    accuracy                           0.76       123\n",
      "   macro avg       0.74      0.64      0.65       123\n",
      "weighted avg       0.75      0.76      0.73       123\n",
      "\n"
     ]
    }
   ],
   "source": [
    "print(classification_report(y_test, y_test_predict))"
   ]
  },
  {
   "cell_type": "markdown",
   "metadata": {},
   "source": [
    "### Repaso arboles"
   ]
  },
  {
   "cell_type": "code",
   "execution_count": 92,
   "metadata": {},
   "outputs": [],
   "source": [
    "from sklearn.tree import DecisionTreeClassifier\r\n",
    "from sklearn.tree import plot_tree"
   ]
  },
  {
   "cell_type": "code",
   "execution_count": 93,
   "metadata": {},
   "outputs": [
    {
     "name": "stdout",
     "output_type": "stream",
     "text": [
      "              precision    recall  f1-score   support\n",
      "\n",
      "           0       0.81      0.99      0.89       337\n",
      "           1       0.94      0.50      0.65       154\n",
      "\n",
      "    accuracy                           0.83       491\n",
      "   macro avg       0.88      0.74      0.77       491\n",
      "weighted avg       0.85      0.83      0.82       491\n",
      "\n",
      "              precision    recall  f1-score   support\n",
      "\n",
      "           0       0.75      0.98      0.85        85\n",
      "           1       0.85      0.29      0.43        38\n",
      "\n",
      "    accuracy                           0.76       123\n",
      "   macro avg       0.80      0.63      0.64       123\n",
      "weighted avg       0.78      0.76      0.72       123\n",
      "\n"
     ]
    },
    {
     "data": {
      "image/png": "[encoded data removed]",
      "text/plain": [
       "<Figure size 1440x720 with 1 Axes>"
      ]
     },
     "metadata": {
      "needs_background": "light"
     },
     "output_type": "display_data"
    }
   ],
   "source": [
    "dt = DecisionTreeClassifier(max_depth=5, min_samples_split=50)\r\n",
    "dt.fit(X_train, y_train)\r\n",
    "\r\n",
    "y_train_predict = dt.predict(X_train)\r\n",
    "y_test_predict = dt.predict(X_test)\r\n",
    "\r\n",
    "print(classification_report(y_train, y_train_predict))\r\n",
    "print(classification_report(y_test, y_test_predict))\r\n",
    "\r\n",
    "plt.figure(figsize=(20,10))\r\n",
    "\r\n",
    "_ = plot_tree(dt, fontsize = 10,feature_names = X_train.columns, filled=True, rounded=True)"
   ]
  },
  {
   "cell_type": "markdown",
   "metadata": {},
   "source": [
    "### Random forest con paramentros"
   ]
  },
  {
   "cell_type": "code",
   "execution_count": 94,
   "metadata": {},
   "outputs": [
    {
     "name": "stdout",
     "output_type": "stream",
     "text": [
      "              precision    recall  f1-score   support\n",
      "\n",
      "           0       0.82      0.98      0.89       337\n",
      "           1       0.93      0.53      0.68       154\n",
      "\n",
      "    accuracy                           0.84       491\n",
      "   macro avg       0.88      0.76      0.79       491\n",
      "weighted avg       0.86      0.84      0.83       491\n",
      "\n",
      "              precision    recall  f1-score   support\n",
      "\n",
      "           0       0.76      0.98      0.86        85\n",
      "           1       0.86      0.32      0.46        38\n",
      "\n",
      "    accuracy                           0.77       123\n",
      "   macro avg       0.81      0.65      0.66       123\n",
      "weighted avg       0.79      0.77      0.73       123\n",
      "\n"
     ]
    }
   ],
   "source": [
    "rf = RandomForestClassifier(n_estimators=20, max_depth=5, min_samples_split=20)\r\n",
    "rf.fit(X_train, y_train)\r\n",
    "\r\n",
    "y_train_predict = rf.predict(X_train)\r\n",
    "y_test_predict = rf.predict(X_test)\r\n",
    "\r\n",
    "print(classification_report(y_train,y_train_predict))\r\n",
    "print(classification_report(y_test,y_test_predict))"
   ]
  },
  {
   "cell_type": "code",
   "execution_count": 95,
   "metadata": {},
   "outputs": [],
   "source": [
    "y_train_proba = rf.predict_proba(X_train)[:,1]\r\n",
    "y_test_proba = rf.predict_proba(X_test)[:,1]"
   ]
  },
  {
   "cell_type": "code",
   "execution_count": 96,
   "metadata": {},
   "outputs": [
    {
     "data": {
      "text/plain": [
       "0.8881941500635863"
      ]
     },
     "execution_count": 96,
     "metadata": {},
     "output_type": "execute_result"
    }
   ],
   "source": [
    "roc_auc_score(y_train, y_train_proba)"
   ]
  },
  {
   "cell_type": "code",
   "execution_count": 97,
   "metadata": {},
   "outputs": [
    {
     "data": {
      "text/plain": [
       "0.7176470588235294"
      ]
     },
     "execution_count": 97,
     "metadata": {},
     "output_type": "execute_result"
    }
   ],
   "source": [
    "roc_auc_score(y_test, y_test_proba)"
   ]
  },
  {
   "cell_type": "code",
   "execution_count": 98,
   "metadata": {},
   "outputs": [
    {
     "data": {
      "image/png": "[encoded data removed]",
      "text/plain": [
       "<Figure size 576x432 with 1 Axes>"
      ]
     },
     "metadata": {
      "needs_background": "light"
     },
     "output_type": "display_data"
    }
   ],
   "source": [
    "plot_roc_curve(y_train, y_train_proba, 'train')"
   ]
  },
  {
   "cell_type": "code",
   "execution_count": 99,
   "metadata": {},
   "outputs": [
    {
     "data": {
      "image/png": "[encoded data removed]",
      "text/plain": [
       "<Figure size 576x432 with 1 Axes>"
      ]
     },
     "metadata": {
      "needs_background": "light"
     },
     "output_type": "display_data"
    }
   ],
   "source": [
    "plot_roc_curve(y_test, y_test_proba, 'test')"
   ]
  },
  {
   "cell_type": "code",
   "execution_count": 100,
   "metadata": {},
   "outputs": [],
   "source": [
    "from sklearn.model_selection import GridSearchCV"
   ]
  },
  {
   "cell_type": "code",
   "execution_count": 101,
   "metadata": {},
   "outputs": [],
   "source": [
    "from sklearn.metrics import SCORERS"
   ]
  },
  {
   "cell_type": "code",
   "execution_count": 102,
   "metadata": {},
   "outputs": [],
   "source": [
    "rf = RandomForestClassifier()\r\n",
    "\r\n",
    "hiperparametros = {'n_estimators': [20, 50],\r\n",
    "                   'max_depth': [2, 5, 10],\r\n",
    "                #    se suele poner el 5%, 10% y 20%\r\n",
    "                   'min_samples_split': [25, 50, 100],\r\n",
    "                   'criterion': ['gini', 'entropy']}"
   ]
  },
  {
   "cell_type": "code",
   "execution_count": 103,
   "metadata": {},
   "outputs": [],
   "source": [
    "gs = GridSearchCV(estimator = rf, param_grid = hiperparametros, scoring = 'roc_auc')"
   ]
  },
  {
   "cell_type": "code",
   "execution_count": 104,
   "metadata": {},
   "outputs": [
    {
     "data": {
      "text/plain": [
       "GridSearchCV(estimator=RandomForestClassifier(),\n",
       "             param_grid={'criterion': ['gini', 'entropy'],\n",
       "                         'max_depth': [2, 5, 10],\n",
       "                         'min_samples_split': [25, 50, 100],\n",
       "                         'n_estimators': [20, 50]},\n",
       "             scoring='roc_auc')"
      ]
     },
     "execution_count": 104,
     "metadata": {},
     "output_type": "execute_result"
    }
   ],
   "source": [
    "gs.fit(X_train, y_train)"
   ]
  },
  {
   "cell_type": "code",
   "execution_count": 105,
   "metadata": {},
   "outputs": [
    {
     "data": {
      "text/plain": [
       "{'criterion': 'gini',\n",
       " 'max_depth': 10,\n",
       " 'min_samples_split': 100,\n",
       " 'n_estimators': 50}"
      ]
     },
     "execution_count": 105,
     "metadata": {},
     "output_type": "execute_result"
    }
   ],
   "source": [
    "gs.best_params_"
   ]
  },
  {
   "cell_type": "code",
   "execution_count": 106,
   "metadata": {},
   "outputs": [
    {
     "data": {
      "text/html": [
       "<div>\n",
       "<style scoped>\n",
       "    .dataframe tbody tr th:only-of-type {\n",
       "        vertical-align: middle;\n",
       "    }\n",
       "\n",
       "    .dataframe tbody tr th {\n",
       "        vertical-align: top;\n",
       "    }\n",
       "\n",
       "    .dataframe thead th {\n",
       "        text-align: right;\n",
       "    }\n",
       "</style>\n",
       "<table border=\"1\" class=\"dataframe\">\n",
       "  <thead>\n",
       "    <tr style=\"text-align: right;\">\n",
       "      <th></th>\n",
       "      <th>mean_fit_time</th>\n",
       "      <th>std_fit_time</th>\n",
       "      <th>mean_score_time</th>\n",
       "      <th>std_score_time</th>\n",
       "      <th>param_criterion</th>\n",
       "      <th>param_max_depth</th>\n",
       "      <th>param_min_samples_split</th>\n",
       "      <th>param_n_estimators</th>\n",
       "      <th>params</th>\n",
       "      <th>split0_test_score</th>\n",
       "      <th>split1_test_score</th>\n",
       "      <th>split2_test_score</th>\n",
       "      <th>split3_test_score</th>\n",
       "      <th>split4_test_score</th>\n",
       "      <th>mean_test_score</th>\n",
       "      <th>std_test_score</th>\n",
       "      <th>rank_test_score</th>\n",
       "    </tr>\n",
       "  </thead>\n",
       "  <tbody>\n",
       "    <tr>\n",
       "      <th>0</th>\n",
       "      <td>0.023392</td>\n",
       "      <td>0.001074</td>\n",
       "      <td>0.004958</td>\n",
       "      <td>0.000651</td>\n",
       "      <td>gini</td>\n",
       "      <td>2</td>\n",
       "      <td>25</td>\n",
       "      <td>20</td>\n",
       "      <td>{'criterion': 'gini', 'max_depth': 2, 'min_sam...</td>\n",
       "      <td>0.71371</td>\n",
       "      <td>0.770342</td>\n",
       "      <td>0.726529</td>\n",
       "      <td>0.781416</td>\n",
       "      <td>0.707598</td>\n",
       "      <td>0.739919</td>\n",
       "      <td>0.030194</td>\n",
       "      <td>25</td>\n",
       "    </tr>\n",
       "    <tr>\n",
       "      <th>1</th>\n",
       "      <td>0.052191</td>\n",
       "      <td>0.002484</td>\n",
       "      <td>0.007868</td>\n",
       "      <td>0.000257</td>\n",
       "      <td>gini</td>\n",
       "      <td>2</td>\n",
       "      <td>25</td>\n",
       "      <td>50</td>\n",
       "      <td>{'criterion': 'gini', 'max_depth': 2, 'min_sam...</td>\n",
       "      <td>0.74075</td>\n",
       "      <td>0.722195</td>\n",
       "      <td>0.806692</td>\n",
       "      <td>0.780453</td>\n",
       "      <td>0.687745</td>\n",
       "      <td>0.747567</td>\n",
       "      <td>0.042062</td>\n",
       "      <td>21</td>\n",
       "    </tr>\n",
       "  </tbody>\n",
       "</table>\n",
       "</div>"
      ],
      "text/plain": [
       "   mean_fit_time  std_fit_time  mean_score_time  std_score_time  \\\n",
       "0       0.023392      0.001074         0.004958        0.000651   \n",
       "1       0.052191      0.002484         0.007868        0.000257   \n",
       "\n",
       "  param_criterion param_max_depth param_min_samples_split param_n_estimators  \\\n",
       "0            gini               2                      25                 20   \n",
       "1            gini               2                      25                 50   \n",
       "\n",
       "                                              params  split0_test_score  \\\n",
       "0  {'criterion': 'gini', 'max_depth': 2, 'min_sam...            0.71371   \n",
       "1  {'criterion': 'gini', 'max_depth': 2, 'min_sam...            0.74075   \n",
       "\n",
       "   split1_test_score  split2_test_score  split3_test_score  split4_test_score  \\\n",
       "0           0.770342           0.726529           0.781416           0.707598   \n",
       "1           0.722195           0.806692           0.780453           0.687745   \n",
       "\n",
       "   mean_test_score  std_test_score  rank_test_score  \n",
       "0         0.739919        0.030194               25  \n",
       "1         0.747567        0.042062               21  "
      ]
     },
     "execution_count": 106,
     "metadata": {},
     "output_type": "execute_result"
    }
   ],
   "source": [
    "resultados = pd.DataFrame(gs.cv_results_)\r\n",
    "resultados.head(2)"
   ]
  },
  {
   "cell_type": "code",
   "execution_count": 110,
   "metadata": {},
   "outputs": [],
   "source": [
    "# pip install openpyxl"
   ]
  },
  {
   "cell_type": "code",
   "execution_count": 111,
   "metadata": {},
   "outputs": [],
   "source": [
    "import openpyxl"
   ]
  },
  {
   "cell_type": "code",
   "execution_count": 113,
   "metadata": {},
   "outputs": [],
   "source": [
    "resultados.to_excel('resultados_random_forest.xlsx')"
   ]
  },
  {
   "cell_type": "markdown",
   "metadata": {},
   "source": [
    "## XGBOOST"
   ]
  },
  {
   "cell_type": "code",
   "execution_count": 114,
   "metadata": {},
   "outputs": [],
   "source": [
    "target = 'Loan_Status'\r\n",
    "\r\n",
    "train = pd.read_csv('../01-aprendizaje_supervisado/train_preprocesed.csv')\r\n",
    "test = pd.read_csv('../01-aprendizaje_supervisado/test_preprocesed.csv')\r\n",
    "\r\n",
    "X_train = train.drop(target, axis = 1)\r\n",
    "y_train = train[target]\r\n",
    "\r\n",
    "X_test = test.drop(target, axis = 1)\r\n",
    "y_test = test[target]"
   ]
  },
  {
   "cell_type": "code",
   "execution_count": 118,
   "metadata": {},
   "outputs": [
    {
     "name": "stdout",
     "output_type": "stream",
     "text": [
      "Collecting xgboost\n",
      "  Using cached https://files.pythonhosted.org/packages/d4/60/845dd265c7265d3bd44906d1c15be2908ff0655b32d9000935aeaeef6677/xgboost-1.4.2-py3-none-win_amd64.whl\n",
      "Requirement already satisfied: scipy in c:\\users\\usiario-acceso\\appdata\\local\\alteryx\\bin\\miniconda3\\envs\\jupytertool_venv\\lib\\site-packages (from xgboost) (1.3.0)\n",
      "Requirement already satisfied: numpy in c:\\users\\usiario-acceso\\appdata\\local\\alteryx\\bin\\miniconda3\\envs\\jupytertool_venv\\lib\\site-packages (from xgboost) (1.16.4)\n",
      "Installing collected packages: xgboost\n",
      "Successfully installed xgboost-1.4.2\n",
      "Note: you may need to restart the kernel to use updated packages.\n"
     ]
    }
   ],
   "source": [
    "# pip install xgboost"
   ]
  },
  {
   "cell_type": "code",
   "execution_count": 119,
   "metadata": {},
   "outputs": [],
   "source": [
    "import xgboost as xgb"
   ]
  },
  {
   "cell_type": "code",
   "execution_count": 120,
   "metadata": {},
   "outputs": [],
   "source": [
    "dtrain = xgb.DMatrix(data=X_train, label = y_train)\r\n",
    "dtest = xgb.DMatrix(data=X_test,   label = y_test)"
   ]
  },
  {
   "cell_type": "code",
   "execution_count": 121,
   "metadata": {},
   "outputs": [
    {
     "name": "stdout",
     "output_type": "stream",
     "text": [
      "[0]\ttrain-auc:0.77463\ttest-auc:0.68266\n",
      "[1]\ttrain-auc:0.77485\ttest-auc:0.68328\n",
      "[2]\ttrain-auc:0.77496\ttest-auc:0.68359\n",
      "[3]\ttrain-auc:0.77857\ttest-auc:0.68034\n",
      "[4]\ttrain-auc:0.78394\ttest-auc:0.69195\n",
      "[5]\ttrain-auc:0.78400\ttest-auc:0.69195\n",
      "[6]\ttrain-auc:0.78420\ttest-auc:0.69195\n",
      "[7]\ttrain-auc:0.78414\ttest-auc:0.69195\n",
      "[8]\ttrain-auc:0.79247\ttest-auc:0.70356\n",
      "[9]\ttrain-auc:0.79252\ttest-auc:0.70341\n",
      "[10]\ttrain-auc:0.79252\ttest-auc:0.70341\n",
      "[11]\ttrain-auc:0.79257\ttest-auc:0.70341\n",
      "[12]\ttrain-auc:0.79252\ttest-auc:0.70341\n",
      "[13]\ttrain-auc:0.79257\ttest-auc:0.70341\n",
      "[14]\ttrain-auc:0.79252\ttest-auc:0.70341\n",
      "[15]\ttrain-auc:0.79252\ttest-auc:0.70341\n",
      "[16]\ttrain-auc:0.84160\ttest-auc:0.74133\n",
      "[17]\ttrain-auc:0.84160\ttest-auc:0.74133\n",
      "[18]\ttrain-auc:0.84168\ttest-auc:0.74133\n",
      "[19]\ttrain-auc:0.84376\ttest-auc:0.74551\n",
      "[20]\ttrain-auc:0.84357\ttest-auc:0.74520\n",
      "[21]\ttrain-auc:0.84472\ttest-auc:0.74056\n",
      "[22]\ttrain-auc:0.84565\ttest-auc:0.74303\n",
      "[23]\ttrain-auc:0.84355\ttest-auc:0.73622\n",
      "[24]\ttrain-auc:0.84553\ttest-auc:0.73932\n",
      "[25]\ttrain-auc:0.84542\ttest-auc:0.74118\n",
      "[26]\ttrain-auc:0.85158\ttest-auc:0.73344\n",
      "[27]\ttrain-auc:0.85181\ttest-auc:0.73808\n",
      "[28]\ttrain-auc:0.85101\ttest-auc:0.73560\n",
      "[29]\ttrain-auc:0.85068\ttest-auc:0.73375\n",
      "[30]\ttrain-auc:0.85095\ttest-auc:0.73560\n",
      "[31]\ttrain-auc:0.85074\ttest-auc:0.73529\n",
      "[32]\ttrain-auc:0.84823\ttest-auc:0.73282\n",
      "[33]\ttrain-auc:0.84856\ttest-auc:0.73406\n",
      "[34]\ttrain-auc:0.84833\ttest-auc:0.73467\n",
      "[35]\ttrain-auc:0.84846\ttest-auc:0.73467\n",
      "[36]\ttrain-auc:0.85003\ttest-auc:0.73375\n",
      "[37]\ttrain-auc:0.85034\ttest-auc:0.73375\n",
      "[38]\ttrain-auc:0.85028\ttest-auc:0.73375\n",
      "[39]\ttrain-auc:0.85080\ttest-auc:0.73808\n",
      "[40]\ttrain-auc:0.85086\ttest-auc:0.73808\n",
      "[41]\ttrain-auc:0.85105\ttest-auc:0.73994\n",
      "[42]\ttrain-auc:0.85180\ttest-auc:0.74226\n",
      "[43]\ttrain-auc:0.85514\ttest-auc:0.75743\n",
      "[44]\ttrain-auc:0.85502\ttest-auc:0.75805\n",
      "[45]\ttrain-auc:0.85427\ttest-auc:0.75867\n",
      "[46]\ttrain-auc:0.85433\ttest-auc:0.75898\n",
      "[47]\ttrain-auc:0.85510\ttest-auc:0.76145\n",
      "[48]\ttrain-auc:0.85448\ttest-auc:0.76950\n",
      "[49]\ttrain-auc:0.85574\ttest-auc:0.77260\n",
      "[50]\ttrain-auc:0.85622\ttest-auc:0.77229\n",
      "[51]\ttrain-auc:0.85803\ttest-auc:0.77694\n",
      "[52]\ttrain-auc:0.85800\ttest-auc:0.77740\n",
      "[53]\ttrain-auc:0.85910\ttest-auc:0.78112\n",
      "[54]\ttrain-auc:0.85929\ttest-auc:0.78452\n",
      "[55]\ttrain-auc:0.86145\ttest-auc:0.78452\n",
      "[56]\ttrain-auc:0.86253\ttest-auc:0.78220\n",
      "[57]\ttrain-auc:0.86230\ttest-auc:0.78406\n",
      "[58]\ttrain-auc:0.86309\ttest-auc:0.78684\n",
      "[59]\ttrain-auc:0.86737\ttest-auc:0.78684\n",
      "[60]\ttrain-auc:0.86748\ttest-auc:0.78963\n",
      "[61]\ttrain-auc:0.86837\ttest-auc:0.78839\n",
      "[62]\ttrain-auc:0.86856\ttest-auc:0.78963\n",
      "[63]\ttrain-auc:0.86989\ttest-auc:0.78932\n",
      "[64]\ttrain-auc:0.86979\ttest-auc:0.79056\n",
      "[65]\ttrain-auc:0.87056\ttest-auc:0.79087\n",
      "[66]\ttrain-auc:0.87054\ttest-auc:0.79334\n",
      "[67]\ttrain-auc:0.87130\ttest-auc:0.79396\n",
      "[68]\ttrain-auc:0.87312\ttest-auc:0.79443\n",
      "[69]\ttrain-auc:0.87319\ttest-auc:0.79536\n",
      "[70]\ttrain-auc:0.87375\ttest-auc:0.79474\n",
      "[71]\ttrain-auc:0.87393\ttest-auc:0.79536\n",
      "[72]\ttrain-auc:0.87516\ttest-auc:0.79489\n",
      "[73]\ttrain-auc:0.87568\ttest-auc:0.79520\n",
      "[74]\ttrain-auc:0.87616\ttest-auc:0.79613\n",
      "[75]\ttrain-auc:0.87664\ttest-auc:0.79644\n",
      "[76]\ttrain-auc:0.87716\ttest-auc:0.79675\n",
      "[77]\ttrain-auc:0.87761\ttest-auc:0.79706\n",
      "[78]\ttrain-auc:0.87788\ttest-auc:0.79892\n",
      "[79]\ttrain-auc:0.87898\ttest-auc:0.79954\n",
      "[80]\ttrain-auc:0.87923\ttest-auc:0.79923\n",
      "[81]\ttrain-auc:0.87950\ttest-auc:0.79892\n",
      "[82]\ttrain-auc:0.87985\ttest-auc:0.79892\n",
      "[83]\ttrain-auc:0.88092\ttest-auc:0.79938\n",
      "[84]\ttrain-auc:0.88129\ttest-auc:0.80000\n",
      "[85]\ttrain-auc:0.88221\ttest-auc:0.80124\n",
      "[86]\ttrain-auc:0.88253\ttest-auc:0.80000\n",
      "[87]\ttrain-auc:0.88253\ttest-auc:0.80186\n",
      "[88]\ttrain-auc:0.88311\ttest-auc:0.80093\n",
      "[89]\ttrain-auc:0.88382\ttest-auc:0.79938\n",
      "[90]\ttrain-auc:0.88505\ttest-auc:0.80031\n",
      "[91]\ttrain-auc:0.88552\ttest-auc:0.80124\n",
      "[92]\ttrain-auc:0.88653\ttest-auc:0.80124\n",
      "[93]\ttrain-auc:0.88734\ttest-auc:0.80062\n",
      "[94]\ttrain-auc:0.88832\ttest-auc:0.80186\n",
      "[95]\ttrain-auc:0.88838\ttest-auc:0.79907\n",
      "[96]\ttrain-auc:0.88867\ttest-auc:0.80031\n",
      "[97]\ttrain-auc:0.88884\ttest-auc:0.79938\n",
      "[98]\ttrain-auc:0.88936\ttest-auc:0.79938\n",
      "[99]\ttrain-auc:0.88977\ttest-auc:0.80077\n",
      "[100]\ttrain-auc:0.88989\ttest-auc:0.80263\n",
      "[101]\ttrain-auc:0.89010\ttest-auc:0.80201\n",
      "[102]\ttrain-auc:0.89042\ttest-auc:0.80294\n",
      "[103]\ttrain-auc:0.89077\ttest-auc:0.80356\n",
      "[104]\ttrain-auc:0.89135\ttest-auc:0.80263\n",
      "[105]\ttrain-auc:0.89241\ttest-auc:0.80263\n",
      "[106]\ttrain-auc:0.89276\ttest-auc:0.80325\n",
      "[107]\ttrain-auc:0.89369\ttest-auc:0.80418\n",
      "[108]\ttrain-auc:0.89448\ttest-auc:0.80232\n",
      "[109]\ttrain-auc:0.89484\ttest-auc:0.80263\n",
      "[110]\ttrain-auc:0.89538\ttest-auc:0.80232\n",
      "[111]\ttrain-auc:0.89552\ttest-auc:0.80139\n",
      "[112]\ttrain-auc:0.89580\ttest-auc:0.80232\n",
      "[113]\ttrain-auc:0.89636\ttest-auc:0.80294\n",
      "[114]\ttrain-auc:0.89646\ttest-auc:0.80294\n",
      "[115]\ttrain-auc:0.89725\ttest-auc:0.80077\n",
      "[116]\ttrain-auc:0.89754\ttest-auc:0.80294\n",
      "[117]\ttrain-auc:0.89872\ttest-auc:0.80248\n",
      "[118]\ttrain-auc:0.89891\ttest-auc:0.80217\n",
      "[119]\ttrain-auc:0.89920\ttest-auc:0.80186\n",
      "[120]\ttrain-auc:0.90024\ttest-auc:0.80155\n",
      "[121]\ttrain-auc:0.90070\ttest-auc:0.79969\n",
      "[122]\ttrain-auc:0.90122\ttest-auc:0.79659\n",
      "[123]\ttrain-auc:0.90151\ttest-auc:0.79597\n",
      "[124]\ttrain-auc:0.90186\ttest-auc:0.79783\n",
      "[125]\ttrain-auc:0.90286\ttest-auc:0.79597\n",
      "[126]\ttrain-auc:0.90311\ttest-auc:0.79505\n",
      "[127]\ttrain-auc:0.90347\ttest-auc:0.79629\n",
      "[128]\ttrain-auc:0.90426\ttest-auc:0.79381\n",
      "[129]\ttrain-auc:0.90451\ttest-auc:0.79241\n",
      "[130]\ttrain-auc:0.90463\ttest-auc:0.79241\n",
      "[131]\ttrain-auc:0.90500\ttest-auc:0.79272\n",
      "[132]\ttrain-auc:0.90573\ttest-auc:0.79102\n",
      "[133]\ttrain-auc:0.90586\ttest-auc:0.79226\n",
      "[134]\ttrain-auc:0.90661\ttest-auc:0.78978\n",
      "[135]\ttrain-auc:0.90675\ttest-auc:0.79133\n",
      "[136]\ttrain-auc:0.90748\ttest-auc:0.79009\n",
      "[137]\ttrain-auc:0.90785\ttest-auc:0.79071\n",
      "[138]\ttrain-auc:0.90794\ttest-auc:0.78885\n",
      "[139]\ttrain-auc:0.90854\ttest-auc:0.78855\n",
      "[140]\ttrain-auc:0.90899\ttest-auc:0.78916\n",
      "[141]\ttrain-auc:0.90927\ttest-auc:0.78885\n",
      "[142]\ttrain-auc:0.90927\ttest-auc:0.78855\n",
      "[143]\ttrain-auc:0.90941\ttest-auc:0.78700\n",
      "[144]\ttrain-auc:0.90972\ttest-auc:0.78824\n",
      "[145]\ttrain-auc:0.90993\ttest-auc:0.78855\n",
      "[146]\ttrain-auc:0.91026\ttest-auc:0.78916\n",
      "[147]\ttrain-auc:0.91080\ttest-auc:0.78793\n",
      "[148]\ttrain-auc:0.91091\ttest-auc:0.78824\n",
      "[149]\ttrain-auc:0.91134\ttest-auc:0.78793\n",
      "[150]\ttrain-auc:0.91170\ttest-auc:0.78824\n",
      "[151]\ttrain-auc:0.91168\ttest-auc:0.78762\n",
      "[152]\ttrain-auc:0.91178\ttest-auc:0.78824\n",
      "[153]\ttrain-auc:0.91224\ttest-auc:0.78824\n",
      "[154]\ttrain-auc:0.91288\ttest-auc:0.78885\n",
      "[155]\ttrain-auc:0.91307\ttest-auc:0.78947\n",
      "[156]\ttrain-auc:0.91334\ttest-auc:0.78947\n"
     ]
    }
   ],
   "source": [
    "parameters = {'objective': 'binary:logistic',\r\n",
    "              'learning_rate': 0.05,\r\n",
    "              'max_depth': 4,\r\n",
    "              'min_child_weight': 0.5,\r\n",
    "              'reg_alpha': 5,\r\n",
    "              'reg_lambda': 5,\r\n",
    "              'eval_metric': 'auc'}\r\n",
    "\r\n",
    "watch_list  = [(dtrain,'train'),(dtest,'test')]\r\n",
    "\r\n",
    "xgb_fit = xgb.train(params = parameters, dtrain = dtrain, evals = watch_list, \r\n",
    "                    num_boost_round = 500, early_stopping_rounds=50, verbose_eval=1)"
   ]
  },
  {
   "cell_type": "code",
   "execution_count": 122,
   "metadata": {},
   "outputs": [
    {
     "data": {
      "text/plain": [
       "array([0.3164955 , 0.28524876, 0.06951594, 0.09025713, 0.3602538 ,\n",
       "       0.18217124, 0.18504797, 0.13444805, 0.1384633 , 0.90318906,\n",
       "       0.27782777, 0.27414373, 0.06853894, 0.2940693 , 0.18741427,\n",
       "       0.12321617, 0.20246466, 0.28505176, 0.39125854, 0.13042435,\n",
       "       0.1900189 , 0.17761278, 0.34885553, 0.14496623, 0.16007225,\n",
       "       0.20981066, 0.14651448, 0.41138   , 0.23381586, 0.1445062 ,\n",
       "       0.15729235, 0.16325656, 0.27942815, 0.23051347, 0.0835527 ,\n",
       "       0.1144412 , 0.1842204 , 0.1149711 , 0.87487996, 0.20636962,\n",
       "       0.32860303, 0.26130697, 0.13962343, 0.12063494, 0.27530703,\n",
       "       0.18616065, 0.23237956, 0.08504552, 0.3555553 , 0.1744845 ,\n",
       "       0.31057948, 0.1657252 , 0.1497747 , 0.1571434 , 0.21976073,\n",
       "       0.11216616, 0.09671533, 0.30310836, 0.31687728, 0.2738204 ,\n",
       "       0.36176026, 0.11286803, 0.85873264, 0.14502527, 0.22574727,\n",
       "       0.32291538, 0.23479743, 0.88030714, 0.13560723, 0.13653332,\n",
       "       0.13346139, 0.8882936 , 0.21207409, 0.14727953, 0.8322331 ,\n",
       "       0.38823235, 0.18464379, 0.22643155, 0.1154305 , 0.38702947,\n",
       "       0.20871097, 0.34476033, 0.322307  , 0.1583606 , 0.822874  ,\n",
       "       0.86804116, 0.19752014, 0.21134076, 0.256402  , 0.16234748,\n",
       "       0.15903106, 0.10766789, 0.31202194, 0.8931077 , 0.20539187,\n",
       "       0.15105544, 0.22854999, 0.46863428, 0.23701914, 0.16529174,\n",
       "       0.12708178, 0.32701108, 0.33515707, 0.1951831 , 0.13196383,\n",
       "       0.24410643, 0.1698041 , 0.0822019 , 0.11739428, 0.10065719,\n",
       "       0.8705938 , 0.14114326, 0.1973889 , 0.82318807, 0.27823088,\n",
       "       0.8194777 , 0.8491536 , 0.33232376, 0.3906774 , 0.12195843,\n",
       "       0.32863903, 0.08620857, 0.26073262], dtype=float32)"
      ]
     },
     "execution_count": 122,
     "metadata": {},
     "output_type": "execute_result"
    }
   ],
   "source": [
    "xgb_fit.predict(dtest)"
   ]
  },
  {
   "cell_type": "code",
   "execution_count": 123,
   "metadata": {},
   "outputs": [
    {
     "data": {
      "text/html": [
       "<div>\n",
       "<style scoped>\n",
       "    .dataframe tbody tr th:only-of-type {\n",
       "        vertical-align: middle;\n",
       "    }\n",
       "\n",
       "    .dataframe tbody tr th {\n",
       "        vertical-align: top;\n",
       "    }\n",
       "\n",
       "    .dataframe thead th {\n",
       "        text-align: right;\n",
       "    }\n",
       "</style>\n",
       "<table border=\"1\" class=\"dataframe\">\n",
       "  <thead>\n",
       "    <tr style=\"text-align: right;\">\n",
       "      <th></th>\n",
       "      <th>Gain</th>\n",
       "      <th>Cover</th>\n",
       "      <th>Weight</th>\n",
       "    </tr>\n",
       "  </thead>\n",
       "  <tbody>\n",
       "    <tr>\n",
       "      <th>%Cuota</th>\n",
       "      <td>0.952670</td>\n",
       "      <td>45.736438</td>\n",
       "      <td>149</td>\n",
       "    </tr>\n",
       "    <tr>\n",
       "      <th>ApplicantIncome</th>\n",
       "      <td>0.270112</td>\n",
       "      <td>29.014014</td>\n",
       "      <td>190</td>\n",
       "    </tr>\n",
       "    <tr>\n",
       "      <th>CoapplicantIncome</th>\n",
       "      <td>0.716640</td>\n",
       "      <td>30.272749</td>\n",
       "      <td>147</td>\n",
       "    </tr>\n",
       "    <tr>\n",
       "      <th>Credit_History</th>\n",
       "      <td>9.774698</td>\n",
       "      <td>79.240449</td>\n",
       "      <td>139</td>\n",
       "    </tr>\n",
       "    <tr>\n",
       "      <th>Cuota</th>\n",
       "      <td>0.373173</td>\n",
       "      <td>28.615293</td>\n",
       "      <td>26</td>\n",
       "    </tr>\n",
       "    <tr>\n",
       "      <th>Dependents</th>\n",
       "      <td>0.561234</td>\n",
       "      <td>29.945255</td>\n",
       "      <td>15</td>\n",
       "    </tr>\n",
       "    <tr>\n",
       "      <th>Education_Not Graduate</th>\n",
       "      <td>0.201685</td>\n",
       "      <td>66.797370</td>\n",
       "      <td>14</td>\n",
       "    </tr>\n",
       "    <tr>\n",
       "      <th>LoanAmount</th>\n",
       "      <td>0.310877</td>\n",
       "      <td>29.497705</td>\n",
       "      <td>100</td>\n",
       "    </tr>\n",
       "    <tr>\n",
       "      <th>Loan_Amount_Term</th>\n",
       "      <td>0.253876</td>\n",
       "      <td>27.438861</td>\n",
       "      <td>59</td>\n",
       "    </tr>\n",
       "    <tr>\n",
       "      <th>Married_Yes</th>\n",
       "      <td>0.478218</td>\n",
       "      <td>40.172009</td>\n",
       "      <td>27</td>\n",
       "    </tr>\n",
       "    <tr>\n",
       "      <th>Property_Area_Semiurban</th>\n",
       "      <td>0.357745</td>\n",
       "      <td>72.430548</td>\n",
       "      <td>38</td>\n",
       "    </tr>\n",
       "    <tr>\n",
       "      <th>Property_Area_Urban</th>\n",
       "      <td>0.280508</td>\n",
       "      <td>35.193226</td>\n",
       "      <td>2</td>\n",
       "    </tr>\n",
       "    <tr>\n",
       "      <th>Self_Employed_Yes</th>\n",
       "      <td>0.110325</td>\n",
       "      <td>24.154321</td>\n",
       "      <td>16</td>\n",
       "    </tr>\n",
       "    <tr>\n",
       "      <th>TotalIncome</th>\n",
       "      <td>1.307985</td>\n",
       "      <td>58.201488</td>\n",
       "      <td>87</td>\n",
       "    </tr>\n",
       "    <tr>\n",
       "      <th>TotalIncomeByPerson</th>\n",
       "      <td>0.653655</td>\n",
       "      <td>29.690593</td>\n",
       "      <td>139</td>\n",
       "    </tr>\n",
       "  </tbody>\n",
       "</table>\n",
       "</div>"
      ],
      "text/plain": [
       "                             Gain      Cover  Weight\n",
       "%Cuota                   0.952670  45.736438     149\n",
       "ApplicantIncome          0.270112  29.014014     190\n",
       "CoapplicantIncome        0.716640  30.272749     147\n",
       "Credit_History           9.774698  79.240449     139\n",
       "Cuota                    0.373173  28.615293      26\n",
       "Dependents               0.561234  29.945255      15\n",
       "Education_Not Graduate   0.201685  66.797370      14\n",
       "LoanAmount               0.310877  29.497705     100\n",
       "Loan_Amount_Term         0.253876  27.438861      59\n",
       "Married_Yes              0.478218  40.172009      27\n",
       "Property_Area_Semiurban  0.357745  72.430548      38\n",
       "Property_Area_Urban      0.280508  35.193226       2\n",
       "Self_Employed_Yes        0.110325  24.154321      16\n",
       "TotalIncome              1.307985  58.201488      87\n",
       "TotalIncomeByPerson      0.653655  29.690593     139"
      ]
     },
     "execution_count": 123,
     "metadata": {},
     "output_type": "execute_result"
    }
   ],
   "source": [
    "frame = {'Gain':  xgb_fit.get_score(importance_type='gain'), # ganancia en prediccion por la variable\r\n",
    "        'Cover':  xgb_fit.get_score(importance_type='cover'),# profundidad del arbol \r\n",
    "        'Weight': xgb_fit.get_score(importance_type='weight')} # en cuantos arboles sale la variable\r\n",
    "\r\n",
    "result = pd.DataFrame(frame) \r\n",
    "result "
   ]
  },
  {
   "cell_type": "markdown",
   "metadata": {},
   "source": [
    "## LIGHTGBM"
   ]
  },
  {
   "cell_type": "code",
   "execution_count": 125,
   "metadata": {},
   "outputs": [],
   "source": [
    "# pip install lightgbm"
   ]
  },
  {
   "cell_type": "code",
   "execution_count": 124,
   "metadata": {},
   "outputs": [],
   "source": [
    "import lightgbm as lgbm"
   ]
  },
  {
   "cell_type": "code",
   "execution_count": 126,
   "metadata": {},
   "outputs": [],
   "source": [
    "dtrain = lgbm.Dataset(X_train, y_train)\r\n",
    "dtest = lgbm.Dataset(X_test, y_test)"
   ]
  },
  {
   "cell_type": "code",
   "execution_count": 128,
   "metadata": {},
   "outputs": [],
   "source": [
    "params = {'objective':'binary', \r\n",
    "          'metric': 'auc', \r\n",
    "          'max_depth': 10, \r\n",
    "          'num_leaves':50,\r\n",
    "           'reg_alpha': 1,\r\n",
    "          'reg_lambda': 1,}"
   ]
  },
  {
   "cell_type": "code",
   "execution_count": 130,
   "metadata": {},
   "outputs": [
    {
     "name": "stdout",
     "output_type": "stream",
     "text": [
      "[LightGBM] [Warning] Find whitespaces in feature_names, replace with underlines\n",
      "[LightGBM] [Info] Number of positive: 154, number of negative: 337\n",
      "[LightGBM] [Warning] Auto-choosing col-wise multi-threading, the overhead of testing was 0.000564 seconds.\n",
      "You can set `force_col_wise=true` to remove the overhead.\n",
      "[LightGBM] [Info] Total Bins 965\n",
      "[LightGBM] [Info] Number of data points in the train set: 491, number of used features: 16\n",
      "[LightGBM] [Info] [binary:BoostFromScore]: pavg=0.313646 -> initscore=-0.783130\n",
      "[LightGBM] [Info] Start training from score -0.783130\n",
      "[LightGBM] [Warning] No further splits with positive gain, best gain: -inf\n",
      "[1]\ttrain's auc: 0.845957\ttest's auc: 0.728947\n",
      "Training until validation scores don't improve for 50 rounds\n",
      "[LightGBM] [Warning] No further splits with positive gain, best gain: -inf\n",
      "[2]\ttrain's auc: 0.856035\ttest's auc: 0.742415\n",
      "[LightGBM] [Warning] No further splits with positive gain, best gain: -inf\n",
      "[3]\ttrain's auc: 0.855804\ttest's auc: 0.746749\n",
      "[LightGBM] [Warning] No further splits with positive gain, best gain: -inf\n",
      "[4]\ttrain's auc: 0.855804\ttest's auc: 0.74613\n",
      "[LightGBM] [Warning] No further splits with positive gain, best gain: -inf\n",
      "[5]\ttrain's auc: 0.855187\ttest's auc: 0.750464\n",
      "[LightGBM] [Warning] No further splits with positive gain, best gain: -inf\n",
      "[6]\ttrain's auc: 0.869841\ttest's auc: 0.749845\n",
      "[LightGBM] [Warning] No further splits with positive gain, best gain: -inf\n",
      "[7]\ttrain's auc: 0.871219\ttest's auc: 0.750464\n",
      "[LightGBM] [Warning] No further splits with positive gain, best gain: -inf\n",
      "[8]\ttrain's auc: 0.882346\ttest's auc: 0.765944\n",
      "[LightGBM] [Warning] No further splits with positive gain, best gain: -inf\n",
      "[9]\ttrain's auc: 0.886884\ttest's auc: 0.769505\n",
      "[LightGBM] [Warning] No further splits with positive gain, best gain: -inf\n",
      "[10]\ttrain's auc: 0.890439\ttest's auc: 0.759907\n",
      "[LightGBM] [Warning] No further splits with positive gain, best gain: -inf\n",
      "[11]\ttrain's auc: 0.896624\ttest's auc: 0.753251\n",
      "[LightGBM] [Warning] No further splits with positive gain, best gain: -inf\n",
      "[12]\ttrain's auc: 0.900333\ttest's auc: 0.766718\n",
      "[LightGBM] [Warning] No further splits with positive gain, best gain: -inf\n",
      "[13]\ttrain's auc: 0.90252\ttest's auc: 0.758359\n",
      "[LightGBM] [Warning] No further splits with positive gain, best gain: -inf\n",
      "[14]\ttrain's auc: 0.907877\ttest's auc: 0.766563\n",
      "[LightGBM] [Warning] No further splits with positive gain, best gain: -inf\n",
      "[15]\ttrain's auc: 0.91201\ttest's auc: 0.772755\n",
      "[LightGBM] [Warning] No further splits with positive gain, best gain: -inf\n",
      "[16]\ttrain's auc: 0.914929\ttest's auc: 0.77709\n",
      "[LightGBM] [Warning] No further splits with positive gain, best gain: -inf\n",
      "[17]\ttrain's auc: 0.920652\ttest's auc: 0.773839\n",
      "[LightGBM] [Warning] No further splits with positive gain, best gain: -inf\n",
      "[18]\ttrain's auc: 0.926462\ttest's auc: 0.782508\n",
      "[LightGBM] [Warning] No further splits with positive gain, best gain: -inf\n",
      "[19]\ttrain's auc: 0.932338\ttest's auc: 0.778483\n",
      "[LightGBM] [Warning] No further splits with positive gain, best gain: -inf\n",
      "[20]\ttrain's auc: 0.935845\ttest's auc: 0.771362\n",
      "[LightGBM] [Warning] No further splits with positive gain, best gain: -inf\n",
      "[21]\ttrain's auc: 0.938774\ttest's auc: 0.775077\n",
      "[LightGBM] [Warning] No further splits with positive gain, best gain: -inf\n",
      "[22]\ttrain's auc: 0.938543\ttest's auc: 0.775077\n",
      "[LightGBM] [Warning] No further splits with positive gain, best gain: -inf\n",
      "[23]\ttrain's auc: 0.940566\ttest's auc: 0.772601\n",
      "[LightGBM] [Warning] No further splits with positive gain, best gain: -inf\n",
      "[24]\ttrain's auc: 0.942031\ttest's auc: 0.771981\n",
      "[LightGBM] [Warning] No further splits with positive gain, best gain: -inf\n",
      "[25]\ttrain's auc: 0.945701\ttest's auc: 0.772755\n",
      "[LightGBM] [Warning] No further splits with positive gain, best gain: -inf\n",
      "[26]\ttrain's auc: 0.948447\ttest's auc: 0.769195\n",
      "[LightGBM] [Warning] No further splits with positive gain, best gain: -inf\n",
      "[27]\ttrain's auc: 0.950374\ttest's auc: 0.769505\n",
      "[LightGBM] [Warning] No further splits with positive gain, best gain: -inf\n",
      "[28]\ttrain's auc: 0.952224\ttest's auc: 0.771053\n",
      "[LightGBM] [Warning] No further splits with positive gain, best gain: -inf\n",
      "[29]\ttrain's auc: 0.954382\ttest's auc: 0.775077\n",
      "[LightGBM] [Warning] No further splits with positive gain, best gain: -inf\n",
      "[30]\ttrain's auc: 0.955615\ttest's auc: 0.77291\n",
      "[LightGBM] [Warning] No further splits with positive gain, best gain: -inf\n",
      "[31]\ttrain's auc: 0.956761\ttest's auc: 0.777554\n",
      "[LightGBM] [Warning] No further splits with positive gain, best gain: -inf\n",
      "[32]\ttrain's auc: 0.958611\ttest's auc: 0.780031\n",
      "[LightGBM] [Warning] No further splits with positive gain, best gain: -inf\n",
      "[33]\ttrain's auc: 0.959941\ttest's auc: 0.781269\n",
      "[LightGBM] [Warning] No further splits with positive gain, best gain: -inf\n",
      "[34]\ttrain's auc: 0.960808\ttest's auc: 0.781269\n",
      "[LightGBM] [Warning] No further splits with positive gain, best gain: -inf\n",
      "[35]\ttrain's auc: 0.962812\ttest's auc: 0.78065\n",
      "[LightGBM] [Warning] No further splits with positive gain, best gain: -inf\n",
      "[36]\ttrain's auc: 0.964045\ttest's auc: 0.777245\n",
      "[LightGBM] [Warning] No further splits with positive gain, best gain: -inf\n",
      "[37]\ttrain's auc: 0.966087\ttest's auc: 0.774768\n",
      "[LightGBM] [Warning] No further splits with positive gain, best gain: -inf\n",
      "[38]\ttrain's auc: 0.96759\ttest's auc: 0.773994\n",
      "[LightGBM] [Warning] No further splits with positive gain, best gain: -inf\n",
      "[39]\ttrain's auc: 0.968168\ttest's auc: 0.775851\n",
      "[LightGBM] [Warning] No further splits with positive gain, best gain: -inf\n",
      "[40]\ttrain's auc: 0.969151\ttest's auc: 0.773375\n",
      "[LightGBM] [Warning] No further splits with positive gain, best gain: -inf\n",
      "[41]\ttrain's auc: 0.970057\ttest's auc: 0.76935\n",
      "[LightGBM] [Warning] No further splits with positive gain, best gain: -inf\n",
      "[42]\ttrain's auc: 0.97129\ttest's auc: 0.765635\n",
      "[LightGBM] [Warning] No further splits with positive gain, best gain: -inf\n",
      "[43]\ttrain's auc: 0.97181\ttest's auc: 0.765015\n",
      "[LightGBM] [Warning] No further splits with positive gain, best gain: -inf\n",
      "[44]\ttrain's auc: 0.973332\ttest's auc: 0.770898\n",
      "[LightGBM] [Warning] No further splits with positive gain, best gain: -inf\n",
      "[45]\ttrain's auc: 0.974142\ttest's auc: 0.772446\n",
      "[LightGBM] [Warning] No further splits with positive gain, best gain: -inf\n",
      "[46]\ttrain's auc: 0.975259\ttest's auc: 0.771207\n",
      "[LightGBM] [Warning] No further splits with positive gain, best gain: -inf\n",
      "[47]\ttrain's auc: 0.976454\ttest's auc: 0.772136\n",
      "[LightGBM] [Warning] No further splits with positive gain, best gain: -inf\n",
      "[48]\ttrain's auc: 0.977417\ttest's auc: 0.771517\n",
      "[LightGBM] [Warning] No further splits with positive gain, best gain: -inf\n",
      "[49]\ttrain's auc: 0.978092\ttest's auc: 0.771207\n",
      "[LightGBM] [Warning] No further splits with positive gain, best gain: -inf\n",
      "[50]\ttrain's auc: 0.978728\ttest's auc: 0.770898\n",
      "[LightGBM] [Warning] No further splits with positive gain, best gain: -inf\n",
      "[51]\ttrain's auc: 0.980115\ttest's auc: 0.769969\n",
      "[LightGBM] [Warning] No further splits with positive gain, best gain: -inf\n",
      "[52]\ttrain's auc: 0.980481\ttest's auc: 0.767802\n",
      "[LightGBM] [Warning] No further splits with positive gain, best gain: -inf\n",
      "[53]\ttrain's auc: 0.981136\ttest's auc: 0.768731\n",
      "[LightGBM] [Warning] No further splits with positive gain, best gain: -inf\n",
      "[54]\ttrain's auc: 0.982234\ttest's auc: 0.771827\n",
      "[LightGBM] [Warning] No further splits with positive gain, best gain: -inf\n",
      "[55]\ttrain's auc: 0.983005\ttest's auc: 0.769659\n",
      "[LightGBM] [Warning] No further splits with positive gain, best gain: -inf\n",
      "[56]\ttrain's auc: 0.983602\ttest's auc: 0.766873\n",
      "[LightGBM] [Warning] No further splits with positive gain, best gain: -inf\n",
      "[57]\ttrain's auc: 0.983853\ttest's auc: 0.765015\n",
      "[LightGBM] [Warning] No further splits with positive gain, best gain: -inf\n",
      "[58]\ttrain's auc: 0.984219\ttest's auc: 0.763158\n",
      "[LightGBM] [Warning] No further splits with positive gain, best gain: -inf\n",
      "[59]\ttrain's auc: 0.984816\ttest's auc: 0.763158\n",
      "[LightGBM] [Warning] No further splits with positive gain, best gain: -inf\n",
      "[60]\ttrain's auc: 0.985048\ttest's auc: 0.762539\n",
      "[LightGBM] [Warning] No further splits with positive gain, best gain: -inf\n",
      "[61]\ttrain's auc: 0.986088\ttest's auc: 0.767492\n",
      "[LightGBM] [Warning] No further splits with positive gain, best gain: -inf\n",
      "[62]\ttrain's auc: 0.986705\ttest's auc: 0.768111\n",
      "[LightGBM] [Warning] No further splits with positive gain, best gain: -inf\n",
      "[63]\ttrain's auc: 0.98736\ttest's auc: 0.768731\n",
      "[LightGBM] [Warning] No further splits with positive gain, best gain: -inf\n",
      "[64]\ttrain's auc: 0.988053\ttest's auc: 0.770588\n",
      "[LightGBM] [Warning] No further splits with positive gain, best gain: -inf\n",
      "[65]\ttrain's auc: 0.988092\ttest's auc: 0.770279\n",
      "[LightGBM] [Warning] No further splits with positive gain, best gain: -inf\n",
      "[66]\ttrain's auc: 0.988882\ttest's auc: 0.772446\n",
      "[LightGBM] [Warning] No further splits with positive gain, best gain: -inf\n",
      "[67]\ttrain's auc: 0.989325\ttest's auc: 0.773375\n",
      "[LightGBM] [Warning] No further splits with positive gain, best gain: -inf\n",
      "[68]\ttrain's auc: 0.98946\ttest's auc: 0.770279\n",
      "Early stopping, best iteration is:\n",
      "[18]\ttrain's auc: 0.926462\ttest's auc: 0.782508\n"
     ]
    }
   ],
   "source": [
    "lgbm_booster = lgbm.train(params = params, train_set = dtrain, \r\n",
    "                     num_boost_round = 3000, early_stopping_rounds = 50,\r\n",
    "                     valid_names = ['train', 'test'], valid_sets = [dtrain, dtest], \r\n",
    "                     verbose_eval = 1)"
   ]
  },
  {
   "cell_type": "code",
   "execution_count": 131,
   "metadata": {},
   "outputs": [
    {
     "data": {
      "text/plain": [
       "<matplotlib.axes._subplots.AxesSubplot at 0x1aa75788eb8>"
      ]
     },
     "execution_count": 131,
     "metadata": {},
     "output_type": "execute_result"
    },
    {
     "data": {
      "image/png": "[encoded data removed]",
      "text/plain": [
       "<Figure size 432x288 with 1 Axes>"
      ]
     },
     "metadata": {
      "needs_background": "light"
     },
     "output_type": "display_data"
    }
   ],
   "source": [
    "lgbm.plot_importance(lgbm_booster)"
   ]
  },
  {
   "cell_type": "code",
   "execution_count": null,
   "metadata": {},
   "outputs": [],
   "source": []
  }
 ],
 "metadata": {
  "interpreter": {
   "hash": "b1a04ee59ec921ddb3e5635046dfed80d8696fe74464fb78ba0384e12e4bb811"
  },
  "kernelspec": {
   "display_name": "Python 3.6.8 64-bit (conda)",
   "name": "python3"
  },
  "language_info": {
   "codemirror_mode": {
    "name": "ipython",
    "version": 3
   },
   "file_extension": ".py",
   "mimetype": "text/x-python",
   "name": "python",
   "nbconvert_exporter": "python",
   "pygments_lexer": "ipython3",
   "version": "3.6.8"
  },
  "orig_nbformat": 4
 },
 "nbformat": 4,
 "nbformat_minor": 2
}